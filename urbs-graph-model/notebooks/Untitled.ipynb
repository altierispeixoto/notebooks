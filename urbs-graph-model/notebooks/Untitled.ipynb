{
 "cells": [
  {
   "cell_type": "code",
   "execution_count": 7,
   "metadata": {},
   "outputs": [],
   "source": [
    "import findspark\n",
    "\n",
    "findspark.init()\n",
    "\n",
    "import pyspark\n",
    "import random\n",
    "from pyspark.conf import SparkConf\n",
    "from pyspark.context import SparkContext\n",
    "from pyspark.sql import SQLContext\n",
    "\n",
    "from src.database import UrbsNeo4JDatabase"
   ]
  },
  {
   "cell_type": "code",
   "execution_count": 8,
   "metadata": {},
   "outputs": [],
   "source": [
    "conf = SparkConf().setAppName(\"App\")\n",
    "conf = (conf.setMaster('local[*]')\n",
    "        .set('spark.executor.memory', '4G')\n",
    "        .set('spark.driver.memory', '30G')\n",
    "        .set('spark.driver.maxResultSize', '10G'))\n",
    "\n",
    "sc = SparkContext.getOrCreate(conf=conf)\n",
    "sqlContext = SQLContext(sc)\n",
    "\n",
    "processed_path = '/home/altieris/datascience/data/curitibaurbs/processed/'"
   ]
  },
  {
   "cell_type": "code",
   "execution_count": 11,
   "metadata": {},
   "outputs": [],
   "source": [
    "conn = UrbsNeo4JDatabase('bolt://172.17.0.2:7687', 'neo4j', 'neo4j2018')\n",
    "conn.delete_all()\n",
    "conn.close()"
   ]
  },
  {
   "cell_type": "code",
   "execution_count": 19,
   "metadata": {},
   "outputs": [],
   "source": [
    "def load_trechos_itinerarios():\n",
    "    trechosItinerarios = sqlContext.read.json(processed_path + 'trechositinerarios/')\n",
    "    trechosItinerarios.registerTempTable(\"trechos_itinerarios\")\n",
    "    return trechosItinerarios"
   ]
  },
  {
   "cell_type": "code",
   "execution_count": 20,
   "metadata": {},
   "outputs": [],
   "source": [
    "\n",
    "\n",
    "linhas = sqlContext.read.json(processed_path+'linhas/')\n",
    "linhas.registerTempTable(\"linhas\")\n",
    "\n",
    "pontosLinha = sqlContext.read.json(processed_path+'pontoslinha/')\n",
    "pontosLinha.registerTempTable(\"pontos_linha\")\n",
    "\n",
    "tabelaVeiculo = sqlContext.read.json(processed_path+'tabelaveiculo/')\n",
    "tabelaVeiculo.registerTempTable(\"tabela_veiculo\")\n",
    "\n",
    "tabelaLinha = sqlContext.read.json(processed_path+'tabelalinha/')\n",
    "tabelaLinha.registerTempTable(\"tabela_linha\")\n",
    "\n",
    "# position_events = sqlContext.read.json(processed_path+'veiculos/')\n",
    "# position_events.registerTempTable(\"veiculos\")\n"
   ]
  },
  {
   "cell_type": "code",
   "execution_count": 21,
   "metadata": {},
   "outputs": [],
   "source": [
    "##### EMPRESAS ONIBUS\n",
    "\n",
    "def create_empresas_onibus(trechosItinerarios):\n",
    "    conn = UrbsNeo4JDatabase('bolt://172.17.0.2:7687', 'neo4j', 'neo4j2018')\n",
    "    empresasOnibus = trechosItinerarios.select(\"COD_EMPRESA\", \"NOME_EMPRESA\").distinct()\n",
    "\n",
    "    empresas_df = empresasOnibus.toPandas()\n",
    "\n",
    "    [conn.create_bus_company(row['COD_EMPRESA'], row['NOME_EMPRESA']) for index, row in empresas_df.iterrows()]\n",
    "    conn.close()\n"
   ]
  },
  {
   "cell_type": "code",
   "execution_count": 22,
   "metadata": {},
   "outputs": [],
   "source": [
    "#### CATEGORIAS ONIBUS\n",
    "def create_categorias_onibus(trechosItinerarios):\n",
    "    conn = UrbsNeo4JDatabase('bolt://172.17.0.2:7687', 'neo4j', 'neo4j2018')\n",
    "    categoriasOnibus = trechosItinerarios.select('COD_CATEGORIA', 'NOME_CATEGORIA').distinct()\n",
    "\n",
    "    categorias_df = categoriasOnibus.toPandas()\n",
    "    [conn.create_bus_category(row['COD_CATEGORIA'], row['NOME_CATEGORIA']) for index, row in categorias_df.iterrows()]\n",
    "    conn.close()\n"
   ]
  },
  {
   "cell_type": "code",
   "execution_count": 23,
   "metadata": {},
   "outputs": [],
   "source": [
    "def extract_address(x):\n",
    "    return x.split('-')[0]\n",
    "\n",
    "\n",
    "def extract_neighborhood(x):\n",
    "    l = x.split('-')\n",
    "    if len(l) > 1:\n",
    "        return l[1]\n",
    "    return l[0]\n",
    "\n",
    "\n",
    "def create_bus_stops():\n",
    "    conn = UrbsNeo4JDatabase('bolt://172.17.0.2:7687', 'neo4j', 'neo4j2018')\n",
    "    pontos = sqlContext.sql(\"select distinct nome,num,tipo,lat,lon from pontos_linha where sourcedate = '2019-03-14' \")\n",
    "\n",
    "    pontos_df = pontos.toPandas()\n",
    "\n",
    "    pontos_df['address'] = pontos_df['nome'].map(lambda x: extract_address(x))\n",
    "    pontos_df['neighborhood'] = pontos_df['nome'].map(lambda x: extract_neighborhood(x))\n",
    "\n",
    "    [conn.create_bus_stop(row['nome'], row['num'], row['tipo'], row['lat'], row['lon'], row['address'],\n",
    "                          row['neighborhood']) for index, row in pontos_df.iterrows()]\n",
    "    conn.close()"
   ]
  },
  {
   "cell_type": "code",
   "execution_count": 24,
   "metadata": {},
   "outputs": [],
   "source": [
    "def create_routes():\n",
    "    conn = UrbsNeo4JDatabase('bolt://172.17.0.2:7687', 'neo4j', 'neo4j2018')\n",
    "\n",
    "    query_view_rota_sequenciada = \"CREATE OR REPLACE TEMPORARY VIEW rota_sequenciada AS  \" \\\n",
    "                                  \"select \tpseq.cod_linha,pseq.sentido_linha,pseq.seq_inicio,pseq.seq_fim,pseq.ponto_inicio,pseq.nome_ponto_inicio \" \\\n",
    "                                  \",pseq.ponto_final,pseq.nome_ponto_final,li.CATEGORIA_SERVICO as categoria_servico,li.NOME as nome_linha,li.NOME_COR as nome_cor,li.SOMENTE_CARTAO as somente_cartao \" \\\n",
    "                                  \",pseq.sourcedate \" \\\n",
    "                                  \"from (select \" \\\n",
    "                                  \"p1.COD as cod_linha \" \\\n",
    "                                  \",p1.SENTIDO  as sentido_linha \" \\\n",
    "                                  \",p1.SEQ      as seq_inicio \" \\\n",
    "                                  \",p2.SEQ      as seq_fim \" \\\n",
    "                                  \",p1.NUM      as ponto_inicio \" \\\n",
    "                                  \",p1.NOME     as nome_ponto_inicio \" \\\n",
    "                                  \",p2.NUM      as ponto_final \" \\\n",
    "                                  \",p2.NOME     as nome_ponto_final \" \\\n",
    "                                  \",p1.sourcedate \" \\\n",
    "                                  \"from pontos_linha P1 \" \\\n",
    "                                  \"inner join pontos_linha p2 on (p1.SEQ+1 = p2.SEQ and p1.COD = p2.COD and p1.SENTIDO = p2.SENTIDO and p1.sourcedate = p2.sourcedate) \" \\\n",
    "                                  \") pseq \" \\\n",
    "                                  \"inner join linhas       li on (pseq.cod_linha = li.COD and pseq.sourcedate = li.sourcedate) \" \\\n",
    "                                  \"order by pseq.cod_linha,pseq.sentido_linha,pseq.seq_inicio,pseq.seq_fim \"\n",
    "\n",
    "    sqlContext.sql(query_view_rota_sequenciada)\n",
    "\n",
    "    query_rota_sequenciada = \"select cod_linha,sentido_linha,ponto_inicio,nome_ponto_inicio,ponto_final,nome_ponto_final,categoria_servico,nome_linha,nome_cor,somente_cartao \" \\\n",
    "                             \"from rota_sequenciada where sourcedate ='2019-03-14' and ponto_inicio != ponto_final\"\n",
    "\n",
    "    rota_sequenciada = sqlContext.sql(query_rota_sequenciada)\n",
    "    rota_sequenciada_df = rota_sequenciada.toPandas()\n",
    "\n",
    "    [conn.create_bus_lines(row['ponto_inicio'], row['ponto_final'], row['cod_linha'], row['sentido_linha'], row['categoria_servico'], row['nome_linha'], row['nome_cor'],\n",
    "                           row['somente_cartao']) for index, row in rota_sequenciada_df.iterrows()]\n",
    "\n",
    "    conn.close()"
   ]
  },
  {
   "cell_type": "code",
   "execution_count": 25,
   "metadata": {},
   "outputs": [],
   "source": [
    "trechosItinerarios = load_trechos_itinerarios()\n",
    "create_empresas_onibus(trechosItinerarios)\n",
    "create_categorias_onibus(trechosItinerarios)\n",
    "create_bus_stops()\n",
    "create_routes()"
   ]
  },
  {
   "cell_type": "code",
   "execution_count": null,
   "metadata": {},
   "outputs": [],
   "source": []
  }
 ],
 "metadata": {
  "kernelspec": {
   "display_name": "Python 3",
   "language": "python",
   "name": "python3"
  },
  "language_info": {
   "codemirror_mode": {
    "name": "ipython",
    "version": 3
   },
   "file_extension": ".py",
   "mimetype": "text/x-python",
   "name": "python",
   "nbconvert_exporter": "python",
   "pygments_lexer": "ipython3",
   "version": "3.6.8"
  }
 },
 "nbformat": 4,
 "nbformat_minor": 2
}
