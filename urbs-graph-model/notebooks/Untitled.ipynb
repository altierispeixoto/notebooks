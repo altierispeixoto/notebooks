{
 "cells": [
  {
   "cell_type": "code",
   "execution_count": 4,
   "metadata": {},
   "outputs": [],
   "source": [
    "import findspark\n",
    "\n",
    "findspark.init()\n",
    "from pyspark.conf import SparkConf\n",
    "from pyspark.context import SparkContext\n",
    "from pyspark.sql import SQLContext\n",
    "\n",
    "from src.neo4jcrud  import UrbsNeo4JDatabase\n",
    "\n",
    "class DataLoader:\n",
    "\n",
    "    def __init__(self):\n",
    "        self.conf = SparkConf().setAppName(\"App\")\n",
    "        self.conf = (self.conf.setMaster('local[*]')\n",
    "                     .set('spark.executor.memory', '4G')\n",
    "                     .set('spark.driver.memory', '30G')\n",
    "                     .set('spark.driver.maxResultSize', '10G'))\n",
    "\n",
    "        self.sc = SparkContext.getOrCreate(conf=self.conf)\n",
    "        self.sqlContext = SQLContext(self.sc)\n",
    "\n",
    "    def load_data(self, src):\n",
    "        return self.sqlContext.read.parquet(src)\n",
    "\n",
    "\n",
    "    def create_empresas_onibus(self,trechosItinerarios,conn):\n",
    "\n",
    "        empresasOnibus = trechosItinerarios.select(\"COD_EMPRESA\", \"NOME_EMPRESA\").distinct()\n",
    "        empresas_df = empresasOnibus.toPandas()\n",
    "        [conn.create_bus_company(row['COD_EMPRESA'], row['NOME_EMPRESA']) for index, row in empresas_df.iterrows()]\n",
    "\n",
    "    #### CATEGORIAS ONIBUS\n",
    "    def create_categorias_onibus(self,trechosItinerarios,conn):\n",
    "        categoriasOnibus = trechosItinerarios.select('COD_CATEGORIA', 'NOME_CATEGORIA').distinct()\n",
    "\n",
    "        categorias_df = categoriasOnibus.toPandas()\n",
    "        [conn.create_bus_category(row['COD_CATEGORIA'], row['NOME_CATEGORIA']) for index, row in categorias_df.iterrows()]\n",
    "\n",
    "\n",
    "    def create_bus_stops(self, pontos_linha):\n",
    "\n",
    "        pontos = self.sqlContext.sql(\"select distinct nome,num,tipo,lat,lon from pontos_linha where sourcedate = '2019-03-14' \")\n",
    "\n",
    "        pontos_df = pontos.toPandas()\n",
    "\n",
    "        [conn.create_bus_stop(row['nome'], row['num'], row['tipo'], row['lat'], row['lon']) for index, row in pontos_df.iterrows()]\n",
    "\n",
    "\n",
    "\n",
    "if __name__ == '__main__':\n",
    "    NEO4J_URI = 'bolt://172.17.0.2:7687'\n",
    "    NEO4J_USER = 'neo4j'\n",
    "    NEO4J_PASSWORD = 'neo4j2018'\n",
    "\n",
    "    conn = UrbsNeo4JDatabase(NEO4J_URI, NEO4J_USER, NEO4J_PASSWORD)\n",
    "    \n",
    "\n",
    "    trechositinerarios_source_path = '/home/altieris/datascience/data/curitibaurbs/processed/trechositinerarios/'\n",
    "\n",
    "    # trechositinerarios = dataloader.load_data(trechositinerarios_source_path)\n",
    "    # dataloader.create_empresas_onibus(trechositinerarios, conn)\n",
    "    # dataloader.create_categorias_onibus(trechositinerarios, conn)\n",
    "\n",
    "   \n",
    "\n",
    "\n",
    "\n",
    "    conn.close()"
   ]
  },
  {
   "cell_type": "code",
   "execution_count": 5,
   "metadata": {},
   "outputs": [],
   "source": [
    "dataloader = DataLoader()\n",
    "pontos_linha_source_path = '/home/altieris/datascience/data/curitibaurbs/processed/pontoslinha/'\n",
    "pontos_linha = dataloader.load_data(pontos_linha_source_path)\n",
    "\n",
    "df = pontos_linha.select('filename').toPandas()"
   ]
  },
  {
   "cell_type": "code",
   "execution_count": 12,
   "metadata": {},
   "outputs": [
    {
     "data": {
      "text/plain": [
       "0    2019_03_20_pontosLinha.json\n",
       "1    2019_03_20_pontosLinha.json\n",
       "2    2019_03_20_pontosLinha.json\n",
       "3    2019_03_20_pontosLinha.json\n",
       "4    2019_03_20_pontosLinha.json\n",
       "Name: filename, dtype: object"
      ]
     },
     "execution_count": 12,
     "metadata": {},
     "output_type": "execute_result"
    }
   ],
   "source": [
    "df['filename'].map(lambda x : x.split('/')[10]).head()"
   ]
  },
  {
   "cell_type": "code",
   "execution_count": null,
   "metadata": {},
   "outputs": [],
   "source": []
  }
 ],
 "metadata": {
  "kernelspec": {
   "display_name": "Python 3",
   "language": "python",
   "name": "python3"
  },
  "language_info": {
   "codemirror_mode": {
    "name": "ipython",
    "version": 3
   },
   "file_extension": ".py",
   "mimetype": "text/x-python",
   "name": "python",
   "nbconvert_exporter": "python",
   "pygments_lexer": "ipython3",
   "version": "3.6.8"
  }
 },
 "nbformat": 4,
 "nbformat_minor": 2
}
