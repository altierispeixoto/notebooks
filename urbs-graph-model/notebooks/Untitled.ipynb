{
 "cells": [
  {
   "cell_type": "code",
   "execution_count": 8,
   "metadata": {},
   "outputs": [],
   "source": [
    "import findspark\n",
    "\n",
    "findspark.init()\n",
    "from pyspark.conf import SparkConf\n",
    "from pyspark.context import SparkContext\n",
    "from pyspark.sql import SQLContext\n",
    "\n",
    "from src.neo4jcrud  import UrbsNeo4JDatabase\n",
    "\n",
    "class DataLoader:\n",
    "\n",
    "    def __init__(self):\n",
    "        self.conf = SparkConf().setAppName(\"App\")\n",
    "        self.conf = (self.conf.setMaster('local[*]')\n",
    "                     .set('spark.executor.memory', '4G')\n",
    "                     .set('spark.driver.memory', '30G')\n",
    "                     .set('spark.driver.maxResultSize', '10G'))\n",
    "\n",
    "        self.sc = SparkContext.getOrCreate(conf=self.conf)\n",
    "        self.sqlContext = SQLContext(self.sc)\n",
    "\n",
    "    def load_data(self, src):\n",
    "        return self.sqlContext.read.parquet(src)\n",
    "\n",
    "\n",
    "    def create_empresas_onibus(self,trechosItinerarios,conn):\n",
    "\n",
    "        empresas_df = trechosItinerarios.select(\"COD_EMPRESA\", \"NOME_EMPRESA\").distinct().toPandas()\n",
    "        [conn.create_bus_company(row['COD_EMPRESA'], row['NOME_EMPRESA']) for index, row in empresas_df.iterrows()]\n",
    "\n",
    "    #### CATEGORIAS ONIBUS\n",
    "    def create_categorias_onibus(self,trechosItinerarios,conn):\n",
    "        categoriasOnibus = trechosItinerarios.select('COD_CATEGORIA', 'NOME_CATEGORIA').distinct()\n",
    "\n",
    "        categorias_df = categoriasOnibus.toPandas()\n",
    "        [conn.create_bus_category(row['COD_CATEGORIA'], row['NOME_CATEGORIA']) for index, row in categorias_df.iterrows()]\n",
    "\n",
    "\n",
    "    def create_bus_stops(self, pontos_linha, conn):\n",
    "\n",
    "        pontos_df = pontos_linha.select(['nome','num','tipo','lat','lon']).filter(\"year ='2019' and month='03' and day = '14'\").distinct().toPandas()\n",
    "\n",
    "        [conn.create_bus_stop(row['nome'], row['num'], row['tipo'], row['lat'], row['lon']) for index, row in pontos_df.iterrows()]\n",
    "    \n",
    "    \n",
    "    def create_routes(self,conn):\n",
    "    \n",
    "        linhas = self.sqlContext.read.parquet('/home/altieris/datascience/data/curitibaurbs/processed/linhas/')\n",
    "        linhas.registerTempTable(\"linhas\")\n",
    "\n",
    "        pontosLinha = self.sqlContext.read.parquet('/home/altieris/datascience/data/curitibaurbs/processed/pontoslinha/')\n",
    "        pontosLinha.registerTempTable(\"pontos_linha\")\n",
    "\n",
    "        query_view_rota_sequenciada = \"CREATE OR REPLACE TEMPORARY VIEW rota_sequenciada AS  \" \\\n",
    "                                      \"select \tpseq.cod_linha,pseq.sentido_linha,pseq.seq_inicio,pseq.seq_fim,pseq.ponto_inicio,pseq.nome_ponto_inicio \" \\\n",
    "                                      \",pseq.ponto_final,pseq.nome_ponto_final,li.CATEGORIA_SERVICO as categoria_servico,li.NOME as nome_linha,li.NOME_COR as nome_cor,li.SOMENTE_CARTAO as somente_cartao \" \\\n",
    "                                      \",pseq.year, pseq.month,pseq.day \" \\\n",
    "                                      \"from (select \" \\\n",
    "                                      \"p1.COD as cod_linha \" \\\n",
    "                                      \",p1.SENTIDO  as sentido_linha \" \\\n",
    "                                      \",p1.SEQ      as seq_inicio \" \\\n",
    "                                      \",p2.SEQ      as seq_fim \" \\\n",
    "                                      \",p1.NUM      as ponto_inicio \" \\\n",
    "                                      \",p1.NOME     as nome_ponto_inicio \" \\\n",
    "                                      \",p2.NUM      as ponto_final \" \\\n",
    "                                      \",p2.NOME     as nome_ponto_final \" \\\n",
    "                                      \",p1.year \" \\\n",
    "                                      \",p1.month \" \\\n",
    "                                      \",p1.day \" \\\n",
    "                                      \"from pontos_linha P1 \" \\\n",
    "                                      \"inner join pontos_linha p2 on (p1.SEQ+1 = p2.SEQ and p1.COD = p2.COD and p1.SENTIDO = p2.SENTIDO and p1.year = p2.year and p1.month=p2.month and p1.day=p2.day) \" \\\n",
    "                                      \") pseq \" \\\n",
    "                                      \"inner join linhas       li on (pseq.cod_linha = li.COD and pseq.year = li.year and pseq.month=li.month and pseq.day=li.day) \" \\\n",
    "                                      \"order by pseq.cod_linha,pseq.sentido_linha,pseq.seq_inicio,pseq.seq_fim \"\n",
    "\n",
    "        self.sqlContext.sql(query_view_rota_sequenciada)\n",
    "\n",
    "        query_rota_sequenciada = \"select cod_linha,sentido_linha,ponto_inicio,nome_ponto_inicio,ponto_final,nome_ponto_final,categoria_servico,nome_linha,nome_cor,somente_cartao \" \\\n",
    "                                 \"from rota_sequenciada where year ='2019' and month='03' and day='14' \"\n",
    "\n",
    "        rota_sequenciada = self.sqlContext.sql(query_rota_sequenciada)\n",
    "        rota_sequenciada_df = rota_sequenciada.toPandas()\n",
    "\n",
    "        [conn.create_bus_lines(row['ponto_inicio'], row['ponto_final'], row['cod_linha'], row['sentido_linha'], row['categoria_servico'], row['nome_linha'], row['nome_cor'],\n",
    "                               row['somente_cartao']) for index, row in rota_sequenciada_df.iterrows()]"
   ]
  },
  {
   "cell_type": "code",
   "execution_count": 2,
   "metadata": {},
   "outputs": [],
   "source": [
    "NEO4J_URI = 'bolt://172.17.0.2:7687'\n",
    "NEO4J_USER = 'neo4j'\n",
    "NEO4J_PASSWORD = 'neo4j2018'\n",
    "\n",
    "conn = UrbsNeo4JDatabase(NEO4J_URI, NEO4J_USER, NEO4J_PASSWORD)\n",
    "conn.delete_all()"
   ]
  },
  {
   "cell_type": "code",
   "execution_count": 9,
   "metadata": {},
   "outputs": [],
   "source": [
    "dataloader = DataLoader()"
   ]
  },
  {
   "cell_type": "code",
   "execution_count": null,
   "metadata": {},
   "outputs": [],
   "source": [
    "trechositinerarios_source_path = '/home/altieris/datascience/data/curitibaurbs/processed/trechositinerarios/'\n",
    "trechositinerarios = dataloader.load_data(trechositinerarios_source_path)\n",
    "dataloader.create_empresas_onibus(trechositinerarios, conn)\n",
    "dataloader.create_categorias_onibus(trechositinerarios, conn)"
   ]
  },
  {
   "cell_type": "code",
   "execution_count": 11,
   "metadata": {},
   "outputs": [],
   "source": [
    "pontos_linha_source_path = '/home/altieris/datascience/data/curitibaurbs/processed/pontoslinha/'\n",
    "pontos_linha = dataloader.load_data(pontos_linha_source_path)\n",
    "dataloader.create_bus_stops(pontos_linha,conn)"
   ]
  },
  {
   "cell_type": "code",
   "execution_count": 12,
   "metadata": {},
   "outputs": [],
   "source": [
    "dataloader.create_routes(conn)"
   ]
  },
  {
   "cell_type": "code",
   "execution_count": null,
   "metadata": {},
   "outputs": [],
   "source": [
    "conn.close()"
   ]
  },
  {
   "cell_type": "code",
   "execution_count": null,
   "metadata": {},
   "outputs": [],
   "source": []
  }
 ],
 "metadata": {
  "kernelspec": {
   "display_name": "Python 3",
   "language": "python",
   "name": "python3"
  },
  "language_info": {
   "codemirror_mode": {
    "name": "ipython",
    "version": 3
   },
   "file_extension": ".py",
   "mimetype": "text/x-python",
   "name": "python",
   "nbconvert_exporter": "python",
   "pygments_lexer": "ipython3",
   "version": "3.6.8"
  }
 },
 "nbformat": 4,
 "nbformat_minor": 2
}
