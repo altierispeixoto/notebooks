{
 "cells": [
  {
   "cell_type": "code",
   "execution_count": 1,
   "metadata": {},
   "outputs": [],
   "source": [
    "from src.neo4jdataloader import DataLoader\n",
    "import pyspark.sql.functions as functions\n",
    "import time\n",
    "import pandas as pd"
   ]
  },
  {
   "cell_type": "code",
   "execution_count": 2,
   "metadata": {},
   "outputs": [],
   "source": [
    "dataloader = DataLoader()"
   ]
  },
  {
   "cell_type": "code",
   "execution_count": 3,
   "metadata": {},
   "outputs": [],
   "source": [
    "target_path = '/home/altieris/datascience/data/curitibaurbs/neo4j/veiculos/'"
   ]
  },
  {
   "cell_type": "code",
   "execution_count": 4,
   "metadata": {},
   "outputs": [],
   "source": [
    "veiculos = dataloader.load_data(target_path)"
   ]
  },
  {
   "cell_type": "code",
   "execution_count": 5,
   "metadata": {},
   "outputs": [],
   "source": [
    "veiculos_df = veiculos.select('veic','cod_linha','date').distinct().toPandas()"
   ]
  },
  {
   "cell_type": "code",
   "execution_count": 6,
   "metadata": {},
   "outputs": [],
   "source": [
    "data_processed = pd.read_csv('tracker-data.tsv', sep='\\t',names=['veic','cod_linha','date'])"
   ]
  },
  {
   "cell_type": "code",
   "execution_count": 7,
   "metadata": {},
   "outputs": [],
   "source": [
    "veiculos_df = veiculos_df[~(veiculos_df.veic.isin(data_processed.veic) & veiculos_df.cod_linha.isin(data_processed.cod_linha) & veiculos_df.date.isin(data_processed.date))]"
   ]
  },
  {
   "cell_type": "code",
   "execution_count": null,
   "metadata": {},
   "outputs": [
    {
     "name": "stdout",
     "output_type": "stream",
     "text": [
      "Vehicle: HL325 - Line Code: 607\n",
      "Vehicle: HL305 - Line Code: 022\n"
     ]
    }
   ],
   "source": [
    "data = dict()\n",
    "\n",
    "for index, row in veiculos_df.iterrows():\n",
    "    dataloader.create_positions(veiculos,row['veic'],row['cod_linha'],row['date']) \n",
    "    dataloader.connect_events(row['veic'],row['cod_linha'],row['date'])\n",
    "    #dataloader.create_edge_properties(row['veic'],row['cod_linha'],row['date']) \n",
    "    \n",
    "    data['veic'] = row['veic']\n",
    "    data['cod_linha'] = row['cod_linha']\n",
    "    data['date'] = row['date']\n",
    "    \n",
    "    df = pd.DataFrame(data, index=[0])\n",
    "\n",
    "    df.to_csv('tracker-data.tsv', header=False, sep='\\t',index=False, mode='a')\n",
    "        \n",
    "    # Wait for 5 seconds\n",
    "    time.sleep(10)"
   ]
  },
  {
   "cell_type": "code",
   "execution_count": null,
   "metadata": {},
   "outputs": [],
   "source": []
  }
 ],
 "metadata": {
  "kernelspec": {
   "display_name": "Python 3",
   "language": "python",
   "name": "python3"
  },
  "language_info": {
   "codemirror_mode": {
    "name": "ipython",
    "version": 3
   },
   "file_extension": ".py",
   "mimetype": "text/x-python",
   "name": "python",
   "nbconvert_exporter": "python",
   "pygments_lexer": "ipython3",
   "version": "3.6.8"
  }
 },
 "nbformat": 4,
 "nbformat_minor": 2
}
