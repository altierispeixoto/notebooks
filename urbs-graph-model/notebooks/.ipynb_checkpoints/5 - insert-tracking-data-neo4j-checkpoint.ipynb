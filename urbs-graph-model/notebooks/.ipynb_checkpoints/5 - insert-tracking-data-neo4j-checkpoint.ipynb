{
 "cells": [
  {
   "cell_type": "code",
   "execution_count": null,
   "metadata": {},
   "outputs": [],
   "source": [
    "from src.neo4jdataloader import DataLoader\n",
    "import pyspark.sql.functions as functions\n",
    "import gc\n",
    "import time\n",
    "import pandas as pd"
   ]
  },
  {
   "cell_type": "code",
   "execution_count": null,
   "metadata": {},
   "outputs": [],
   "source": [
    "dataloader = DataLoader()"
   ]
  },
  {
   "cell_type": "code",
   "execution_count": null,
   "metadata": {},
   "outputs": [],
   "source": [
    "target_path = '/home/altieris/datascience/data/curitibaurbs/neo4j/veiculos/'"
   ]
  },
  {
   "cell_type": "code",
   "execution_count": null,
   "metadata": {},
   "outputs": [],
   "source": [
    "veiculos = dataloader.load_data(target_path)"
   ]
  },
  {
   "cell_type": "code",
   "execution_count": null,
   "metadata": {},
   "outputs": [],
   "source": [
    "veiculos_df = veiculos.select('veic','cod_linha','date').distinct().toPandas()"
   ]
  },
  {
   "cell_type": "code",
   "execution_count": null,
   "metadata": {},
   "outputs": [],
   "source": [
    "data = dict()\n",
    "\n",
    "for index, row in veiculos_df.iterrows():\n",
    "    dataloader.create_positions(veiculos,row['veic'],row['cod_linha'],row['date']) \n",
    "    dataloader.connect_events(row['veic'],row['cod_linha'],row['date'])\n",
    "    #dataloader.create_edge_properties(row['veic'],row['cod_linha'],row['date']) \n",
    "    \n",
    "    data['veic'] = row['veic']\n",
    "    data['cod_linha'] = row['cod_linha']\n",
    "    data['date'] = row['date']\n",
    "    \n",
    "    df = pd.DataFrame(data, index=[0])\n",
    "\n",
    "    df.to_csv('tracker-data.tsv', header=False, sep='\\t',index=False, mode='a')\n",
    "        \n",
    "    # Wait for 5 seconds\n",
    "    time.sleep(10)"
   ]
  }
 ],
 "metadata": {
  "kernelspec": {
   "display_name": "Python 3",
   "language": "python",
   "name": "python3"
  },
  "language_info": {
   "codemirror_mode": {
    "name": "ipython",
    "version": 3
   },
   "file_extension": ".py",
   "mimetype": "text/x-python",
   "name": "python",
   "nbconvert_exporter": "python",
   "pygments_lexer": "ipython3",
   "version": "3.6.8"
  }
 },
 "nbformat": 4,
 "nbformat_minor": 2
}
