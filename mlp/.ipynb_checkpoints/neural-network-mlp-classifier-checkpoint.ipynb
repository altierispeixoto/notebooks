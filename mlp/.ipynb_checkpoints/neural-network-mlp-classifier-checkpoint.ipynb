{
 "cells": [
  {
   "cell_type": "markdown",
   "metadata": {},
   "source": [
    "## Redes Neurais - Multilayer Perceptron "
   ]
  },
  {
   "cell_type": "markdown",
   "metadata": {},
   "source": [
    "#### Aluno: Altiéris Marcelino Peixoto"
   ]
  },
  {
   "cell_type": "markdown",
   "metadata": {},
   "source": [
    "##### Carregamento das bibliotecas utilizadas"
   ]
  },
  {
   "cell_type": "code",
   "execution_count": 40,
   "metadata": {
    "collapsed": true
   },
   "outputs": [],
   "source": [
    "import numpy as np\n",
    "import pandas as pd\n",
    "from sklearn.neural_network import MLPClassifier\n",
    "from sklearn.metrics import confusion_matrix\n",
    "from sklearn.model_selection import train_test_split\n",
    "import matplotlib.pyplot as plt\n",
    "from sklearn.model_selection import GridSearchCV\n",
    "from sklearn.metrics import accuracy_score"
   ]
  },
  {
   "cell_type": "code",
   "execution_count": 3,
   "metadata": {
    "collapsed": true
   },
   "outputs": [],
   "source": [
    "data_types = {\n",
    "    \"wti_variance\":\"float\",\n",
    "    \"wti_skewness\":\"float\",\n",
    "    \"wti_curtosis\":\"float\",\n",
    "    \"image_entropy\":\"float\",\n",
    "    \"class\":\"int\"\n",
    "}\n",
    "\n",
    "columns = [\"wti_variance\", \"wti_skewness\", \"wti_curtosis\", \"image_entropy\",\"class\"]\n",
    "\n",
    "dataset = pd.read_csv('dados_autent_bancaria.txt',dtype=data_types,names=columns)"
   ]
  },
  {
   "cell_type": "markdown",
   "metadata": {},
   "source": [
    "##### 1 - Definição do conjunto de treinamento e teste - (80,20)"
   ]
  },
  {
   "cell_type": "code",
   "execution_count": 4,
   "metadata": {
    "collapsed": true
   },
   "outputs": [],
   "source": [
    "X = dataset.drop('class', axis=1)\n",
    "y = dataset['class']"
   ]
  },
  {
   "cell_type": "code",
   "execution_count": 29,
   "metadata": {},
   "outputs": [],
   "source": [
    "from sklearn.model_selection import StratifiedShuffleSplit    \n",
    "\n",
    "sss = StratifiedShuffleSplit(train_size=0.90, n_splits=1, test_size=0.10, random_state=0)  \n",
    "\n",
    "for train_index, test_index in sss.split(X, y):\n",
    "    X_train, X_test = X.iloc[train_index], X.iloc[test_index]\n",
    "    y_train, y_test = y[train_index], y[test_index]"
   ]
  },
  {
   "cell_type": "code",
   "execution_count": 28,
   "metadata": {},
   "outputs": [
    {
     "data": {
      "text/html": [
       "<div>\n",
       "<style>\n",
       "    .dataframe thead tr:only-child th {\n",
       "        text-align: right;\n",
       "    }\n",
       "\n",
       "    .dataframe thead th {\n",
       "        text-align: left;\n",
       "    }\n",
       "\n",
       "    .dataframe tbody tr th {\n",
       "        vertical-align: top;\n",
       "    }\n",
       "</style>\n",
       "<table border=\"1\" class=\"dataframe\">\n",
       "  <thead>\n",
       "    <tr style=\"text-align: right;\">\n",
       "      <th></th>\n",
       "      <th>wti_variance</th>\n",
       "      <th>wti_skewness</th>\n",
       "      <th>wti_curtosis</th>\n",
       "      <th>image_entropy</th>\n",
       "    </tr>\n",
       "    <tr>\n",
       "      <th>class</th>\n",
       "      <th></th>\n",
       "      <th></th>\n",
       "      <th></th>\n",
       "      <th></th>\n",
       "    </tr>\n",
       "  </thead>\n",
       "  <tbody>\n",
       "    <tr>\n",
       "      <th>0</th>\n",
       "      <td>762</td>\n",
       "      <td>762</td>\n",
       "      <td>762</td>\n",
       "      <td>762</td>\n",
       "    </tr>\n",
       "    <tr>\n",
       "      <th>1</th>\n",
       "      <td>610</td>\n",
       "      <td>610</td>\n",
       "      <td>610</td>\n",
       "      <td>610</td>\n",
       "    </tr>\n",
       "  </tbody>\n",
       "</table>\n",
       "</div>"
      ],
      "text/plain": [
       "       wti_variance  wti_skewness  wti_curtosis  image_entropy\n",
       "class                                                         \n",
       "0               762           762           762            762\n",
       "1               610           610           610            610"
      ]
     },
     "execution_count": 28,
     "metadata": {},
     "output_type": "execute_result"
    }
   ],
   "source": [
    "dataset.groupby('class').count()"
   ]
  },
  {
   "cell_type": "code",
   "execution_count": 32,
   "metadata": {},
   "outputs": [
    {
     "data": {
      "text/plain": [
       "class\n",
       "0    77\n",
       "1    61\n",
       "Name: class, dtype: int64"
      ]
     },
     "execution_count": 32,
     "metadata": {},
     "output_type": "execute_result"
    }
   ],
   "source": [
    "y_test.groupby(y_test).count()"
   ]
  },
  {
   "cell_type": "markdown",
   "metadata": {},
   "source": [
    "##### 2 - Treinamento e otimização de parâmetros de uma rede Neural utilizando GridSearchCV"
   ]
  },
  {
   "cell_type": "code",
   "execution_count": 43,
   "metadata": {},
   "outputs": [
    {
     "data": {
      "text/plain": [
       "GridSearchCV(cv=3, error_score='raise',\n",
       "       estimator=MLPClassifier(activation='relu', alpha=0.0001, batch_size='auto', beta_1=0.9,\n",
       "       beta_2=0.999, early_stopping=True, epsilon=1e-08,\n",
       "       hidden_layer_sizes=(100,), learning_rate='adaptive',\n",
       "       learning_rate_init=1.0, max_iter=200, momentum=0.9,\n",
       "       nesterovs_momentum=True, power_t=0.5, random_state=42, shuffle=True,\n",
       "       solver='adam', tol=0.0001, validation_fraction=0.1, verbose=False,\n",
       "       warm_start=False),\n",
       "       fit_params=None, iid=True, n_jobs=-1,\n",
       "       param_grid=[{'activation': ['identity', 'logistic', 'tanh', 'relu'], 'solver': ['lbfgs', 'sgd', 'adam'], 'hidden_layer_sizes': [(1,), (2,), (3,), (4,), (5,), (6,)]}],\n",
       "       pre_dispatch='2*n_jobs', refit=True, return_train_score=True,\n",
       "       scoring='accuracy', verbose=0)"
      ]
     },
     "execution_count": 43,
     "metadata": {},
     "output_type": "execute_result"
    }
   ],
   "source": [
    "#  activation : {'identity', 'logistic', 'tanh', 'relu'}, default 'relu'\n",
    "#        Activation function for the hidden layer.\n",
    "#\n",
    "#        - 'identity', no-op activation, useful to implement linear bottleneck,\n",
    "#          returns f(x) = x\n",
    "#\n",
    "#        - 'logistic', the logistic sigmoid function,\n",
    "#          returns f(x) = 1 / (1 + exp(-x)).\n",
    "#\n",
    "#        - 'tanh', the hyperbolic tan function,\n",
    "#          returns f(x) = tanh(x).\n",
    "#\n",
    "#        - 'relu', the rectified linear unit function,\n",
    "#          returns f(x) = max(0, x)\n",
    "\n",
    "#  solver : {'lbfgs', 'sgd', 'adam'}, default 'adam'\n",
    "#        The solver for weight optimization.\n",
    "#\n",
    "#        - 'lbfgs' is an optimizer in the family of quasi-Newton methods.\n",
    "#\n",
    "#        - 'sgd' refers to stochastic gradient descent.\n",
    "#\n",
    "#        - 'adam' refers to a stochastic gradient-based optimizer proposed\n",
    "#          by Kingma, Diederik, and Jimmy Ba\n",
    "#\n",
    "#        Note: The default solver 'adam' works pretty well on relatively\n",
    "#        large datasets (with thousands of training samples or more) in terms of\n",
    "#        both training time and validation score.\n",
    "#        For small datasets, however, 'lbfgs' can converge faster and perform\n",
    "#        better.          \n",
    "#\n",
    "\n",
    "#  hidden_layer_sizes : tuple, length = n_layers - 2, default (100,)\n",
    "#        The ith element represents the number of neurons in the ith\n",
    "#        hidden layer.\n",
    "#\n",
    "\n",
    "#  momentum : float, default 0.9\n",
    "#        Momentum for gradient descent update. Should be between 0 and 1. Only\n",
    "#        used when solver='sgd'.\n",
    "\n",
    "#  batch_size : int, optional, default 'auto'\n",
    "#       Size of minibatches for stochastic optimizers.\n",
    "#        If the solver is 'lbfgs', the classifier will not use minibatch.\n",
    "#        When set to \"auto\", `batch_size=min(200, n_samples)`\n",
    "    \n",
    "#     learning_rate : {'constant', 'invscaling', 'adaptive'}, default 'constant'\n",
    "#        Learning rate schedule for weight updates.\n",
    "#\n",
    "#        - 'constant' is a constant learning rate given by\n",
    "#          'learning_rate_init'.\n",
    "#\n",
    "#        - 'invscaling' gradually decreases the learning rate ``learning_rate_``\n",
    "#          at each time step 't' using an inverse scaling exponent of 'power_t'.\n",
    "#          effective_learning_rate = learning_rate_init / pow(t, power_t)\n",
    "#\n",
    "#        - 'adaptive' keeps the learning rate constant to\n",
    "#          'learning_rate_init' as long as training loss keeps decreasing.\n",
    "#          Each time two consecutive epochs fail to decrease training loss by at\n",
    "#          least tol, or fail to increase validation score by at least tol if\n",
    "#          'early_stopping' is on, the current learning rate is divided by 5.\n",
    "#\n",
    "#        Only used when ``solver='sgd'``.\n",
    "#\n",
    "#    learning_rate_init : double, optional, default 0.001\n",
    "#        The initial learning rate used. It controls the step-size\n",
    "#        in updating the weights. Only used when solver='sgd' or 'adam'.\n",
    "\n",
    "#    shuffle : bool, optional, default True\n",
    "#        Whether to shuffle samples in each iteration. Only used when\n",
    "#        solver='sgd' or 'adam'.\n",
    "\n",
    "        \n",
    "param_grid = [\n",
    "        {\n",
    "            'activation' : ['identity', 'logistic', 'tanh', 'relu'],\n",
    "            'solver' : ['lbfgs', 'sgd', 'adam'],\n",
    "            'hidden_layer_sizes': [(1,),(2,),(3,),(4,),(5,),(6,)]\n",
    "        }\n",
    "       ]\n",
    "\n",
    "clf = GridSearchCV(\n",
    "      MLPClassifier(learning_rate='adaptive', \n",
    "                    learning_rate_init=1., \n",
    "                    early_stopping=True, \n",
    "                    shuffle=True\n",
    "                    ,random_state=42), param_grid, cv=3, n_jobs=-1, scoring='accuracy')\n",
    "\n",
    "clf.fit(X_train,y_train)"
   ]
  },
  {
   "cell_type": "code",
   "execution_count": 38,
   "metadata": {},
   "outputs": [
    {
     "name": "stdout",
     "output_type": "stream",
     "text": [
      "Best parameters set found on development set:\n",
      "{'activation': 'logistic', 'hidden_layer_sizes': (4,), 'solver': 'lbfgs'}\n"
     ]
    }
   ],
   "source": [
    "print(\"Best parameters set found on development set:\")\n",
    "print(clf.best_params_)"
   ]
  },
  {
   "cell_type": "markdown",
   "metadata": {},
   "source": [
    "##### 3 - Aplicação da Rede Neural treinada para predição do conjunto de teste"
   ]
  },
  {
   "cell_type": "code",
   "execution_count": 49,
   "metadata": {},
   "outputs": [],
   "source": [
    "y_pred = clf.predict(X_test)"
   ]
  },
  {
   "cell_type": "markdown",
   "metadata": {},
   "source": [
    "##### 4 - Acurária do classificador"
   ]
  },
  {
   "cell_type": "code",
   "execution_count": 51,
   "metadata": {},
   "outputs": [
    {
     "data": {
      "text/plain": [
       "1.0"
      ]
     },
     "execution_count": 51,
     "metadata": {},
     "output_type": "execute_result"
    }
   ],
   "source": [
    "accuracy_score(y_test, y_pred)"
   ]
  },
  {
   "cell_type": "markdown",
   "metadata": {},
   "source": [
    "##### 5 - Matriz de confusão"
   ]
  },
  {
   "cell_type": "code",
   "execution_count": 44,
   "metadata": {},
   "outputs": [
    {
     "data": {
      "text/plain": [
       "array([[77,  0],\n",
       "       [ 0, 61]])"
      ]
     },
     "execution_count": 44,
     "metadata": {},
     "output_type": "execute_result"
    }
   ],
   "source": [
    "confusion_matrix(y_test, y_pred)"
   ]
  },
  {
   "cell_type": "code",
   "execution_count": 45,
   "metadata": {},
   "outputs": [
    {
     "data": {
      "text/html": [
       "<div>\n",
       "<style>\n",
       "    .dataframe thead tr:only-child th {\n",
       "        text-align: right;\n",
       "    }\n",
       "\n",
       "    .dataframe thead th {\n",
       "        text-align: left;\n",
       "    }\n",
       "\n",
       "    .dataframe tbody tr th {\n",
       "        vertical-align: top;\n",
       "    }\n",
       "</style>\n",
       "<table border=\"1\" class=\"dataframe\">\n",
       "  <thead>\n",
       "    <tr style=\"text-align: right;\">\n",
       "      <th>Predicted</th>\n",
       "      <th>0</th>\n",
       "      <th>1</th>\n",
       "      <th>All</th>\n",
       "    </tr>\n",
       "    <tr>\n",
       "      <th>True</th>\n",
       "      <th></th>\n",
       "      <th></th>\n",
       "      <th></th>\n",
       "    </tr>\n",
       "  </thead>\n",
       "  <tbody>\n",
       "    <tr>\n",
       "      <th>0</th>\n",
       "      <td>77</td>\n",
       "      <td>0</td>\n",
       "      <td>77</td>\n",
       "    </tr>\n",
       "    <tr>\n",
       "      <th>1</th>\n",
       "      <td>0</td>\n",
       "      <td>61</td>\n",
       "      <td>61</td>\n",
       "    </tr>\n",
       "    <tr>\n",
       "      <th>All</th>\n",
       "      <td>77</td>\n",
       "      <td>61</td>\n",
       "      <td>138</td>\n",
       "    </tr>\n",
       "  </tbody>\n",
       "</table>\n",
       "</div>"
      ],
      "text/plain": [
       "Predicted   0   1  All\n",
       "True                  \n",
       "0          77   0   77\n",
       "1           0  61   61\n",
       "All        77  61  138"
      ]
     },
     "execution_count": 45,
     "metadata": {},
     "output_type": "execute_result"
    }
   ],
   "source": [
    "pd.crosstab(y_test, y_pred, rownames=['True'], colnames=['Predicted'], margins=True)"
   ]
  }
 ],
 "metadata": {
  "kernelspec": {
   "display_name": "Python 3",
   "language": "python",
   "name": "python3"
  },
  "language_info": {
   "codemirror_mode": {
    "name": "ipython",
    "version": 3
   },
   "file_extension": ".py",
   "mimetype": "text/x-python",
   "name": "python",
   "nbconvert_exporter": "python",
   "pygments_lexer": "ipython3",
   "version": "3.6.3"
  }
 },
 "nbformat": 4,
 "nbformat_minor": 2
}
