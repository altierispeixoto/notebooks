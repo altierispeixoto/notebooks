{
 "cells": [
  {
   "cell_type": "code",
   "execution_count": 17,
   "metadata": {},
   "outputs": [],
   "source": [
    "import warnings\n",
    "import numpy as np\n",
    "import pandas as pd\n",
    "import lightgbm as lgb\n",
    "from sklearn.metrics import mean_squared_error\n",
    "from sklearn.metrics import roc_auc_score\n",
    "from sklearn.model_selection import StratifiedKFold\n",
    "warnings.filterwarnings('ignore')\n",
    "import time"
   ]
  },
  {
   "cell_type": "code",
   "execution_count": 11,
   "metadata": {},
   "outputs": [],
   "source": [
    "train_df = pd.read_csv('/home/altieris/datascience/data/santander-customer-transaction-prediction/train.csv')\n",
    "test_df = pd.read_csv('/home/altieris/datascience/data/santander-customer-transaction-prediction/test.csv')"
   ]
  },
  {
   "cell_type": "code",
   "execution_count": 19,
   "metadata": {},
   "outputs": [],
   "source": [
    "param = {\n",
    "    'bagging_freq': 5,          \n",
    "    'bagging_fraction': 0.32,   \n",
    "    'boost_from_average':'false',   \n",
    "    'boost': 'gbdt',\n",
    "    'feature_fraction': 0.035,   \n",
    "    'learning_rate': 0.008,     \n",
    "    'max_depth': -1,                \n",
    "    'metric':'auc',\n",
    "    'min_data_in_leaf': 80,     \n",
    "    'min_sum_hessian_in_leaf': 10.0,\n",
    "    'num_leaves': 13,           \n",
    "    'num_threads': 8,\n",
    "    'tree_learner': 'serial',   \n",
    "    'objective': 'binary',   \n",
    "    'device' : \"gpu\",\n",
    "    'gpu_platform_id': 0,\n",
    "    'gpu_device_id':0,\n",
    "    'max_bin': 63,\n",
    "    'gpuusedp': 'false',\n",
    "    'verbosity': 1\n",
    "}"
   ]
  },
  {
   "cell_type": "raw",
   "metadata": {},
   "source": [
    "num_leaves = 255\n",
    "num_iterations = 500\n",
    "learning_rate = 0.1\n",
    "tree_learner = serial\n",
    "task = train\n",
    "is_training_metric = false\n",
    "min_data_in_leaf = 1\n",
    "min_sum_hessian_in_leaf = 100\n",
    "ndcg_eval_at = 1,3,5,10\n",
    "sparse_threshold=1.0\n",
    "\n",
    "\n",
    "num_thread = 28"
   ]
  },
  {
   "cell_type": "code",
   "execution_count": null,
   "metadata": {},
   "outputs": [
    {
     "name": "stdout",
     "output_type": "stream",
     "text": [
      "Fold 0 started at Tue Mar 12 19:23:49 2019\n",
      "Training until validation scores don't improve for 3500 rounds.\n"
     ]
    }
   ],
   "source": [
    "features = [c for c in train_df.columns if c not in ['ID_code', 'target']]\n",
    "target = train_df['target']\n",
    "\n",
    "\n",
    "num_round = 1000000\n",
    "folds = StratifiedKFold(n_splits=12, shuffle=False, random_state=44000)\n",
    "oof = np.zeros(len(train_df))\n",
    "predictions = np.zeros(len(test_df))\n",
    "for fold_, (trn_idx, val_idx) in enumerate(folds.split(train_df.values, target.values)):\n",
    "    print('Fold', fold_, 'started at', time.ctime())\n",
    "        \n",
    "    trn_data = lgb.Dataset(train_df.iloc[trn_idx][features], label=target.iloc[trn_idx])\n",
    "    val_data = lgb.Dataset(train_df.iloc[val_idx][features], label=target.iloc[val_idx])\n",
    "    \n",
    "    clf = lgb.train(param, trn_data, num_round, valid_sets = [trn_data, val_data], verbose_eval=1000, early_stopping_rounds = 3500)\n",
    "    \n",
    "    oof[val_idx] = clf.predict(train_df.iloc[val_idx][features], num_iteration=clf.best_iteration)\n",
    "    predictions += clf.predict(test_df[features], num_iteration=clf.best_iteration) / folds.n_splits\n",
    "\n",
    "print(\"CV score: {:<8.5f}\".format(roc_auc_score(target, oof)))"
   ]
  },
  {
   "cell_type": "code",
   "execution_count": 6,
   "metadata": {},
   "outputs": [],
   "source": [
    "sub = pd.DataFrame({\"ID_code\": test_df.ID_code.values})\n",
    "sub[\"target\"] = predictions\n",
    "sub.to_csv(\"submission.csv\", index=False)"
   ]
  },
  {
   "cell_type": "code",
   "execution_count": 21,
   "metadata": {},
   "outputs": [
    {
     "data": {
      "text/plain": [
       "0.9000942500000001"
      ]
     },
     "execution_count": 21,
     "metadata": {},
     "output_type": "execute_result"
    }
   ],
   "source": [
    "(\n",
    "0.899503\n",
    "+0.89834\n",
    "+0.89008\n",
    "+0.904471 #\n",
    "+0.892163\n",
    "+0.898884\n",
    "+0.900963 #\n",
    "+0.901991 #\n",
    "+0.896475\n",
    "+0.903261 #\n",
    "+0.909    #\n",
    "+0.906)/12"
   ]
  },
  {
   "cell_type": "code",
   "execution_count": null,
   "metadata": {},
   "outputs": [],
   "source": []
  }
 ],
 "metadata": {
  "kernelspec": {
   "display_name": "Python 3",
   "language": "python",
   "name": "python3"
  },
  "language_info": {
   "codemirror_mode": {
    "name": "ipython",
    "version": 3
   },
   "file_extension": ".py",
   "mimetype": "text/x-python",
   "name": "python",
   "nbconvert_exporter": "python",
   "pygments_lexer": "ipython3",
<<<<<<< HEAD
   "version": "3.7.1"
=======
   "version": "3.6.8"
>>>>>>> a6839a69d4d852149f0d902ad78a9444008b8b36
  }
 },
 "nbformat": 4,
 "nbformat_minor": 2
}
