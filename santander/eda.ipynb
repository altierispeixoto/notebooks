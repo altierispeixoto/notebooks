{
 "cells": [
  {
   "cell_type": "markdown",
   "metadata": {
    "_cell_guid": "79c7e3d0-c299-4dcb-8224-4455121ee9b0",
    "_uuid": "d629ff2d2480ee46fbb7e2d37f6b5fab8052498a"
   },
   "source": [
    " <a id=\"top\"></a> <br>\n",
    "## Notebook  Content\n",
    "1. [Introduction](#1)\n",
    "1. [Load packages](#2)\n",
    "    1. [import](21)\n",
    "    1. [Setup](22)\n",
    "    1. [Version](23)\n",
    "1. [Problem Definition](#3)\n",
    "    1. [Problem Feature](#31)\n",
    "    1. [Aim](#32)\n",
    "    1. [Variables](#33)\n",
    "    1. [Evaluation](#34)\n",
    "1. [Exploratory Data Analysis(EDA)](#4)\n",
    "    1. [Data Collection](#41)\n",
    "    1. [Visualization](#42)\n",
    "    1. [Data Preprocessing](#43)\n",
    "1. [Machine Learning Explainability for Santander](#5)\n",
    "    1. [Permutation Importance](#51)\n",
    "    1. [How to calculate and show importances?](#52)\n",
    "    1. [What can be inferred from the above?](#53)\n",
    "    1. [Partial Dependence Plots](#54)\n",
    "1. [Model Development](#6)\n",
    "    1. [lightgbm](#61)\n",
    "    1. [RandomForestClassifier](#62)\n",
    "    1. [DecisionTreeClassifier](#63)\n",
    "    1. [CatBoostClassifier](#64)\n",
    "    1. [Funny Combine](#65)\n",
    "1. [References](#7)"
   ]
  },
  {
   "cell_type": "markdown",
   "metadata": {
    "_uuid": "af63d485947264b68c37768c73ffac21bb631c0f"
   },
   "source": [
    " <a id=\"1\"></a> <br>\n",
    "## 1- Introduction\n",
    "At [Santander](https://www.santanderbank.com) their mission is to help people and businesses prosper. they are always looking for ways to help our customers understand their financial health and identify which products and services might help them achieve their monetary goals.\n",
    "<img src='https://www.smava.de/kredit/wp-content/uploads/2015/12/santander-bank.png' width=400 height=400>\n",
    "\n",
    "In this kernel we are going to create a **Machine Learning Explainability** for **Santander** based this perfect [course](https://www.kaggle.com/learn/machine-learning-explainability) in kaggle.\n",
    "><font color=\"red\"><b>Note: </b></font>\n",
    "how to extract **insights** from models?"
   ]
  },
  {
   "cell_type": "markdown",
   "metadata": {
    "_uuid": "477c78003f7e8a9fa7c83a2e61950f316cc2d26f"
   },
   "source": [
    "<a id=\"2\"></a> <br>\n",
    "## 2- A Data Science Workflow for Santander \n",
    "Of course, the same solution can not be provided for all problems, so the best way is to create a **general framework** and adapt it to new problem.\n",
    "\n",
    "**You can see my workflow in the below image** :\n",
    "\n",
    " <img src=\"http://s8.picofile.com/file/8342707700/workflow2.png\"  />\n",
    "\n",
    "**You should feel free\tto\tadjust \tthis\tchecklist \tto\tyour needs**\n",
    "###### [Go to top](#top)"
   ]
  },
  {
   "cell_type": "markdown",
   "metadata": {
    "_uuid": "733f1f0e45933f46a674df4d9ee6561de156d748"
   },
   "source": [
    " <a id=\"2\"></a> <br>\n",
    " ## 2- Load packages\n",
    "  <a id=\"21\"></a> <br>\n",
    "## 2-1 Import"
   ]
  },
  {
   "cell_type": "code",
   "execution_count": 1,
   "metadata": {
    "_kg_hide-input": true,
    "_uuid": "7646c73810d475601436c096d36498cfaa489ec4"
   },
   "outputs": [],
   "source": [
    "from IPython.display import display\n",
    "import matplotlib.patches as patch\n",
    "import matplotlib.pyplot as plt\n",
    "from sklearn.svm import NuSVR\n",
    "from scipy.stats import norm\n",
    "from sklearn import svm\n",
    "import seaborn as sns\n",
    "import pandas as pd\n",
    "import warnings\n",
    "import glob\n",
    "import sys\n",
    "import os\n",
    "import gc"
   ]
  },
  {
   "cell_type": "markdown",
   "metadata": {
    "_uuid": "ec9e63f88e677ed60bfe5a8de4bb0b2a8be8b00a"
   },
   "source": [
    " <a id=\"22\"></a> <br>\n",
    "##  2-2 Setup"
   ]
  },
  {
   "cell_type": "code",
   "execution_count": 2,
   "metadata": {
    "_kg_hide-input": true,
    "_uuid": "16768a965c3ced6a76d33642e11ecae18f5977e8"
   },
   "outputs": [],
   "source": [
    "%matplotlib inline\n",
    "%precision 4\n",
    "warnings.filterwarnings('ignore')\n",
    "plt.style.use('ggplot')\n",
    "np.set_printoptions(suppress=True)\n",
    "pd.set_option(\"display.precision\", 15)"
   ]
  },
  {
   "cell_type": "markdown",
   "metadata": {
    "_uuid": "9bcec14c7403174f2a9fdab866ea8248aa76328d"
   },
   "source": [
    " <a id=\"23\"></a> <br>\n",
    "## 2-3 Version\n"
   ]
  },
  {
   "cell_type": "code",
   "execution_count": 3,
   "metadata": {
    "_kg_hide-input": true,
    "_uuid": "4644581a5ce6c2c98ec2668a95037742b189c318"
   },
   "outputs": [
    {
     "name": "stdout",
     "output_type": "stream",
     "text": [
      "pandas: 0.23.4\n",
      "numpy: 1.15.4\n",
      "Python: 3.7.1 (default, Dec 14 2018, 19:28:38) \n",
      "[GCC 7.3.0]\n"
     ]
    }
   ],
   "source": [
    "print('pandas: {}'.format(pd.__version__))\n",
    "print('numpy: {}'.format(np.__version__))\n",
    "print('Python: {}'.format(sys.version))"
   ]
  },
  {
   "cell_type": "markdown",
   "metadata": {
    "_uuid": "ccfe7d54dac0cf31125a49b1981d25a69e679db0"
   },
   "source": [
    "<a id=\"3\"></a> \n",
    "<br>\n",
    "## 3- Problem Definition\n",
    "In this **challenge**, we should help this **bank**  identify which **customers** will make a **specific transaction** in the future, irrespective of the amount of money transacted. The data provided for this competition has the same structure as the real data we have available to solve this **problem**.\n"
   ]
  },
  {
   "cell_type": "markdown",
   "metadata": {
    "_uuid": "dc84d5445dab932c46e2c5dfe86f2131e98aa0f1"
   },
   "source": [
    "<a id=\"31\"></a> \n",
    "### 3-1 Problem Feature\n",
    "\n",
    "1. train.csv - the training set.\n",
    "1. test.csv - the test set. The test set contains some rows which are not included in scoring.\n",
    "1. sample_submission.csv - a sample submission file in the correct format.\n"
   ]
  },
  {
   "cell_type": "markdown",
   "metadata": {
    "_uuid": "449535074de09edf5cdccb5a63539661fff29be6"
   },
   "source": [
    "<a id=\"32\"></a> \n",
    "### 3-2 Aim\n",
    "In this competition, The task is to predict the value of **target** column in the test set."
   ]
  },
  {
   "cell_type": "markdown",
   "metadata": {
    "_uuid": "184d1004ff1f90fdf9d475cbb37ea94b89dd2567"
   },
   "source": [
    "<a id=\"33\"></a> \n",
    "### 3-3 Variables\n",
    "\n",
    "We are provided with an **anonymized dataset containing numeric feature variables**, the binary **target** column, and a string **ID_code** column.\n",
    "\n",
    "The task is to predict the value of **target column** in the test set.\n"
   ]
  },
  {
   "cell_type": "markdown",
   "metadata": {
    "_uuid": "81b77e49bae78bad2c31bc2ce101c1fff8296af0"
   },
   "source": [
    "<a id=\"34\"></a> \n",
    "## 3-4 evaluation\n",
    "**Submissions** are evaluated on area under the [ROC curve](http://en.wikipedia.org/wiki/Receiver_operating_characteristic) between the predicted probability and the observed target.\n",
    "<img src='https://upload.wikimedia.org/wikipedia/commons/6/6b/Roccurves.png' width=300 height=300>"
   ]
  },
  {
   "cell_type": "code",
   "execution_count": 4,
   "metadata": {
    "_uuid": "9ba4b5a56a9c67899ed54c7e4dad0930ce90fbfa"
   },
   "outputs": [],
   "source": [
    "from sklearn.metrics import roc_auc_score, roc_curve"
   ]
  },
  {
   "cell_type": "markdown",
   "metadata": {
    "_uuid": "f8a54abda5d2e30c5cdb25c554bef1f8a341482c"
   },
   "source": [
    "<a id=\"4\"></a> \n",
    "## 4- Exploratory Data Analysis(EDA)\n",
    " In this section, we'll analysis how to use graphical and numerical techniques to begin uncovering the structure of your data. \n",
    "*  Data Collection\n",
    "*  Visualization\n",
    "*  Data Preprocessing\n",
    "*  Data Cleaning\n",
    "<img src=\"http://s9.picofile.com/file/8338476134/EDA.png\" width=400 height=400>"
   ]
  },
  {
   "cell_type": "markdown",
   "metadata": {
    "_uuid": "c90af9d21a49adcbd478c56871149f1282c58b7f"
   },
   "source": [
    " <a id=\"41\"></a> <br>\n",
    "## 4-1 Data Collection"
   ]
  },
  {
   "cell_type": "code",
   "execution_count": 5,
   "metadata": {
    "_kg_hide-input": true,
    "_uuid": "1c883e09dbe7e4b4d7caeb2cf380ec0f07209531"
   },
   "outputs": [
    {
     "name": "stdout",
     "output_type": "stream",
     "text": [
      "['train.csv', 'sample_submission.csv', 'test.csv']\n"
     ]
    }
   ],
   "source": [
    "print(os.listdir(\"/home/altieris/datascience/data/santander-customer-transaction-prediction/\"))"
   ]
  },
  {
   "cell_type": "code",
   "execution_count": 6,
   "metadata": {
    "_kg_hide-input": true,
    "_uuid": "7427d2d9ce7dff9d63a355631a1718a6fb6c5847"
   },
   "outputs": [],
   "source": [
    "# import Dataset to play with it\n",
    "train= pd.read_csv(\"/home/altieris/datascience/data/santander-customer-transaction-prediction/train.csv\")\n",
    "test = pd.read_csv('/home/altieris/datascience/data/santander-customer-transaction-prediction/test.csv')"
   ]
  },
  {
   "cell_type": "code",
   "execution_count": 7,
   "metadata": {
    "_kg_hide-input": true,
    "_uuid": "9be60393f64121beb23124bdec3cef638436e788"
   },
   "outputs": [
    {
     "data": {
      "text/html": [
       "<div>\n",
       "<style scoped>\n",
       "    .dataframe tbody tr th:only-of-type {\n",
       "        vertical-align: middle;\n",
       "    }\n",
       "\n",
       "    .dataframe tbody tr th {\n",
       "        vertical-align: top;\n",
       "    }\n",
       "\n",
       "    .dataframe thead th {\n",
       "        text-align: right;\n",
       "    }\n",
       "</style>\n",
       "<table border=\"1\" class=\"dataframe\">\n",
       "  <thead>\n",
       "    <tr style=\"text-align: right;\">\n",
       "      <th></th>\n",
       "      <th>ID_code</th>\n",
       "      <th>target</th>\n",
       "    </tr>\n",
       "  </thead>\n",
       "  <tbody>\n",
       "    <tr>\n",
       "      <th>0</th>\n",
       "      <td>test_0</td>\n",
       "      <td>0</td>\n",
       "    </tr>\n",
       "    <tr>\n",
       "      <th>1</th>\n",
       "      <td>test_1</td>\n",
       "      <td>0</td>\n",
       "    </tr>\n",
       "    <tr>\n",
       "      <th>2</th>\n",
       "      <td>test_2</td>\n",
       "      <td>0</td>\n",
       "    </tr>\n",
       "    <tr>\n",
       "      <th>3</th>\n",
       "      <td>test_3</td>\n",
       "      <td>0</td>\n",
       "    </tr>\n",
       "    <tr>\n",
       "      <th>4</th>\n",
       "      <td>test_4</td>\n",
       "      <td>0</td>\n",
       "    </tr>\n",
       "  </tbody>\n",
       "</table>\n",
       "</div>"
      ],
      "text/plain": [
       "  ID_code  target\n",
       "0  test_0       0\n",
       "1  test_1       0\n",
       "2  test_2       0\n",
       "3  test_3       0\n",
       "4  test_4       0"
      ]
     },
     "execution_count": 7,
     "metadata": {},
     "output_type": "execute_result"
    }
   ],
   "source": [
    "sample_submission = pd.read_csv('/home/altieris/datascience/data/santander-customer-transaction-prediction/sample_submission.csv')\n",
    "sample_submission.head()"
   ]
  },
  {
   "cell_type": "code",
   "execution_count": 8,
   "metadata": {
    "_uuid": "6acf9a55418407ab1da0e7a8c4e1f540a2618ac3"
   },
   "outputs": [
    {
     "data": {
      "text/plain": [
       "((200000, 202), (200000, 201), (200000, 2))"
      ]
     },
     "execution_count": 8,
     "metadata": {},
     "output_type": "execute_result"
    }
   ],
   "source": [
    "train.shape, test.shape, sample_submission.shape"
   ]
  },
  {
   "cell_type": "code",
   "execution_count": 9,
   "metadata": {
    "_kg_hide-input": true,
    "_uuid": "1d054476a562f14b8d7e88fd2a8ea3b7b70c371c"
   },
   "outputs": [
    {
     "data": {
      "text/html": [
       "<div>\n",
       "<style scoped>\n",
       "    .dataframe tbody tr th:only-of-type {\n",
       "        vertical-align: middle;\n",
       "    }\n",
       "\n",
       "    .dataframe tbody tr th {\n",
       "        vertical-align: top;\n",
       "    }\n",
       "\n",
       "    .dataframe thead th {\n",
       "        text-align: right;\n",
       "    }\n",
       "</style>\n",
       "<table border=\"1\" class=\"dataframe\">\n",
       "  <thead>\n",
       "    <tr style=\"text-align: right;\">\n",
       "      <th></th>\n",
       "      <th>ID_code</th>\n",
       "      <th>target</th>\n",
       "      <th>var_0</th>\n",
       "      <th>var_1</th>\n",
       "      <th>var_2</th>\n",
       "      <th>var_3</th>\n",
       "      <th>var_4</th>\n",
       "      <th>var_5</th>\n",
       "      <th>var_6</th>\n",
       "      <th>var_7</th>\n",
       "      <th>...</th>\n",
       "      <th>var_190</th>\n",
       "      <th>var_191</th>\n",
       "      <th>var_192</th>\n",
       "      <th>var_193</th>\n",
       "      <th>var_194</th>\n",
       "      <th>var_195</th>\n",
       "      <th>var_196</th>\n",
       "      <th>var_197</th>\n",
       "      <th>var_198</th>\n",
       "      <th>var_199</th>\n",
       "    </tr>\n",
       "  </thead>\n",
       "  <tbody>\n",
       "    <tr>\n",
       "      <th>0</th>\n",
       "      <td>train_0</td>\n",
       "      <td>0</td>\n",
       "      <td>8.925500000000000</td>\n",
       "      <td>-6.7863</td>\n",
       "      <td>11.908099999999999</td>\n",
       "      <td>5.093000000000000</td>\n",
       "      <td>11.460699999999999</td>\n",
       "      <td>-9.2834</td>\n",
       "      <td>5.1187</td>\n",
       "      <td>18.626600000000000</td>\n",
       "      <td>...</td>\n",
       "      <td>4.4354</td>\n",
       "      <td>3.9642</td>\n",
       "      <td>3.1364</td>\n",
       "      <td>1.691000000000000</td>\n",
       "      <td>18.522700000000000</td>\n",
       "      <td>-2.3978</td>\n",
       "      <td>7.8784</td>\n",
       "      <td>8.563499999999999</td>\n",
       "      <td>12.780300000000000</td>\n",
       "      <td>-1.091400000000000</td>\n",
       "    </tr>\n",
       "    <tr>\n",
       "      <th>1</th>\n",
       "      <td>train_1</td>\n",
       "      <td>0</td>\n",
       "      <td>11.500600000000000</td>\n",
       "      <td>-4.1473</td>\n",
       "      <td>13.858800000000000</td>\n",
       "      <td>5.388999999999999</td>\n",
       "      <td>12.362200000000000</td>\n",
       "      <td>7.0433</td>\n",
       "      <td>5.6208</td>\n",
       "      <td>16.533799999999999</td>\n",
       "      <td>...</td>\n",
       "      <td>7.6421</td>\n",
       "      <td>7.7214</td>\n",
       "      <td>2.5837</td>\n",
       "      <td>10.951599999999999</td>\n",
       "      <td>15.430500000000000</td>\n",
       "      <td>2.0339</td>\n",
       "      <td>8.1267</td>\n",
       "      <td>8.788900000000000</td>\n",
       "      <td>18.355999999999998</td>\n",
       "      <td>1.951800000000000</td>\n",
       "    </tr>\n",
       "    <tr>\n",
       "      <th>2</th>\n",
       "      <td>train_2</td>\n",
       "      <td>0</td>\n",
       "      <td>8.609299999999999</td>\n",
       "      <td>-2.7457</td>\n",
       "      <td>12.080500000000001</td>\n",
       "      <td>7.892800000000000</td>\n",
       "      <td>10.582500000000000</td>\n",
       "      <td>-9.0837</td>\n",
       "      <td>6.9427</td>\n",
       "      <td>14.615500000000001</td>\n",
       "      <td>...</td>\n",
       "      <td>2.9057</td>\n",
       "      <td>9.7905</td>\n",
       "      <td>1.6704</td>\n",
       "      <td>1.685800000000000</td>\n",
       "      <td>21.604199999999999</td>\n",
       "      <td>3.1417</td>\n",
       "      <td>-6.5213</td>\n",
       "      <td>8.267500000000000</td>\n",
       "      <td>14.722200000000001</td>\n",
       "      <td>0.396500000000000</td>\n",
       "    </tr>\n",
       "    <tr>\n",
       "      <th>3</th>\n",
       "      <td>train_3</td>\n",
       "      <td>0</td>\n",
       "      <td>11.060400000000000</td>\n",
       "      <td>-2.1518</td>\n",
       "      <td>8.952199999999999</td>\n",
       "      <td>7.195700000000000</td>\n",
       "      <td>12.584600000000000</td>\n",
       "      <td>-1.8361</td>\n",
       "      <td>5.8428</td>\n",
       "      <td>14.925000000000001</td>\n",
       "      <td>...</td>\n",
       "      <td>4.4666</td>\n",
       "      <td>4.7433</td>\n",
       "      <td>0.7178</td>\n",
       "      <td>1.421400000000000</td>\n",
       "      <td>23.034700000000001</td>\n",
       "      <td>-1.2706</td>\n",
       "      <td>-2.9275</td>\n",
       "      <td>10.292199999999999</td>\n",
       "      <td>17.969700000000000</td>\n",
       "      <td>-8.999599999999999</td>\n",
       "    </tr>\n",
       "    <tr>\n",
       "      <th>4</th>\n",
       "      <td>train_4</td>\n",
       "      <td>0</td>\n",
       "      <td>9.836900000000000</td>\n",
       "      <td>-1.4834</td>\n",
       "      <td>12.874599999999999</td>\n",
       "      <td>6.637500000000000</td>\n",
       "      <td>12.277200000000001</td>\n",
       "      <td>2.4486</td>\n",
       "      <td>5.9405</td>\n",
       "      <td>19.251400000000000</td>\n",
       "      <td>...</td>\n",
       "      <td>-1.4905</td>\n",
       "      <td>9.5214</td>\n",
       "      <td>-0.1508</td>\n",
       "      <td>9.194200000000000</td>\n",
       "      <td>13.287599999999999</td>\n",
       "      <td>-1.5121</td>\n",
       "      <td>3.9267</td>\n",
       "      <td>9.503100000000000</td>\n",
       "      <td>17.997399999999999</td>\n",
       "      <td>-8.810400000000000</td>\n",
       "    </tr>\n",
       "  </tbody>\n",
       "</table>\n",
       "<p>5 rows × 202 columns</p>\n",
       "</div>"
      ],
      "text/plain": [
       "   ID_code  target               var_0   var_1               var_2  \\\n",
       "0  train_0       0   8.925500000000000 -6.7863  11.908099999999999   \n",
       "1  train_1       0  11.500600000000000 -4.1473  13.858800000000000   \n",
       "2  train_2       0   8.609299999999999 -2.7457  12.080500000000001   \n",
       "3  train_3       0  11.060400000000000 -2.1518   8.952199999999999   \n",
       "4  train_4       0   9.836900000000000 -1.4834  12.874599999999999   \n",
       "\n",
       "               var_3               var_4   var_5   var_6               var_7  \\\n",
       "0  5.093000000000000  11.460699999999999 -9.2834  5.1187  18.626600000000000   \n",
       "1  5.388999999999999  12.362200000000000  7.0433  5.6208  16.533799999999999   \n",
       "2  7.892800000000000  10.582500000000000 -9.0837  6.9427  14.615500000000001   \n",
       "3  7.195700000000000  12.584600000000000 -1.8361  5.8428  14.925000000000001   \n",
       "4  6.637500000000000  12.277200000000001  2.4486  5.9405  19.251400000000000   \n",
       "\n",
       "         ...          var_190  var_191  var_192             var_193  \\\n",
       "0        ...           4.4354   3.9642   3.1364   1.691000000000000   \n",
       "1        ...           7.6421   7.7214   2.5837  10.951599999999999   \n",
       "2        ...           2.9057   9.7905   1.6704   1.685800000000000   \n",
       "3        ...           4.4666   4.7433   0.7178   1.421400000000000   \n",
       "4        ...          -1.4905   9.5214  -0.1508   9.194200000000000   \n",
       "\n",
       "              var_194  var_195  var_196             var_197  \\\n",
       "0  18.522700000000000  -2.3978   7.8784   8.563499999999999   \n",
       "1  15.430500000000000   2.0339   8.1267   8.788900000000000   \n",
       "2  21.604199999999999   3.1417  -6.5213   8.267500000000000   \n",
       "3  23.034700000000001  -1.2706  -2.9275  10.292199999999999   \n",
       "4  13.287599999999999  -1.5121   3.9267   9.503100000000000   \n",
       "\n",
       "              var_198            var_199  \n",
       "0  12.780300000000000 -1.091400000000000  \n",
       "1  18.355999999999998  1.951800000000000  \n",
       "2  14.722200000000001  0.396500000000000  \n",
       "3  17.969700000000000 -8.999599999999999  \n",
       "4  17.997399999999999 -8.810400000000000  \n",
       "\n",
       "[5 rows x 202 columns]"
      ]
     },
     "execution_count": 9,
     "metadata": {},
     "output_type": "execute_result"
    }
   ],
   "source": [
    "train.head(5)"
   ]
  },
  {
   "cell_type": "markdown",
   "metadata": {
    "_uuid": "3820345bbd08346359e699ead3f125f438dbaefc"
   },
   "source": [
    " <a id=\"41\"></a> <br>\n",
    "##   4-1-1Data set fields"
   ]
  },
  {
   "cell_type": "code",
   "execution_count": 10,
   "metadata": {
    "_kg_hide-output": true,
    "_uuid": "6e5f5d0a8e6057a19c41d0698c76cfa5f0e61202"
   },
   "outputs": [
    {
     "data": {
      "text/plain": [
       "Index(['ID_code', 'target', 'var_0', 'var_1', 'var_2', 'var_3', 'var_4',\n",
       "       'var_5', 'var_6', 'var_7',\n",
       "       ...\n",
       "       'var_190', 'var_191', 'var_192', 'var_193', 'var_194', 'var_195',\n",
       "       'var_196', 'var_197', 'var_198', 'var_199'],\n",
       "      dtype='object', length=202)"
      ]
     },
     "execution_count": 10,
     "metadata": {},
     "output_type": "execute_result"
    }
   ],
   "source": [
    "train.columns"
   ]
  },
  {
   "cell_type": "code",
   "execution_count": 11,
   "metadata": {
    "_uuid": "1d31392a34a8bba87565f4a00a44084641a28f5b"
   },
   "outputs": [
    {
     "name": "stdout",
     "output_type": "stream",
     "text": [
      "202\n"
     ]
    }
   ],
   "source": [
    "print(len(train.columns))"
   ]
  },
  {
   "cell_type": "code",
   "execution_count": 12,
   "metadata": {
    "_uuid": "2b8083e0022c342963869e609a65bae49cbe2d2a"
   },
   "outputs": [
    {
     "name": "stdout",
     "output_type": "stream",
     "text": [
      "<class 'pandas.core.frame.DataFrame'>\n",
      "RangeIndex: 200000 entries, 0 to 199999\n",
      "Columns: 202 entries, ID_code to var_199\n",
      "dtypes: float64(200), int64(1), object(1)\n",
      "memory usage: 308.2+ MB\n",
      "None\n"
     ]
    }
   ],
   "source": [
    "print(train.info())"
   ]
  },
  {
   "cell_type": "markdown",
   "metadata": {
    "_uuid": "1292b57ec3e35831def62fa0a51aebac73df3b69"
   },
   "source": [
    " <a id=\"422\"></a> <br>\n",
    "## 4-2-2 numerical values Describe"
   ]
  },
  {
   "cell_type": "code",
   "execution_count": 13,
   "metadata": {
    "_kg_hide-input": true,
    "_uuid": "ca9ae169e960fddc581b8da1b15c7e79d8bbe972"
   },
   "outputs": [
    {
     "data": {
      "text/html": [
       "<div>\n",
       "<style scoped>\n",
       "    .dataframe tbody tr th:only-of-type {\n",
       "        vertical-align: middle;\n",
       "    }\n",
       "\n",
       "    .dataframe tbody tr th {\n",
       "        vertical-align: top;\n",
       "    }\n",
       "\n",
       "    .dataframe thead th {\n",
       "        text-align: right;\n",
       "    }\n",
       "</style>\n",
       "<table border=\"1\" class=\"dataframe\">\n",
       "  <thead>\n",
       "    <tr style=\"text-align: right;\">\n",
       "      <th></th>\n",
       "      <th>target</th>\n",
       "      <th>var_0</th>\n",
       "      <th>var_1</th>\n",
       "      <th>var_2</th>\n",
       "      <th>var_3</th>\n",
       "      <th>var_4</th>\n",
       "      <th>var_5</th>\n",
       "      <th>var_6</th>\n",
       "      <th>var_7</th>\n",
       "      <th>var_8</th>\n",
       "      <th>...</th>\n",
       "      <th>var_190</th>\n",
       "      <th>var_191</th>\n",
       "      <th>var_192</th>\n",
       "      <th>var_193</th>\n",
       "      <th>var_194</th>\n",
       "      <th>var_195</th>\n",
       "      <th>var_196</th>\n",
       "      <th>var_197</th>\n",
       "      <th>var_198</th>\n",
       "      <th>var_199</th>\n",
       "    </tr>\n",
       "  </thead>\n",
       "  <tbody>\n",
       "    <tr>\n",
       "      <th>count</th>\n",
       "      <td>200000.000000000000000</td>\n",
       "      <td>200000.000000000000000</td>\n",
       "      <td>200000.000000000000000</td>\n",
       "      <td>200000.000000000000000</td>\n",
       "      <td>200000.000000000000000</td>\n",
       "      <td>200000.000000000000000</td>\n",
       "      <td>200000.000000000000000</td>\n",
       "      <td>200000.000000000000000</td>\n",
       "      <td>200000.000000000000000</td>\n",
       "      <td>200000.000000000000000</td>\n",
       "      <td>...</td>\n",
       "      <td>200000.000000000000000</td>\n",
       "      <td>200000.000000000000000</td>\n",
       "      <td>200000.00000000000000</td>\n",
       "      <td>200000.000000000000000</td>\n",
       "      <td>200000.000000000000000</td>\n",
       "      <td>200000.000000000000000</td>\n",
       "      <td>200000.000000000000000</td>\n",
       "      <td>200000.000000000000000</td>\n",
       "      <td>200000.000000000000000</td>\n",
       "      <td>200000.000000000000000</td>\n",
       "    </tr>\n",
       "    <tr>\n",
       "      <th>mean</th>\n",
       "      <td>0.100490000000000</td>\n",
       "      <td>10.679914252000151</td>\n",
       "      <td>-1.627621689499992</td>\n",
       "      <td>10.715191851000073</td>\n",
       "      <td>6.796529157000018</td>\n",
       "      <td>11.078333240500118</td>\n",
       "      <td>-5.065317493499968</td>\n",
       "      <td>5.408948681499958</td>\n",
       "      <td>16.545849889500108</td>\n",
       "      <td>0.284161849999996</td>\n",
       "      <td>...</td>\n",
       "      <td>3.234439775999965</td>\n",
       "      <td>7.438408337000044</td>\n",
       "      <td>1.92783851400003</td>\n",
       "      <td>3.331773684500021</td>\n",
       "      <td>17.993784182999992</td>\n",
       "      <td>-0.142088433500005</td>\n",
       "      <td>2.303335243500019</td>\n",
       "      <td>8.908157683499990</td>\n",
       "      <td>15.870720248000522</td>\n",
       "      <td>-3.326536900499999</td>\n",
       "    </tr>\n",
       "    <tr>\n",
       "      <th>std</th>\n",
       "      <td>0.300652975806355</td>\n",
       "      <td>3.040050870668801</td>\n",
       "      <td>4.050044189955011</td>\n",
       "      <td>2.640894191799927</td>\n",
       "      <td>2.043319016359718</td>\n",
       "      <td>1.623149533936866</td>\n",
       "      <td>7.863266683476754</td>\n",
       "      <td>0.866607266216908</td>\n",
       "      <td>3.418075578937139</td>\n",
       "      <td>3.332633536717585</td>\n",
       "      <td>...</td>\n",
       "      <td>4.559921679910722</td>\n",
       "      <td>3.023271794723963</td>\n",
       "      <td>1.47842289233660</td>\n",
       "      <td>3.992030367901846</td>\n",
       "      <td>3.135161996426620</td>\n",
       "      <td>1.429372364408401</td>\n",
       "      <td>5.454369250069321</td>\n",
       "      <td>0.921625484493855</td>\n",
       "      <td>3.010945491221765</td>\n",
       "      <td>10.438015107352546</td>\n",
       "    </tr>\n",
       "    <tr>\n",
       "      <th>min</th>\n",
       "      <td>0.000000000000000</td>\n",
       "      <td>0.408400000000000</td>\n",
       "      <td>-15.043400000000000</td>\n",
       "      <td>2.117100000000000</td>\n",
       "      <td>-0.040200000000000</td>\n",
       "      <td>5.074800000000000</td>\n",
       "      <td>-32.562600000000003</td>\n",
       "      <td>2.347300000000000</td>\n",
       "      <td>5.349700000000000</td>\n",
       "      <td>-10.505500000000000</td>\n",
       "      <td>...</td>\n",
       "      <td>-14.093299999999999</td>\n",
       "      <td>-2.691700000000000</td>\n",
       "      <td>-3.81450000000000</td>\n",
       "      <td>-11.783400000000000</td>\n",
       "      <td>8.694400000000000</td>\n",
       "      <td>-5.261000000000000</td>\n",
       "      <td>-14.209600000000000</td>\n",
       "      <td>5.960600000000000</td>\n",
       "      <td>6.299300000000000</td>\n",
       "      <td>-38.852800000000002</td>\n",
       "    </tr>\n",
       "    <tr>\n",
       "      <th>25%</th>\n",
       "      <td>0.000000000000000</td>\n",
       "      <td>8.453850000000001</td>\n",
       "      <td>-4.740025000000000</td>\n",
       "      <td>8.722474999999999</td>\n",
       "      <td>5.254075000000000</td>\n",
       "      <td>9.883175000000000</td>\n",
       "      <td>-11.200350000000000</td>\n",
       "      <td>4.767700000000000</td>\n",
       "      <td>13.943800000000000</td>\n",
       "      <td>-2.317800000000000</td>\n",
       "      <td>...</td>\n",
       "      <td>-0.058825000000000</td>\n",
       "      <td>5.157400000000000</td>\n",
       "      <td>0.88977500000000</td>\n",
       "      <td>0.584600000000000</td>\n",
       "      <td>15.629799999999999</td>\n",
       "      <td>-1.170700000000000</td>\n",
       "      <td>-1.946925000000000</td>\n",
       "      <td>8.252800000000001</td>\n",
       "      <td>13.829700000000001</td>\n",
       "      <td>-11.208475000000000</td>\n",
       "    </tr>\n",
       "    <tr>\n",
       "      <th>50%</th>\n",
       "      <td>0.000000000000000</td>\n",
       "      <td>10.524750000000001</td>\n",
       "      <td>-1.608050000000000</td>\n",
       "      <td>10.580000000000000</td>\n",
       "      <td>6.825000000000000</td>\n",
       "      <td>11.108250000000000</td>\n",
       "      <td>-4.833150000000000</td>\n",
       "      <td>5.385100000000000</td>\n",
       "      <td>16.456800000000001</td>\n",
       "      <td>0.393700000000000</td>\n",
       "      <td>...</td>\n",
       "      <td>3.203600000000000</td>\n",
       "      <td>7.347750000000000</td>\n",
       "      <td>1.90130000000000</td>\n",
       "      <td>3.396350000000000</td>\n",
       "      <td>17.957949999999997</td>\n",
       "      <td>-0.172700000000000</td>\n",
       "      <td>2.408900000000000</td>\n",
       "      <td>8.888199999999999</td>\n",
       "      <td>15.934050000000001</td>\n",
       "      <td>-2.819550000000000</td>\n",
       "    </tr>\n",
       "    <tr>\n",
       "      <th>75%</th>\n",
       "      <td>0.000000000000000</td>\n",
       "      <td>12.758200000000000</td>\n",
       "      <td>1.358625000000000</td>\n",
       "      <td>12.516700000000000</td>\n",
       "      <td>8.324100000000000</td>\n",
       "      <td>12.261125000000002</td>\n",
       "      <td>0.924800000000000</td>\n",
       "      <td>6.002999999999999</td>\n",
       "      <td>19.102900000000002</td>\n",
       "      <td>2.937900000000000</td>\n",
       "      <td>...</td>\n",
       "      <td>6.406200000000000</td>\n",
       "      <td>9.512525000000000</td>\n",
       "      <td>2.94950000000000</td>\n",
       "      <td>6.205800000000000</td>\n",
       "      <td>20.396524999999997</td>\n",
       "      <td>0.829600000000000</td>\n",
       "      <td>6.556725000000000</td>\n",
       "      <td>9.593299999999999</td>\n",
       "      <td>18.064724999999999</td>\n",
       "      <td>4.836800000000000</td>\n",
       "    </tr>\n",
       "    <tr>\n",
       "      <th>max</th>\n",
       "      <td>1.000000000000000</td>\n",
       "      <td>20.315000000000001</td>\n",
       "      <td>10.376799999999999</td>\n",
       "      <td>19.352999999999998</td>\n",
       "      <td>13.188300000000000</td>\n",
       "      <td>16.671399999999998</td>\n",
       "      <td>17.251600000000000</td>\n",
       "      <td>8.447699999999999</td>\n",
       "      <td>27.691800000000001</td>\n",
       "      <td>10.151300000000001</td>\n",
       "      <td>...</td>\n",
       "      <td>18.440899999999999</td>\n",
       "      <td>16.716500000000000</td>\n",
       "      <td>8.40240000000000</td>\n",
       "      <td>18.281800000000000</td>\n",
       "      <td>27.928799999999999</td>\n",
       "      <td>4.272900000000000</td>\n",
       "      <td>18.321500000000000</td>\n",
       "      <td>12.000400000000001</td>\n",
       "      <td>26.079100000000000</td>\n",
       "      <td>28.500699999999998</td>\n",
       "    </tr>\n",
       "  </tbody>\n",
       "</table>\n",
       "<p>8 rows × 201 columns</p>\n",
       "</div>"
      ],
      "text/plain": [
       "                       target                   var_0                   var_1  \\\n",
       "count  200000.000000000000000  200000.000000000000000  200000.000000000000000   \n",
       "mean        0.100490000000000      10.679914252000151      -1.627621689499992   \n",
       "std         0.300652975806355       3.040050870668801       4.050044189955011   \n",
       "min         0.000000000000000       0.408400000000000     -15.043400000000000   \n",
       "25%         0.000000000000000       8.453850000000001      -4.740025000000000   \n",
       "50%         0.000000000000000      10.524750000000001      -1.608050000000000   \n",
       "75%         0.000000000000000      12.758200000000000       1.358625000000000   \n",
       "max         1.000000000000000      20.315000000000001      10.376799999999999   \n",
       "\n",
       "                        var_2                   var_3                   var_4  \\\n",
       "count  200000.000000000000000  200000.000000000000000  200000.000000000000000   \n",
       "mean       10.715191851000073       6.796529157000018      11.078333240500118   \n",
       "std         2.640894191799927       2.043319016359718       1.623149533936866   \n",
       "min         2.117100000000000      -0.040200000000000       5.074800000000000   \n",
       "25%         8.722474999999999       5.254075000000000       9.883175000000000   \n",
       "50%        10.580000000000000       6.825000000000000      11.108250000000000   \n",
       "75%        12.516700000000000       8.324100000000000      12.261125000000002   \n",
       "max        19.352999999999998      13.188300000000000      16.671399999999998   \n",
       "\n",
       "                        var_5                   var_6                   var_7  \\\n",
       "count  200000.000000000000000  200000.000000000000000  200000.000000000000000   \n",
       "mean       -5.065317493499968       5.408948681499958      16.545849889500108   \n",
       "std         7.863266683476754       0.866607266216908       3.418075578937139   \n",
       "min       -32.562600000000003       2.347300000000000       5.349700000000000   \n",
       "25%       -11.200350000000000       4.767700000000000      13.943800000000000   \n",
       "50%        -4.833150000000000       5.385100000000000      16.456800000000001   \n",
       "75%         0.924800000000000       6.002999999999999      19.102900000000002   \n",
       "max        17.251600000000000       8.447699999999999      27.691800000000001   \n",
       "\n",
       "                        var_8           ...                           var_190  \\\n",
       "count  200000.000000000000000           ...            200000.000000000000000   \n",
       "mean        0.284161849999996           ...                 3.234439775999965   \n",
       "std         3.332633536717585           ...                 4.559921679910722   \n",
       "min       -10.505500000000000           ...               -14.093299999999999   \n",
       "25%        -2.317800000000000           ...                -0.058825000000000   \n",
       "50%         0.393700000000000           ...                 3.203600000000000   \n",
       "75%         2.937900000000000           ...                 6.406200000000000   \n",
       "max        10.151300000000001           ...                18.440899999999999   \n",
       "\n",
       "                      var_191                var_192                 var_193  \\\n",
       "count  200000.000000000000000  200000.00000000000000  200000.000000000000000   \n",
       "mean        7.438408337000044       1.92783851400003       3.331773684500021   \n",
       "std         3.023271794723963       1.47842289233660       3.992030367901846   \n",
       "min        -2.691700000000000      -3.81450000000000     -11.783400000000000   \n",
       "25%         5.157400000000000       0.88977500000000       0.584600000000000   \n",
       "50%         7.347750000000000       1.90130000000000       3.396350000000000   \n",
       "75%         9.512525000000000       2.94950000000000       6.205800000000000   \n",
       "max        16.716500000000000       8.40240000000000      18.281800000000000   \n",
       "\n",
       "                      var_194                 var_195                 var_196  \\\n",
       "count  200000.000000000000000  200000.000000000000000  200000.000000000000000   \n",
       "mean       17.993784182999992      -0.142088433500005       2.303335243500019   \n",
       "std         3.135161996426620       1.429372364408401       5.454369250069321   \n",
       "min         8.694400000000000      -5.261000000000000     -14.209600000000000   \n",
       "25%        15.629799999999999      -1.170700000000000      -1.946925000000000   \n",
       "50%        17.957949999999997      -0.172700000000000       2.408900000000000   \n",
       "75%        20.396524999999997       0.829600000000000       6.556725000000000   \n",
       "max        27.928799999999999       4.272900000000000      18.321500000000000   \n",
       "\n",
       "                      var_197                 var_198                 var_199  \n",
       "count  200000.000000000000000  200000.000000000000000  200000.000000000000000  \n",
       "mean        8.908157683499990      15.870720248000522      -3.326536900499999  \n",
       "std         0.921625484493855       3.010945491221765      10.438015107352546  \n",
       "min         5.960600000000000       6.299300000000000     -38.852800000000002  \n",
       "25%         8.252800000000001      13.829700000000001     -11.208475000000000  \n",
       "50%         8.888199999999999      15.934050000000001      -2.819550000000000  \n",
       "75%         9.593299999999999      18.064724999999999       4.836800000000000  \n",
       "max        12.000400000000001      26.079100000000000      28.500699999999998  \n",
       "\n",
       "[8 rows x 201 columns]"
      ]
     },
     "execution_count": 13,
     "metadata": {},
     "output_type": "execute_result"
    }
   ],
   "source": [
    "train.describe()"
   ]
  },
  {
   "cell_type": "markdown",
   "metadata": {
    "_uuid": "c1eddbf9a17cb7b15b342b4d2d48af7f0ac79006"
   },
   "source": [
    " <a id=\"42\"></a> <br>\n",
    "## 4-2 Visualization"
   ]
  },
  {
   "cell_type": "markdown",
   "metadata": {
    "_uuid": "70207522d405040466649db4664f6dc9cb75849f"
   },
   "source": [
    "<a id=\"421\"></a> \n",
    "### 4-2-1 hist"
   ]
  },
  {
   "cell_type": "code",
   "execution_count": 14,
   "metadata": {
    "_uuid": "51042af4ef472a7863f9698fdca2d99eefa0af7d"
   },
   "outputs": [
    {
     "data": {
      "image/png": "[encoded data removed]",
      "text/plain": [
       "<Figure size 432x288 with 1 Axes>"
      ]
     },
     "metadata": {},
     "output_type": "display_data"
    }
   ],
   "source": [
    "train['target'].value_counts().plot.bar();"
   ]
  },
  {
   "cell_type": "code",
   "execution_count": 15,
   "metadata": {
    "_uuid": "0cf04a9128e231d216018ba2c23244d6c041e209"
   },
   "outputs": [
    {
     "data": {
      "image/png": "[encoded data removed]",
      "text/plain": [
       "<Figure size 1440x720 with 2 Axes>"
      ]
     },
     "metadata": {},
     "output_type": "display_data"
    }
   ],
   "source": [
    "f,ax=plt.subplots(1,2,figsize=(20,10))\n",
    "train[train['target']==0].var_0.plot.hist(ax=ax[0],bins=20,edgecolor='black',color='red')\n",
    "ax[0].set_title('target= 0')\n",
    "x1=list(range(0,85,5))\n",
    "ax[0].set_xticks(x1)\n",
    "train[train['target']==1].var_0.plot.hist(ax=ax[1],color='green',bins=20,edgecolor='black')\n",
    "ax[1].set_title('target= 1')\n",
    "x2=list(range(0,85,5))\n",
    "ax[1].set_xticks(x2)\n",
    "plt.show()"
   ]
  },
  {
   "cell_type": "markdown",
   "metadata": {
    "_uuid": "225972f02d20b1aed1a2d6a3dae7e2c14b7caad1"
   },
   "source": [
    " <a id=\"422\"></a> <br>\n",
    "## 4-2-2 Mean Frequency"
   ]
  },
  {
   "cell_type": "code",
   "execution_count": 16,
   "metadata": {
    "_uuid": "427a904f784fbf353c728e3abafa8628ffa0a52c"
   },
   "outputs": [
    {
     "data": {
      "image/png": "[encoded data removed]",
      "text/plain": [
       "<Figure size 432x288 with 1 Axes>"
      ]
     },
     "metadata": {},
     "output_type": "display_data"
    }
   ],
   "source": [
    "train[train.columns[2:]].mean().plot('hist');plt.title('Mean Frequency');"
   ]
  },
  {
   "cell_type": "markdown",
   "metadata": {
    "_uuid": "1498698d6c5175ea7a10ff3595d9f0177e1e6861"
   },
   "source": [
    "<a id=\"423\"></a> \n",
    "### 4-2-3 countplot"
   ]
  },
  {
   "cell_type": "code",
   "execution_count": 17,
   "metadata": {
    "_kg_hide-input": true,
    "_uuid": "90cae6c076bcefc862828b177672c2e481b6a15b"
   },
   "outputs": [
    {
     "data": {
      "image/png": "[encoded data removed]",
      "text/plain": [
       "<Figure size 1296x576 with 2 Axes>"
      ]
     },
     "metadata": {},
     "output_type": "display_data"
    }
   ],
   "source": [
    "f,ax=plt.subplots(1,2,figsize=(18,8))\n",
    "train['target'].value_counts().plot.pie(explode=[0,0.1],autopct='%1.1f%%',ax=ax[0],shadow=True)\n",
    "ax[0].set_title('target')\n",
    "ax[0].set_ylabel('')\n",
    "sns.countplot('target',data=train,ax=ax[1])\n",
    "ax[1].set_title('target')\n",
    "plt.show()"
   ]
  },
  {
   "cell_type": "markdown",
   "metadata": {
    "_uuid": "565eea91ba475dfb935f89052738e98c4338206a"
   },
   "source": [
    "<a id=\"424\"></a> \n",
    "### 4-2-4 hist\n",
    "if you check histogram for all feature, you will find that most of them are so similar"
   ]
  },
  {
   "cell_type": "code",
   "execution_count": 18,
   "metadata": {
    "_kg_hide-input": true,
    "_uuid": "4cafe1f825c8f5b7d1115411cf6018649ae2c2a1"
   },
   "outputs": [
    {
     "data": {
      "image/png": "[encoded data removed]",
      "text/plain": [
       "<Figure size 432x288 with 1 Axes>"
      ]
     },
     "metadata": {},
     "output_type": "display_data"
    }
   ],
   "source": [
    "train[\"var_0\"].hist();"
   ]
  },
  {
   "cell_type": "code",
   "execution_count": 19,
   "metadata": {
    "_uuid": "291bf70bbea5066cf44df3e4a1093d8b95999910"
   },
   "outputs": [
    {
     "data": {
      "image/png": "[encoded data removed]",
      "text/plain": [
       "<Figure size 432x288 with 1 Axes>"
      ]
     },
     "metadata": {},
     "output_type": "display_data"
    }
   ],
   "source": [
    "train[\"var_81\"].hist();"
   ]
  },
  {
   "cell_type": "code",
   "execution_count": 20,
   "metadata": {
    "_uuid": "4fca943180a87f02bf9cdb0802835de1c1114df0"
   },
   "outputs": [
    {
     "data": {
      "image/png": "[encoded data removed]",
      "text/plain": [
       "<Figure size 432x288 with 1 Axes>"
      ]
     },
     "metadata": {},
     "output_type": "display_data"
    }
   ],
   "source": [
    "train[\"var_2\"].hist();"
   ]
  },
  {
   "cell_type": "markdown",
   "metadata": {
    "_uuid": "c7c539dd31e2d389813645c30e997f1728e9f926"
   },
   "source": [
    "<a id=\"426\"></a> \n",
    "### 4-2-6 distplot\n",
    " the target in data set is **imbalance**"
   ]
  },
  {
   "cell_type": "code",
   "execution_count": 21,
   "metadata": {
    "_uuid": "6b04bc254eee5dcdeac96c17f9c80a0657515a9b"
   },
   "outputs": [
    {
     "data": {
      "image/png": "[encoded data removed]",
      "text/plain": [
       "<Figure size 648x504 with 1 Axes>"
      ]
     },
     "metadata": {},
     "output_type": "display_data"
    }
   ],
   "source": [
    "sns.set(rc={'figure.figsize':(9,7)})\n",
    "sns.distplot(train['target']);"
   ]
  },
  {
   "cell_type": "markdown",
   "metadata": {
    "_uuid": "b710f6cb8eb852a3b749774172c911de598b986c"
   },
   "source": [
    "<a id=\"427\"></a> \n",
    "### 4-2-7 violinplot"
   ]
  },
  {
   "cell_type": "code",
   "execution_count": 22,
   "metadata": {
    "_uuid": "b01885275f75488166c034eafe8a0ca9870ab70b"
   },
   "outputs": [
    {
     "data": {
      "text/plain": [
       "<matplotlib.axes._subplots.AxesSubplot at 0x7f0c81f433c8>"
      ]
     },
     "execution_count": 22,
     "metadata": {},
     "output_type": "execute_result"
    },
    {
     "data": {
      "image/png": "[encoded data removed]",
      "text/plain": [
       "<Figure size 648x504 with 1 Axes>"
      ]
     },
     "metadata": {},
     "output_type": "display_data"
    }
   ],
   "source": [
    "sns.violinplot(data=train,x=\"target\", y=\"var_0\")"
   ]
  },
  {
   "cell_type": "code",
   "execution_count": 23,
   "metadata": {
    "_uuid": "c9c01ab969d0e85f4ba301bdb4656b8a6ec99d32"
   },
   "outputs": [
    {
     "data": {
      "text/plain": [
       "<matplotlib.axes._subplots.AxesSubplot at 0x7f0c81f10e48>"
      ]
     },
     "execution_count": 23,
     "metadata": {},
     "output_type": "execute_result"
    },
    {
     "data": {
      "image/png": "[encoded data removed]",
      "text/plain": [
       "<Figure size 648x504 with 1 Axes>"
      ]
     },
     "metadata": {},
     "output_type": "display_data"
    }
   ],
   "source": [
    "sns.violinplot(data=train,x=\"target\", y=\"var_81\")"
   ]
  }
 ],
 "metadata": {
  "kernelspec": {
   "display_name": "Python 3",
   "language": "python",
   "name": "python3"
  },
  "language_info": {
   "codemirror_mode": {
    "name": "ipython",
    "version": 3
   },
   "file_extension": ".py",
   "mimetype": "text/x-python",
   "name": "python",
   "nbconvert_exporter": "python",
   "pygments_lexer": "ipython3",
   "version": "3.7.1"
  }
 },
 "nbformat": 4,
 "nbformat_minor": 2
}
