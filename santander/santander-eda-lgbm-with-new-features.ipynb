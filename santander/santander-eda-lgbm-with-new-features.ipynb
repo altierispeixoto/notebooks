{
 "cells": [
  {
   "cell_type": "markdown",
   "metadata": {
    "_uuid": "93d7b4b8f5f6e5289cfc0312d650744e64905bc7"
   },
   "source": []
  },
  {
   "cell_type": "code",
   "execution_count": 202,
   "metadata": {
    "_uuid": "319c9748ad2d9b82cc875000f58afa2129aeb9c3"
   },
   "outputs": [],
   "source": [
    "import os\n",
    "import gc\n",
    "import time\n",
    "import numpy as np\n",
    "import pandas as pd\n",
    "from sklearn.linear_model import LogisticRegression\n",
    "from sklearn.model_selection import StratifiedKFold\n",
    "from sklearn.metrics import roc_curve, auc, roc_auc_score\n",
    "import lightgbm as lgb\n",
    "from numpy import sort\n",
    "from sklearn.ensemble import RandomForestClassifier\n",
    "import eli5\n",
    "from eli5.sklearn import PermutationImportance\n",
    "from imblearn.over_sampling import SMOTE\n",
    "from collections import Counter\n",
    "import matplotlib.pyplot as plt\n",
    "import seaborn as sns"
   ]
  },
  {
   "cell_type": "markdown",
   "metadata": {
    "_uuid": "537c13042c45444910c2fd614bbe51c66550f4dd"
   },
   "source": [
    "## Load Data"
   ]
  },
  {
   "cell_type": "code",
   "execution_count": 203,
   "metadata": {
    "_uuid": "733bef277c96bbdec20afcbd9c2009865ea863f8"
   },
   "outputs": [
    {
     "name": "stdout",
     "output_type": "stream",
     "text": [
      "Train:  (200000, 202)\n",
      "Test:  (200000, 201)\n"
     ]
    }
   ],
   "source": [
    "train = pd.read_csv('/home/altieris/datascience/data/santander-customer-transaction-prediction/train.csv')\n",
    "test = pd.read_csv('/home/altieris/datascience/data/santander-customer-transaction-prediction/test.csv')\n",
    "\n",
    "print(\"Train: \",train.shape)\n",
    "print(\"Test: \", test.shape)"
   ]
  },
  {
   "cell_type": "code",
   "execution_count": 204,
   "metadata": {},
   "outputs": [],
   "source": [
    "cols=[\"target\",\"ID_code\"]\n",
    "\n",
    "# drop_from_shap=['var_185', 'var_181', 'var_182', 'var_183', 'var_14', 'var_41',\n",
    "#        'var_98', 'var_103', 'var_189', 'var_10', 'var_7', 'var_64',\n",
    "#        'var_65', 'var_84', 'var_73', 'var_79', 'var_96', 'var_19',\n",
    "#        'var_17', 'var_160', 'var_143', 'var_46', 'var_153', 'var_39',\n",
    "#        'var_38', 'var_37', 'var_158', 'var_136', 'var_161', 'var_42',\n",
    "#        'var_129', 'var_30', 'var_29', 'var_126', 'var_124', 'var_27',\n",
    "#        'var_117', 'var_59', 'var_100','var_168', 'var_3', 'var_8', 'var_74', 'var_72', 'var_178',\n",
    "#        'var_54', 'var_171', 'var_50', 'var_152', 'var_55', 'var_140',\n",
    "#        'var_138', 'var_193', 'var_156', 'var_113', 'var_63', 'var_15',\n",
    "#        'var_60', 'var_69', 'var_159', 'var_47', 'var_61', 'var_176',\n",
    "#        'var_68', 'var_16', 'var_57', 'var_101', 'var_25', 'var_120','var_194', 'var_11', 'var_45', 'var_196', 'var_83', 'var_20',\n",
    "#        'var_77', 'var_134', 'var_82', 'var_102', 'var_97', 'var_187',\n",
    "#        'var_142', 'var_88', 'var_62', 'var_4']"
   ]
  },
  {
   "cell_type": "code",
   "execution_count": 108,
   "metadata": {},
   "outputs": [],
   "source": [
    "# test = test.drop(drop_from_shap,axis=1)\n",
    "# train = train.drop(drop_from_shap,axis=1)"
   ]
  },
  {
   "cell_type": "code",
   "execution_count": 205,
   "metadata": {
    "_uuid": "822bcabf996bb12825b3ec296e1684b2752ca9c4"
   },
   "outputs": [
    {
     "data": {
      "text/html": [
       "<div>\n",
       "<style scoped>\n",
       "    .dataframe tbody tr th:only-of-type {\n",
       "        vertical-align: middle;\n",
       "    }\n",
       "\n",
       "    .dataframe tbody tr th {\n",
       "        vertical-align: top;\n",
       "    }\n",
       "\n",
       "    .dataframe thead th {\n",
       "        text-align: right;\n",
       "    }\n",
       "</style>\n",
       "<table border=\"1\" class=\"dataframe\">\n",
       "  <thead>\n",
       "    <tr style=\"text-align: right;\">\n",
       "      <th></th>\n",
       "      <th>ID_code</th>\n",
       "      <th>target</th>\n",
       "      <th>var_0</th>\n",
       "      <th>var_1</th>\n",
       "      <th>var_2</th>\n",
       "      <th>var_3</th>\n",
       "      <th>var_4</th>\n",
       "      <th>var_5</th>\n",
       "      <th>var_6</th>\n",
       "      <th>var_7</th>\n",
       "      <th>...</th>\n",
       "      <th>var_190</th>\n",
       "      <th>var_191</th>\n",
       "      <th>var_192</th>\n",
       "      <th>var_193</th>\n",
       "      <th>var_194</th>\n",
       "      <th>var_195</th>\n",
       "      <th>var_196</th>\n",
       "      <th>var_197</th>\n",
       "      <th>var_198</th>\n",
       "      <th>var_199</th>\n",
       "    </tr>\n",
       "  </thead>\n",
       "  <tbody>\n",
       "    <tr>\n",
       "      <th>0</th>\n",
       "      <td>train_0</td>\n",
       "      <td>0</td>\n",
       "      <td>8.9255</td>\n",
       "      <td>-6.7863</td>\n",
       "      <td>11.9081</td>\n",
       "      <td>5.0930</td>\n",
       "      <td>11.4607</td>\n",
       "      <td>-9.2834</td>\n",
       "      <td>5.1187</td>\n",
       "      <td>18.6266</td>\n",
       "      <td>...</td>\n",
       "      <td>4.4354</td>\n",
       "      <td>3.9642</td>\n",
       "      <td>3.1364</td>\n",
       "      <td>1.6910</td>\n",
       "      <td>18.5227</td>\n",
       "      <td>-2.3978</td>\n",
       "      <td>7.8784</td>\n",
       "      <td>8.5635</td>\n",
       "      <td>12.7803</td>\n",
       "      <td>-1.0914</td>\n",
       "    </tr>\n",
       "    <tr>\n",
       "      <th>1</th>\n",
       "      <td>train_1</td>\n",
       "      <td>0</td>\n",
       "      <td>11.5006</td>\n",
       "      <td>-4.1473</td>\n",
       "      <td>13.8588</td>\n",
       "      <td>5.3890</td>\n",
       "      <td>12.3622</td>\n",
       "      <td>7.0433</td>\n",
       "      <td>5.6208</td>\n",
       "      <td>16.5338</td>\n",
       "      <td>...</td>\n",
       "      <td>7.6421</td>\n",
       "      <td>7.7214</td>\n",
       "      <td>2.5837</td>\n",
       "      <td>10.9516</td>\n",
       "      <td>15.4305</td>\n",
       "      <td>2.0339</td>\n",
       "      <td>8.1267</td>\n",
       "      <td>8.7889</td>\n",
       "      <td>18.3560</td>\n",
       "      <td>1.9518</td>\n",
       "    </tr>\n",
       "    <tr>\n",
       "      <th>2</th>\n",
       "      <td>train_2</td>\n",
       "      <td>0</td>\n",
       "      <td>8.6093</td>\n",
       "      <td>-2.7457</td>\n",
       "      <td>12.0805</td>\n",
       "      <td>7.8928</td>\n",
       "      <td>10.5825</td>\n",
       "      <td>-9.0837</td>\n",
       "      <td>6.9427</td>\n",
       "      <td>14.6155</td>\n",
       "      <td>...</td>\n",
       "      <td>2.9057</td>\n",
       "      <td>9.7905</td>\n",
       "      <td>1.6704</td>\n",
       "      <td>1.6858</td>\n",
       "      <td>21.6042</td>\n",
       "      <td>3.1417</td>\n",
       "      <td>-6.5213</td>\n",
       "      <td>8.2675</td>\n",
       "      <td>14.7222</td>\n",
       "      <td>0.3965</td>\n",
       "    </tr>\n",
       "    <tr>\n",
       "      <th>3</th>\n",
       "      <td>train_3</td>\n",
       "      <td>0</td>\n",
       "      <td>11.0604</td>\n",
       "      <td>-2.1518</td>\n",
       "      <td>8.9522</td>\n",
       "      <td>7.1957</td>\n",
       "      <td>12.5846</td>\n",
       "      <td>-1.8361</td>\n",
       "      <td>5.8428</td>\n",
       "      <td>14.9250</td>\n",
       "      <td>...</td>\n",
       "      <td>4.4666</td>\n",
       "      <td>4.7433</td>\n",
       "      <td>0.7178</td>\n",
       "      <td>1.4214</td>\n",
       "      <td>23.0347</td>\n",
       "      <td>-1.2706</td>\n",
       "      <td>-2.9275</td>\n",
       "      <td>10.2922</td>\n",
       "      <td>17.9697</td>\n",
       "      <td>-8.9996</td>\n",
       "    </tr>\n",
       "    <tr>\n",
       "      <th>4</th>\n",
       "      <td>train_4</td>\n",
       "      <td>0</td>\n",
       "      <td>9.8369</td>\n",
       "      <td>-1.4834</td>\n",
       "      <td>12.8746</td>\n",
       "      <td>6.6375</td>\n",
       "      <td>12.2772</td>\n",
       "      <td>2.4486</td>\n",
       "      <td>5.9405</td>\n",
       "      <td>19.2514</td>\n",
       "      <td>...</td>\n",
       "      <td>-1.4905</td>\n",
       "      <td>9.5214</td>\n",
       "      <td>-0.1508</td>\n",
       "      <td>9.1942</td>\n",
       "      <td>13.2876</td>\n",
       "      <td>-1.5121</td>\n",
       "      <td>3.9267</td>\n",
       "      <td>9.5031</td>\n",
       "      <td>17.9974</td>\n",
       "      <td>-8.8104</td>\n",
       "    </tr>\n",
       "  </tbody>\n",
       "</table>\n",
       "<p>5 rows × 202 columns</p>\n",
       "</div>"
      ],
      "text/plain": [
       "   ID_code  target    var_0   var_1    var_2   var_3    var_4   var_5   var_6  \\\n",
       "0  train_0       0   8.9255 -6.7863  11.9081  5.0930  11.4607 -9.2834  5.1187   \n",
       "1  train_1       0  11.5006 -4.1473  13.8588  5.3890  12.3622  7.0433  5.6208   \n",
       "2  train_2       0   8.6093 -2.7457  12.0805  7.8928  10.5825 -9.0837  6.9427   \n",
       "3  train_3       0  11.0604 -2.1518   8.9522  7.1957  12.5846 -1.8361  5.8428   \n",
       "4  train_4       0   9.8369 -1.4834  12.8746  6.6375  12.2772  2.4486  5.9405   \n",
       "\n",
       "     var_7  ...  var_190  var_191  var_192  var_193  var_194  var_195  \\\n",
       "0  18.6266  ...   4.4354   3.9642   3.1364   1.6910  18.5227  -2.3978   \n",
       "1  16.5338  ...   7.6421   7.7214   2.5837  10.9516  15.4305   2.0339   \n",
       "2  14.6155  ...   2.9057   9.7905   1.6704   1.6858  21.6042   3.1417   \n",
       "3  14.9250  ...   4.4666   4.7433   0.7178   1.4214  23.0347  -1.2706   \n",
       "4  19.2514  ...  -1.4905   9.5214  -0.1508   9.1942  13.2876  -1.5121   \n",
       "\n",
       "   var_196  var_197  var_198  var_199  \n",
       "0   7.8784   8.5635  12.7803  -1.0914  \n",
       "1   8.1267   8.7889  18.3560   1.9518  \n",
       "2  -6.5213   8.2675  14.7222   0.3965  \n",
       "3  -2.9275  10.2922  17.9697  -8.9996  \n",
       "4   3.9267   9.5031  17.9974  -8.8104  \n",
       "\n",
       "[5 rows x 202 columns]"
      ]
     },
     "execution_count": 205,
     "metadata": {},
     "output_type": "execute_result"
    }
   ],
   "source": [
    "train.head()"
   ]
  },
  {
   "cell_type": "markdown",
   "metadata": {
    "_uuid": "e2d461fe7feaa83638c089436f66a3bc4b7b0226"
   },
   "source": [
    "We have a class imbalance problem with more records for class '0' than class '1' .... I tried SMOTE over sampling before but didn't seem to help..."
   ]
  },
  {
   "cell_type": "markdown",
   "metadata": {
    "_uuid": "59a3fffc818323decc33a1444d5555fc5e4c0782"
   },
   "source": [
    "### Permutation Importance"
   ]
  },
  {
   "cell_type": "code",
   "execution_count": 206,
   "metadata": {
    "_kg_hide-input": true,
    "_uuid": "bca8d979289b74c6acb4b20ad2ee6f4e80cf007b"
   },
   "outputs": [],
   "source": [
    "target = train.pop('target')\n",
    "train_ids = train.pop('ID_code')\n",
    "test_ids = test.pop('ID_code')\n",
    "len_train = len(train)"
   ]
  },
  {
   "cell_type": "markdown",
   "metadata": {
    "_uuid": "7bfd8a2274eb2659d308edba72e795c86bdd8cb1"
   },
   "source": [
    "The values towards the top are the most important features, and those towards the bottom matter least.\n",
    "\n",
    "The first number in each row shows how much model performance decreased with a random shuffling (in this case, using \"accuracy\" as the performance metric).\n",
    "\n",
    "Like most things in data science, there is some randomness to the exact performance change from a shuffling a column. We measure the amount of randomness in our permutation importance calculation by repeating the process with multiple shuffles. The number after the ± measures how performance varied from one-reshuffling to the next.\n",
    "\n",
    "You'll occasionally see negative values for permutation importances. In those cases, the predictions on the shuffled (or noisy) data happened to be more accurate than the real data. This happens when the feature didn't matter (should have had an importance close to 0), but random chance caused the predictions on shuffled data to be more accurate. This is more common with small datasets, like the one in this example, because there is more room for luck/chance.\n",
    "\n",
    "In our case, the top 10 most important feature are var_81, var_53, var_139, var_179, var_174, var_40, var_26, var_13, var_24 and var_109. But, Still all the features seems to have value importance close to zero."
   ]
  },
  {
   "cell_type": "markdown",
   "metadata": {
    "_uuid": "c759bfea1d90b899118ed5a153a0189ea10d7a6c"
   },
   "source": [
    "## Computing new features"
   ]
  },
  {
   "cell_type": "code",
   "execution_count": 207,
   "metadata": {
    "_uuid": "3031ffc5211d0e1e1136de8f142e9d87342193c6"
   },
   "outputs": [
    {
     "data": {
      "text/plain": [
       "(400000, 200)"
      ]
     },
     "execution_count": 207,
     "metadata": {},
     "output_type": "execute_result"
    }
   ],
   "source": [
    "#Merge test and train\n",
    "merged = pd.concat([train, test])\n",
    "#Saving the list of original features in a new list `original_features`.\n",
    "original_features = merged.columns\n",
    "merged.shape"
   ]
  },
  {
   "cell_type": "code",
   "execution_count": 208,
   "metadata": {
    "_uuid": "30fa06353135d0df996273926a7e9006b665849f"
   },
   "outputs": [
    {
     "name": "stdout",
     "output_type": "stream",
     "text": [
      "CPU times: user 10.7 s, sys: 5.51 s, total: 16.2 s\n",
      "Wall time: 5.95 s\n"
     ]
    }
   ],
   "source": [
    "%%time\n",
    "idx = features = merged.columns.values[0:123]\n",
    "for df in [merged]:\n",
    "    df['sum'] = df[idx].sum(axis=1)  \n",
    "    df['min'] = df[idx].min(axis=1)\n",
    "    df['max'] = df[idx].max(axis=1)\n",
    "    df['mean'] = df[idx].mean(axis=1)\n",
    "    df['std'] = df[idx].std(axis=1)\n",
    "    df['skew'] = df[idx].skew(axis=1)\n",
    "    df['kurt'] = df[idx].kurtosis(axis=1)\n",
    "    df['med'] = df[idx].median(axis=1)"
   ]
  },
  {
   "cell_type": "code",
   "execution_count": 209,
   "metadata": {
    "_uuid": "456a64b4d2c1ada1b6db546a1d004537df4bd238"
   },
   "outputs": [],
   "source": [
    "#Getting the list of names of the added features.\n",
    "new_features = set(merged.columns) - set(original_features)"
   ]
  },
  {
   "cell_type": "code",
   "execution_count": 210,
   "metadata": {
    "_uuid": "8c278ce260046cb0adfa633f557cf97fa63f2e58"
   },
   "outputs": [
    {
     "name": "stdout",
     "output_type": "stream",
     "text": [
      "Total number of features:  208\n"
     ]
    }
   ],
   "source": [
    "print(\"Total number of features: \",merged.shape[1])"
   ]
  },
  {
   "cell_type": "code",
   "execution_count": 211,
   "metadata": {
    "_uuid": "284f2431c16429e4e098dafd4810a04e6dfd525d"
   },
   "outputs": [
    {
     "data": {
      "text/html": [
       "<div>\n",
       "<style scoped>\n",
       "    .dataframe tbody tr th:only-of-type {\n",
       "        vertical-align: middle;\n",
       "    }\n",
       "\n",
       "    .dataframe tbody tr th {\n",
       "        vertical-align: top;\n",
       "    }\n",
       "\n",
       "    .dataframe thead th {\n",
       "        text-align: right;\n",
       "    }\n",
       "</style>\n",
       "<table border=\"1\" class=\"dataframe\">\n",
       "  <thead>\n",
       "    <tr style=\"text-align: right;\">\n",
       "      <th></th>\n",
       "      <th>var_0</th>\n",
       "      <th>var_1</th>\n",
       "      <th>var_2</th>\n",
       "      <th>var_3</th>\n",
       "      <th>var_4</th>\n",
       "      <th>var_5</th>\n",
       "      <th>var_6</th>\n",
       "      <th>var_7</th>\n",
       "      <th>var_8</th>\n",
       "      <th>var_9</th>\n",
       "      <th>...</th>\n",
       "      <th>var_198</th>\n",
       "      <th>var_199</th>\n",
       "      <th>sum</th>\n",
       "      <th>min</th>\n",
       "      <th>max</th>\n",
       "      <th>mean</th>\n",
       "      <th>std</th>\n",
       "      <th>skew</th>\n",
       "      <th>kurt</th>\n",
       "      <th>med</th>\n",
       "    </tr>\n",
       "  </thead>\n",
       "  <tbody>\n",
       "    <tr>\n",
       "      <th>0</th>\n",
       "      <td>8.9255</td>\n",
       "      <td>-6.7863</td>\n",
       "      <td>11.9081</td>\n",
       "      <td>5.0930</td>\n",
       "      <td>11.4607</td>\n",
       "      <td>-9.2834</td>\n",
       "      <td>5.1187</td>\n",
       "      <td>18.6266</td>\n",
       "      <td>-4.9200</td>\n",
       "      <td>5.7470</td>\n",
       "      <td>...</td>\n",
       "      <td>12.7803</td>\n",
       "      <td>-1.0914</td>\n",
       "      <td>910.7792</td>\n",
       "      <td>-21.4494</td>\n",
       "      <td>43.1127</td>\n",
       "      <td>7.404709</td>\n",
       "      <td>9.266565</td>\n",
       "      <td>0.312327</td>\n",
       "      <td>1.810117</td>\n",
       "      <td>6.7602</td>\n",
       "    </tr>\n",
       "    <tr>\n",
       "      <th>1</th>\n",
       "      <td>11.5006</td>\n",
       "      <td>-4.1473</td>\n",
       "      <td>13.8588</td>\n",
       "      <td>5.3890</td>\n",
       "      <td>12.3622</td>\n",
       "      <td>7.0433</td>\n",
       "      <td>5.6208</td>\n",
       "      <td>16.5338</td>\n",
       "      <td>3.1468</td>\n",
       "      <td>8.0851</td>\n",
       "      <td>...</td>\n",
       "      <td>18.3560</td>\n",
       "      <td>1.9518</td>\n",
       "      <td>854.8892</td>\n",
       "      <td>-47.3797</td>\n",
       "      <td>40.5632</td>\n",
       "      <td>6.950319</td>\n",
       "      <td>11.064601</td>\n",
       "      <td>-0.425218</td>\n",
       "      <td>4.994498</td>\n",
       "      <td>7.0433</td>\n",
       "    </tr>\n",
       "    <tr>\n",
       "      <th>2</th>\n",
       "      <td>8.6093</td>\n",
       "      <td>-2.7457</td>\n",
       "      <td>12.0805</td>\n",
       "      <td>7.8928</td>\n",
       "      <td>10.5825</td>\n",
       "      <td>-9.0837</td>\n",
       "      <td>6.9427</td>\n",
       "      <td>14.6155</td>\n",
       "      <td>-4.9193</td>\n",
       "      <td>5.9525</td>\n",
       "      <td>...</td>\n",
       "      <td>14.7222</td>\n",
       "      <td>0.3965</td>\n",
       "      <td>813.5915</td>\n",
       "      <td>-22.4038</td>\n",
       "      <td>28.7632</td>\n",
       "      <td>6.614565</td>\n",
       "      <td>8.680910</td>\n",
       "      <td>-0.431941</td>\n",
       "      <td>0.737118</td>\n",
       "      <td>6.3577</td>\n",
       "    </tr>\n",
       "    <tr>\n",
       "      <th>3</th>\n",
       "      <td>11.0604</td>\n",
       "      <td>-2.1518</td>\n",
       "      <td>8.9522</td>\n",
       "      <td>7.1957</td>\n",
       "      <td>12.5846</td>\n",
       "      <td>-1.8361</td>\n",
       "      <td>5.8428</td>\n",
       "      <td>14.9250</td>\n",
       "      <td>-5.8609</td>\n",
       "      <td>8.2450</td>\n",
       "      <td>...</td>\n",
       "      <td>17.9697</td>\n",
       "      <td>-8.9996</td>\n",
       "      <td>786.7067</td>\n",
       "      <td>-35.1659</td>\n",
       "      <td>38.1015</td>\n",
       "      <td>6.395989</td>\n",
       "      <td>9.858251</td>\n",
       "      <td>-0.818993</td>\n",
       "      <td>3.908457</td>\n",
       "      <td>6.8202</td>\n",
       "    </tr>\n",
       "    <tr>\n",
       "      <th>4</th>\n",
       "      <td>9.8369</td>\n",
       "      <td>-1.4834</td>\n",
       "      <td>12.8746</td>\n",
       "      <td>6.6375</td>\n",
       "      <td>12.2772</td>\n",
       "      <td>2.4486</td>\n",
       "      <td>5.9405</td>\n",
       "      <td>19.2514</td>\n",
       "      <td>6.2654</td>\n",
       "      <td>7.6784</td>\n",
       "      <td>...</td>\n",
       "      <td>17.9974</td>\n",
       "      <td>-8.8104</td>\n",
       "      <td>772.3701</td>\n",
       "      <td>-65.4863</td>\n",
       "      <td>41.1037</td>\n",
       "      <td>6.279432</td>\n",
       "      <td>12.619397</td>\n",
       "      <td>-1.687160</td>\n",
       "      <td>9.763433</td>\n",
       "      <td>6.9860</td>\n",
       "    </tr>\n",
       "  </tbody>\n",
       "</table>\n",
       "<p>5 rows × 208 columns</p>\n",
       "</div>"
      ],
      "text/plain": [
       "     var_0   var_1    var_2   var_3    var_4   var_5   var_6    var_7   var_8  \\\n",
       "0   8.9255 -6.7863  11.9081  5.0930  11.4607 -9.2834  5.1187  18.6266 -4.9200   \n",
       "1  11.5006 -4.1473  13.8588  5.3890  12.3622  7.0433  5.6208  16.5338  3.1468   \n",
       "2   8.6093 -2.7457  12.0805  7.8928  10.5825 -9.0837  6.9427  14.6155 -4.9193   \n",
       "3  11.0604 -2.1518   8.9522  7.1957  12.5846 -1.8361  5.8428  14.9250 -5.8609   \n",
       "4   9.8369 -1.4834  12.8746  6.6375  12.2772  2.4486  5.9405  19.2514  6.2654   \n",
       "\n",
       "    var_9  ...  var_198  var_199       sum      min      max      mean  \\\n",
       "0  5.7470  ...  12.7803  -1.0914  910.7792 -21.4494  43.1127  7.404709   \n",
       "1  8.0851  ...  18.3560   1.9518  854.8892 -47.3797  40.5632  6.950319   \n",
       "2  5.9525  ...  14.7222   0.3965  813.5915 -22.4038  28.7632  6.614565   \n",
       "3  8.2450  ...  17.9697  -8.9996  786.7067 -35.1659  38.1015  6.395989   \n",
       "4  7.6784  ...  17.9974  -8.8104  772.3701 -65.4863  41.1037  6.279432   \n",
       "\n",
       "         std      skew      kurt     med  \n",
       "0   9.266565  0.312327  1.810117  6.7602  \n",
       "1  11.064601 -0.425218  4.994498  7.0433  \n",
       "2   8.680910 -0.431941  0.737118  6.3577  \n",
       "3   9.858251 -0.818993  3.908457  6.8202  \n",
       "4  12.619397 -1.687160  9.763433  6.9860  \n",
       "\n",
       "[5 rows x 208 columns]"
      ]
     },
     "execution_count": 211,
     "metadata": {},
     "output_type": "execute_result"
    }
   ],
   "source": [
    "train = merged.iloc[:len_train]\n",
    "X = train\n",
    "train.head()"
   ]
  },
  {
   "cell_type": "code",
   "execution_count": 212,
   "metadata": {
    "_uuid": "84069596903555506b88d976bdec967642402535"
   },
   "outputs": [
    {
     "data": {
      "text/html": [
       "<div>\n",
       "<style scoped>\n",
       "    .dataframe tbody tr th:only-of-type {\n",
       "        vertical-align: middle;\n",
       "    }\n",
       "\n",
       "    .dataframe tbody tr th {\n",
       "        vertical-align: top;\n",
       "    }\n",
       "\n",
       "    .dataframe thead th {\n",
       "        text-align: right;\n",
       "    }\n",
       "</style>\n",
       "<table border=\"1\" class=\"dataframe\">\n",
       "  <thead>\n",
       "    <tr style=\"text-align: right;\">\n",
       "      <th></th>\n",
       "      <th>var_0</th>\n",
       "      <th>var_1</th>\n",
       "      <th>var_2</th>\n",
       "      <th>var_3</th>\n",
       "      <th>var_4</th>\n",
       "      <th>var_5</th>\n",
       "      <th>var_6</th>\n",
       "      <th>var_7</th>\n",
       "      <th>var_8</th>\n",
       "      <th>var_9</th>\n",
       "      <th>...</th>\n",
       "      <th>var_198</th>\n",
       "      <th>var_199</th>\n",
       "      <th>sum</th>\n",
       "      <th>min</th>\n",
       "      <th>max</th>\n",
       "      <th>mean</th>\n",
       "      <th>std</th>\n",
       "      <th>skew</th>\n",
       "      <th>kurt</th>\n",
       "      <th>med</th>\n",
       "    </tr>\n",
       "  </thead>\n",
       "  <tbody>\n",
       "    <tr>\n",
       "      <th>0</th>\n",
       "      <td>11.0656</td>\n",
       "      <td>7.7798</td>\n",
       "      <td>12.9536</td>\n",
       "      <td>9.4292</td>\n",
       "      <td>11.4327</td>\n",
       "      <td>-2.3805</td>\n",
       "      <td>5.8493</td>\n",
       "      <td>18.2675</td>\n",
       "      <td>2.1337</td>\n",
       "      <td>8.8100</td>\n",
       "      <td>...</td>\n",
       "      <td>15.4722</td>\n",
       "      <td>-8.7197</td>\n",
       "      <td>963.1183</td>\n",
       "      <td>-31.9891</td>\n",
       "      <td>42.0248</td>\n",
       "      <td>7.830230</td>\n",
       "      <td>10.124670</td>\n",
       "      <td>-0.104436</td>\n",
       "      <td>2.487471</td>\n",
       "      <td>7.7798</td>\n",
       "    </tr>\n",
       "    <tr>\n",
       "      <th>1</th>\n",
       "      <td>8.5304</td>\n",
       "      <td>1.2543</td>\n",
       "      <td>11.3047</td>\n",
       "      <td>5.1858</td>\n",
       "      <td>9.1974</td>\n",
       "      <td>-4.0117</td>\n",
       "      <td>6.0196</td>\n",
       "      <td>18.6316</td>\n",
       "      <td>-4.4131</td>\n",
       "      <td>5.9739</td>\n",
       "      <td>...</td>\n",
       "      <td>19.1293</td>\n",
       "      <td>-20.9760</td>\n",
       "      <td>780.2476</td>\n",
       "      <td>-41.1924</td>\n",
       "      <td>35.6020</td>\n",
       "      <td>6.343476</td>\n",
       "      <td>9.762495</td>\n",
       "      <td>-0.797052</td>\n",
       "      <td>4.776168</td>\n",
       "      <td>6.0196</td>\n",
       "    </tr>\n",
       "    <tr>\n",
       "      <th>2</th>\n",
       "      <td>5.4827</td>\n",
       "      <td>-10.3581</td>\n",
       "      <td>10.1407</td>\n",
       "      <td>7.0479</td>\n",
       "      <td>10.2628</td>\n",
       "      <td>9.8052</td>\n",
       "      <td>4.8950</td>\n",
       "      <td>20.2537</td>\n",
       "      <td>1.5233</td>\n",
       "      <td>8.3442</td>\n",
       "      <td>...</td>\n",
       "      <td>19.8956</td>\n",
       "      <td>-23.1794</td>\n",
       "      <td>898.6623</td>\n",
       "      <td>-34.3488</td>\n",
       "      <td>37.8664</td>\n",
       "      <td>7.306198</td>\n",
       "      <td>10.171550</td>\n",
       "      <td>-0.381656</td>\n",
       "      <td>2.789642</td>\n",
       "      <td>8.0667</td>\n",
       "    </tr>\n",
       "    <tr>\n",
       "      <th>3</th>\n",
       "      <td>8.5374</td>\n",
       "      <td>-1.3222</td>\n",
       "      <td>12.0220</td>\n",
       "      <td>6.5749</td>\n",
       "      <td>8.8458</td>\n",
       "      <td>3.1744</td>\n",
       "      <td>4.9397</td>\n",
       "      <td>20.5660</td>\n",
       "      <td>3.3755</td>\n",
       "      <td>7.4578</td>\n",
       "      <td>...</td>\n",
       "      <td>13.0168</td>\n",
       "      <td>-4.2108</td>\n",
       "      <td>913.0137</td>\n",
       "      <td>-21.4797</td>\n",
       "      <td>40.3383</td>\n",
       "      <td>7.422876</td>\n",
       "      <td>8.532997</td>\n",
       "      <td>0.065783</td>\n",
       "      <td>2.467721</td>\n",
       "      <td>6.9174</td>\n",
       "    </tr>\n",
       "    <tr>\n",
       "      <th>4</th>\n",
       "      <td>11.7058</td>\n",
       "      <td>-0.1327</td>\n",
       "      <td>14.1295</td>\n",
       "      <td>7.7506</td>\n",
       "      <td>9.1035</td>\n",
       "      <td>-8.5848</td>\n",
       "      <td>6.8595</td>\n",
       "      <td>10.6048</td>\n",
       "      <td>2.9890</td>\n",
       "      <td>7.1437</td>\n",
       "      <td>...</td>\n",
       "      <td>13.9260</td>\n",
       "      <td>-9.1846</td>\n",
       "      <td>965.5416</td>\n",
       "      <td>-15.6961</td>\n",
       "      <td>45.5510</td>\n",
       "      <td>7.849932</td>\n",
       "      <td>9.815783</td>\n",
       "      <td>0.847870</td>\n",
       "      <td>3.104922</td>\n",
       "      <td>6.8595</td>\n",
       "    </tr>\n",
       "  </tbody>\n",
       "</table>\n",
       "<p>5 rows × 208 columns</p>\n",
       "</div>"
      ],
      "text/plain": [
       "     var_0    var_1    var_2   var_3    var_4   var_5   var_6    var_7  \\\n",
       "0  11.0656   7.7798  12.9536  9.4292  11.4327 -2.3805  5.8493  18.2675   \n",
       "1   8.5304   1.2543  11.3047  5.1858   9.1974 -4.0117  6.0196  18.6316   \n",
       "2   5.4827 -10.3581  10.1407  7.0479  10.2628  9.8052  4.8950  20.2537   \n",
       "3   8.5374  -1.3222  12.0220  6.5749   8.8458  3.1744  4.9397  20.5660   \n",
       "4  11.7058  -0.1327  14.1295  7.7506   9.1035 -8.5848  6.8595  10.6048   \n",
       "\n",
       "    var_8   var_9  ...  var_198  var_199       sum      min      max  \\\n",
       "0  2.1337  8.8100  ...  15.4722  -8.7197  963.1183 -31.9891  42.0248   \n",
       "1 -4.4131  5.9739  ...  19.1293 -20.9760  780.2476 -41.1924  35.6020   \n",
       "2  1.5233  8.3442  ...  19.8956 -23.1794  898.6623 -34.3488  37.8664   \n",
       "3  3.3755  7.4578  ...  13.0168  -4.2108  913.0137 -21.4797  40.3383   \n",
       "4  2.9890  7.1437  ...  13.9260  -9.1846  965.5416 -15.6961  45.5510   \n",
       "\n",
       "       mean        std      skew      kurt     med  \n",
       "0  7.830230  10.124670 -0.104436  2.487471  7.7798  \n",
       "1  6.343476   9.762495 -0.797052  4.776168  6.0196  \n",
       "2  7.306198  10.171550 -0.381656  2.789642  8.0667  \n",
       "3  7.422876   8.532997  0.065783  2.467721  6.9174  \n",
       "4  7.849932   9.815783  0.847870  3.104922  6.8595  \n",
       "\n",
       "[5 rows x 208 columns]"
      ]
     },
     "execution_count": 212,
     "metadata": {},
     "output_type": "execute_result"
    }
   ],
   "source": [
    "test = merged.iloc[len_train:]\n",
    "test.head()"
   ]
  },
  {
   "cell_type": "code",
   "execution_count": null,
   "metadata": {},
   "outputs": [],
   "source": []
  },
  {
   "cell_type": "code",
   "execution_count": 213,
   "metadata": {
    "_uuid": "fc5995a75a53e2eb63d1659a2c5fb3ea29379944"
   },
   "outputs": [
    {
     "data": {
      "text/plain": [
       "83"
      ]
     },
     "execution_count": 213,
     "metadata": {},
     "output_type": "execute_result"
    }
   ],
   "source": [
    "del merged\n",
    "gc.collect()"
   ]
  },
  {
   "cell_type": "markdown",
   "metadata": {
    "_uuid": "980584a7b0f5eebed05091e14bd1490c1f62f216"
   },
   "source": [
    "## LGBM with new features"
   ]
  },
  {
   "cell_type": "code",
   "execution_count": 230,
   "metadata": {
    "_uuid": "ebdd4ae3b306ab2102bb05697549be53aa43d0af"
   },
   "outputs": [],
   "source": [
    "#original from kaggle\n",
    "# params_tuned = {\n",
    "#     'bagging_freq': 5,\n",
    "#     'bagging_fraction': 0.4,\n",
    "#     'boost_from_average':'false',\n",
    "#     'boost': 'gbdt',\n",
    "#     'feature_fraction': 0.05,\n",
    "#     'learning_rate': 0.01,\n",
    "#     'max_depth': -1,  \n",
    "#     'metric':'auc',\n",
    "#     'min_data_in_leaf': 80,\n",
    "#     'min_sum_hessian_in_leaf': 10.0,\n",
    "#     'num_leaves': 13,\n",
    "#     'num_threads': 8,\n",
    "#     'tree_learner': 'serial',\n",
    "#     'objective': 'binary', \n",
    "#     'verbosity': 1\n",
    "# }\n",
    "\n",
    "\n",
    "params_tuned = {\n",
    "    'objective': 'binary', \n",
    "    'boost': 'gbdt',\n",
    "    'bagging_freq': 5,\n",
    "    'bagging_fraction': 0.4,\n",
    "    'boost_from_average':'false',\n",
    "    'random_state': 42,\n",
    "    'feature_fraction': 0.05,\n",
    "    'learning_rate': 0.009,\n",
    "    'max_depth': -1,  \n",
    "    'metric':'auc',\n",
    "    'min_data_in_leaf': 80,\n",
    "    'min_sum_hessian_in_leaf': 8.0,\n",
    "    'num_leaves': 13,\n",
    "    'num_threads': 8,\n",
    "    'tree_learner': 'serial',\n",
    "    \n",
    "    'verbosity': 1\n",
    "}\n"
   ]
  },
  {
   "cell_type": "code",
   "execution_count": 231,
   "metadata": {
    "_uuid": "8a4227a855a64272e75567de47fdb06b086fd6ff"
   },
   "outputs": [
    {
     "name": "stdout",
     "output_type": "stream",
     "text": [
      "Fold 0 started at Mon Mar 11 00:40:50 2019\n",
      "Training until validation scores don't improve for 3000 rounds.\n",
      "[1000]\ttraining's auc: 0.901673\tvalid_1's auc: 0.879154\n",
      "[2000]\ttraining's auc: 0.912411\tvalid_1's auc: 0.886167\n",
      "[3000]\ttraining's auc: 0.920258\tvalid_1's auc: 0.890597\n",
      "[4000]\ttraining's auc: 0.926208\tvalid_1's auc: 0.893313\n",
      "[5000]\ttraining's auc: 0.931206\tvalid_1's auc: 0.894749\n",
      "[6000]\ttraining's auc: 0.935585\tvalid_1's auc: 0.895773\n",
      "[7000]\ttraining's auc: 0.939532\tvalid_1's auc: 0.896457\n",
      "[8000]\ttraining's auc: 0.943291\tvalid_1's auc: 0.896726\n",
      "[9000]\ttraining's auc: 0.946815\tvalid_1's auc: 0.896859\n",
      "[10000]\ttraining's auc: 0.950171\tvalid_1's auc: 0.896916\n",
      "[11000]\ttraining's auc: 0.953374\tvalid_1's auc: 0.896855\n",
      "[12000]\ttraining's auc: 0.956408\tvalid_1's auc: 0.89685\n",
      "[13000]\ttraining's auc: 0.959341\tvalid_1's auc: 0.896775\n",
      "Early stopping, best iteration is:\n",
      "[10075]\ttraining's auc: 0.950411\tvalid_1's auc: 0.896932\n",
      "Fold 1 started at Mon Mar 11 00:44:54 2019\n",
      "Training until validation scores don't improve for 3000 rounds.\n",
      "[1000]\ttraining's auc: 0.900275\tvalid_1's auc: 0.88629\n",
      "[2000]\ttraining's auc: 0.910999\tvalid_1's auc: 0.893915\n",
      "[3000]\ttraining's auc: 0.9191\tvalid_1's auc: 0.897964\n",
      "[4000]\ttraining's auc: 0.924998\tvalid_1's auc: 0.900122\n",
      "[5000]\ttraining's auc: 0.930101\tvalid_1's auc: 0.901482\n",
      "[6000]\ttraining's auc: 0.934623\tvalid_1's auc: 0.902329\n",
      "[7000]\ttraining's auc: 0.938654\tvalid_1's auc: 0.902837\n",
      "[8000]\ttraining's auc: 0.94248\tvalid_1's auc: 0.903032\n",
      "[9000]\ttraining's auc: 0.94611\tvalid_1's auc: 0.903125\n",
      "[10000]\ttraining's auc: 0.949564\tvalid_1's auc: 0.903155\n",
      "[11000]\ttraining's auc: 0.952783\tvalid_1's auc: 0.903163\n",
      "[12000]\ttraining's auc: 0.955883\tvalid_1's auc: 0.903023\n",
      "[13000]\ttraining's auc: 0.958874\tvalid_1's auc: 0.902862\n",
      "Early stopping, best iteration is:\n",
      "[10293]\ttraining's auc: 0.950537\tvalid_1's auc: 0.90323\n",
      "Fold 2 started at Mon Mar 11 00:49:07 2019\n",
      "Training until validation scores don't improve for 3000 rounds.\n",
      "[1000]\ttraining's auc: 0.901041\tvalid_1's auc: 0.882066\n",
      "[2000]\ttraining's auc: 0.911373\tvalid_1's auc: 0.88969\n",
      "[3000]\ttraining's auc: 0.919218\tvalid_1's auc: 0.894558\n",
      "[4000]\ttraining's auc: 0.925084\tvalid_1's auc: 0.897113\n",
      "[5000]\ttraining's auc: 0.930112\tvalid_1's auc: 0.89895\n",
      "[6000]\ttraining's auc: 0.934615\tvalid_1's auc: 0.899932\n",
      "[7000]\ttraining's auc: 0.938656\tvalid_1's auc: 0.90044\n",
      "[8000]\ttraining's auc: 0.942502\tvalid_1's auc: 0.900626\n",
      "[9000]\ttraining's auc: 0.946136\tvalid_1's auc: 0.900757\n",
      "[10000]\ttraining's auc: 0.949586\tvalid_1's auc: 0.900875\n",
      "[11000]\ttraining's auc: 0.952851\tvalid_1's auc: 0.90088\n",
      "[12000]\ttraining's auc: 0.955903\tvalid_1's auc: 0.900741\n",
      "[13000]\ttraining's auc: 0.958881\tvalid_1's auc: 0.900714\n",
      "Early stopping, best iteration is:\n",
      "[10263]\ttraining's auc: 0.950469\tvalid_1's auc: 0.900935\n",
      "Fold 3 started at Mon Mar 11 00:53:39 2019\n",
      "Training until validation scores don't improve for 3000 rounds.\n",
      "[1000]\ttraining's auc: 0.90097\tvalid_1's auc: 0.882621\n",
      "[2000]\ttraining's auc: 0.911644\tvalid_1's auc: 0.890715\n",
      "[3000]\ttraining's auc: 0.919789\tvalid_1's auc: 0.895017\n",
      "[4000]\ttraining's auc: 0.925669\tvalid_1's auc: 0.897177\n",
      "[5000]\ttraining's auc: 0.930682\tvalid_1's auc: 0.898623\n",
      "[6000]\ttraining's auc: 0.9351\tvalid_1's auc: 0.899466\n",
      "[7000]\ttraining's auc: 0.939074\tvalid_1's auc: 0.89996\n",
      "[8000]\ttraining's auc: 0.942848\tvalid_1's auc: 0.900247\n",
      "[9000]\ttraining's auc: 0.946353\tvalid_1's auc: 0.900222\n",
      "[10000]\ttraining's auc: 0.949794\tvalid_1's auc: 0.900285\n",
      "[11000]\ttraining's auc: 0.953026\tvalid_1's auc: 0.900199\n",
      "[12000]\ttraining's auc: 0.956095\tvalid_1's auc: 0.900127\n",
      "[13000]\ttraining's auc: 0.959048\tvalid_1's auc: 0.900107\n",
      "Early stopping, best iteration is:\n",
      "[10491]\ttraining's auc: 0.951439\tvalid_1's auc: 0.900319\n",
      "Fold 4 started at Mon Mar 11 00:58:40 2019\n",
      "Training until validation scores don't improve for 3000 rounds.\n",
      "[1000]\ttraining's auc: 0.900928\tvalid_1's auc: 0.882804\n",
      "[2000]\ttraining's auc: 0.911431\tvalid_1's auc: 0.889362\n",
      "[3000]\ttraining's auc: 0.919588\tvalid_1's auc: 0.894022\n",
      "[4000]\ttraining's auc: 0.925562\tvalid_1's auc: 0.896569\n",
      "[5000]\ttraining's auc: 0.930623\tvalid_1's auc: 0.897815\n",
      "[6000]\ttraining's auc: 0.934983\tvalid_1's auc: 0.898718\n",
      "[7000]\ttraining's auc: 0.938967\tvalid_1's auc: 0.899229\n",
      "[8000]\ttraining's auc: 0.94271\tvalid_1's auc: 0.899526\n",
      "[9000]\ttraining's auc: 0.946231\tvalid_1's auc: 0.899539\n",
      "[10000]\ttraining's auc: 0.949617\tvalid_1's auc: 0.899669\n",
      "[11000]\ttraining's auc: 0.95279\tvalid_1's auc: 0.899632\n",
      "[12000]\ttraining's auc: 0.95592\tvalid_1's auc: 0.899546\n",
      "[13000]\ttraining's auc: 0.95888\tvalid_1's auc: 0.899477\n",
      "Early stopping, best iteration is:\n",
      "[10672]\ttraining's auc: 0.951739\tvalid_1's auc: 0.89971\n",
      "CV SCORE: 0.90021 \n",
      "CPU times: user 2h 41min 8s, sys: 19.9 s, total: 2h 41min 28s\n",
      "Wall time: 22min 3s\n"
     ]
    }
   ],
   "source": [
    "%%time\n",
    "X_test = test.values.astype(float)\n",
    "y_pred_lgb = np.zeros(len(X_test))\n",
    "features = [c for c in X.columns]\n",
    "oof = np.zeros(len(train))\n",
    "fold_n = 5\n",
    "cv = fold_n\n",
    "    \n",
    "folds = StratifiedKFold(n_splits=fold_n, random_state=10, shuffle=True)\n",
    "\n",
    "for fold_n, (train_index, valid_index) in enumerate(folds.split(X,y)):\n",
    "    print('Fold', fold_n, 'started at', time.ctime())    \n",
    "    X_train, X_valid = X.iloc[train_index], X.iloc[valid_index]\n",
    "    y_train, y_valid = y[train_index], y[valid_index]\n",
    "\n",
    "    train_data = lgb.Dataset(X_train, label=y_train)\n",
    "    valid_data = lgb.Dataset(X_valid, label=y_valid)\n",
    "        \n",
    "    lgb_model = lgb.train(params_tuned,train_data,num_boost_round=100000, valid_sets = [train_data, valid_data],verbose_eval=1000,early_stopping_rounds = 3000)\n",
    "    oof[valid_index] = lgb_model.predict(X.iloc[valid_index][features], num_iteration=lgb_model.best_iteration)\n",
    "    \n",
    "    feature_importance_df = pd.DataFrame()\n",
    "    fold_importance_df = pd.DataFrame()\n",
    "    fold_importance_df[\"Feature\"] = features\n",
    "    fold_importance_df[\"importance\"] = lgb_model.feature_importance()\n",
    "    fold_importance_df[\"fold\"] = fold_n + 1\n",
    "    feature_importance_df = pd.concat([feature_importance_df, fold_importance_df], axis=0)\n",
    "        \n",
    "    y_pred_lgb += lgb_model.predict(X_test, num_iteration=lgb_model.best_iteration)/cv\n",
    "\n",
    "print(\"CV SCORE: {:<8.5f}\".format(roc_auc_score(y, oof)))"
   ]
  },
  {
   "cell_type": "markdown",
   "metadata": {
    "_uuid": "2bfe65aa1995079f9a5d35760e1cbdec32923e9a"
   },
   "source": [
    "### Feature Importance"
   ]
  },
  {
   "cell_type": "code",
   "execution_count": 232,
   "metadata": {
    "_uuid": "d04c6595677b6a18274e3c477c4e27a481889a06"
   },
   "outputs": [
    {
     "data": {
      "image/png": "[encoded data removed]",
      "text/plain": [
       "<Figure size 1008x2016 with 1 Axes>"
      ]
     },
     "metadata": {
      "needs_background": "light"
     },
     "output_type": "display_data"
    }
   ],
   "source": [
    "cols = (feature_importance_df[[\"Feature\", \"importance\"]]\n",
    "        .groupby(\"Feature\")\n",
    "        .mean()\n",
    "        .sort_values(by=\"importance\", ascending=False)[:150].index)\n",
    "best_features = feature_importance_df.loc[feature_importance_df.Feature.isin(cols)]\n",
    "\n",
    "plt.figure(figsize=(14,28))\n",
    "sns.barplot(x=\"importance\", y=\"Feature\", data=best_features.sort_values(by=\"importance\",ascending=False))\n",
    "plt.title('Features importance (averaged/folds)')\n",
    "plt.tight_layout()\n",
    "plt.savefig('FI.png')"
   ]
  },
  {
   "cell_type": "markdown",
   "metadata": {
    "_uuid": "f33577270febfac2d7c58b2fffef3eded8219629"
   },
   "source": [
    "## Submission File"
   ]
  },
  {
   "cell_type": "code",
   "execution_count": 233,
   "metadata": {
    "_uuid": "7ff36e1f3762c21af0ea048aea944a9e5e5b76d6"
   },
   "outputs": [],
   "source": [
    "submission_lgb = pd.DataFrame({\n",
    "        \"ID_code\": test_ids,\n",
    "        \"target\": y_pred_lgb\n",
    "    })\n",
    "submission_lgb.to_csv('submission_lgb.csv', index=False)"
   ]
  },
  {
   "cell_type": "markdown",
   "metadata": {
    "_uuid": "e3b88b41d876338362d22fbeb552bf3ec6db964b"
   },
   "source": [
    "## Credit:\n",
    "Alexey Pronin's kernel (https://www.kaggle.com/graf10a/logistic-regression-with-new-features-feather) \n",
    "\n",
    "Gabriel Preda's kernel (https://www.kaggle.com/gpreda/santander-eda-and-prediction)\n",
    "\n",
    "MohanRaj's kernel (https://www.kaggle.com/mytymohan/sct-prediction-eda-smote-lgbm)\n",
    "\n",
    "JeremyLane's kernel (https://www.kaggle.com/lane203j/methods-and-common-mistakes-for-evaluating-models)"
   ]
  },
  {
   "cell_type": "code",
   "execution_count": 20,
   "metadata": {
    "_uuid": "be653a62d173debbcc13a1acc395cf45a49d1c1c"
   },
   "outputs": [],
   "source": []
  }
 ],
 "metadata": {
  "kernelspec": {
   "display_name": "Python 3",
   "language": "python",
   "name": "python3"
  },
  "language_info": {
   "codemirror_mode": {
    "name": "ipython",
    "version": 3
   },
   "file_extension": ".py",
   "mimetype": "text/x-python",
   "name": "python",
   "nbconvert_exporter": "python",
   "pygments_lexer": "ipython3",
   "version": "3.6.8"
  }
 },
 "nbformat": 4,
 "nbformat_minor": 2
}
