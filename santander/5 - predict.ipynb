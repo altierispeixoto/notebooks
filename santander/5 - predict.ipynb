{
 "cells": [
  {
   "cell_type": "code",
   "execution_count": 1,
   "metadata": {},
   "outputs": [],
   "source": [
    "import lightgbm as lgb\n",
    "import pandas as pd\n",
    "try:\n",
    "    import cPickle as pickle\n",
    "except BaseException:\n",
    "    import pickle"
   ]
  },
  {
   "cell_type": "code",
   "execution_count": 2,
   "metadata": {},
   "outputs": [],
   "source": [
    "test = pd.read_csv('/home/altieris/datascience/data/santander-customer-transaction-prediction/test.csv')"
   ]
  },
  {
   "cell_type": "code",
   "execution_count": 3,
   "metadata": {},
   "outputs": [],
   "source": [
    "drop_from_shap=['var_185', 'var_181', 'var_182', 'var_183', 'var_14', 'var_41',\n",
    "       'var_98', 'var_103', 'var_189', 'var_10', 'var_7', 'var_64',\n",
    "       'var_65', 'var_84', 'var_73', 'var_79', 'var_96', 'var_19',\n",
    "       'var_17', 'var_160', 'var_143', 'var_46', 'var_153', 'var_39',\n",
    "       'var_38', 'var_37', 'var_158', 'var_136', 'var_161', 'var_42',\n",
    "       'var_129', 'var_30', 'var_29', 'var_126', 'var_124', 'var_27',\n",
    "       'var_117', 'var_59', 'var_100','var_168', 'var_3', 'var_8', 'var_74', 'var_72', 'var_178',\n",
    "       'var_54', 'var_171', 'var_50', 'var_152', 'var_55', 'var_140',\n",
    "       'var_138', 'var_193', 'var_156', 'var_113', 'var_63', 'var_15',\n",
    "       'var_60', 'var_69', 'var_159', 'var_47', 'var_61', 'var_176',\n",
    "       'var_68', 'var_16', 'var_57', 'var_101', 'var_25', 'var_120','var_194', 'var_11', 'var_45', 'var_196', 'var_83', 'var_20',\n",
    "       'var_77', 'var_134', 'var_82', 'var_102', 'var_97', 'var_187',\n",
    "       'var_142', 'var_88', 'var_62', 'var_4']\n",
    "\n",
    "X_test  = test.drop(\"ID_code\",axis=1).drop(drop_from_shap,axis=1)"
   ]
  },
  {
   "cell_type": "code",
   "execution_count": 4,
   "metadata": {},
   "outputs": [],
   "source": [
    "# load model with pickle to predict\n",
    "with open('lgb_model.pkl', 'rb') as fin:\n",
    "    pkl_bst = pickle.load(fin)"
   ]
  },
  {
   "cell_type": "code",
   "execution_count": 5,
   "metadata": {},
   "outputs": [],
   "source": [
    "# can predict with any iteration when loaded in pickle way\n",
    "# eval with loaded model\n",
    "y_pred_lgb = pkl_bst.predict(X_test, num_iteration=pkl_bst.best_iteration)"
   ]
  },
  {
   "cell_type": "code",
   "execution_count": 6,
   "metadata": {},
   "outputs": [],
   "source": [
    "submission_lgb = pd.DataFrame({\n",
    "        \"ID_code\": test[\"ID_code\"],\n",
    "        \"target\": y_pred_lgb\n",
    "    })\n",
    "submission_lgb.to_csv('submission_lgb.csv', index=False)"
   ]
  },
  {
   "cell_type": "code",
   "execution_count": null,
   "metadata": {},
   "outputs": [],
   "source": []
  }
 ],
 "metadata": {
  "kernelspec": {
   "display_name": "Python 3",
   "language": "python",
   "name": "python3"
  },
  "language_info": {
   "codemirror_mode": {
    "name": "ipython",
    "version": 3
   },
   "file_extension": ".py",
   "mimetype": "text/x-python",
   "name": "python",
   "nbconvert_exporter": "python",
   "pygments_lexer": "ipython3",
   "version": "3.6.8"
  }
 },
 "nbformat": 4,
 "nbformat_minor": 2
}
