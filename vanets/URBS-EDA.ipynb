{
 "cells": [
  {
   "cell_type": "code",
   "execution_count": null,
   "metadata": {},
   "outputs": [],
   "source": [
    "!ls ../../../datascience/data/urbs/2018-11/19-23/*_veiculos.json"
   ]
  },
  {
   "cell_type": "markdown",
   "metadata": {},
   "source": [
    "### **INIT SPARK CONTEXT AND SET CONFIGURATIONS**"
   ]
  },
  {
   "cell_type": "code",
   "execution_count": null,
   "metadata": {},
   "outputs": [],
   "source": [
    "# import findspark\n",
    "# findspark.init()\n",
    "import pixiedust\n",
    "import pyspark\n",
    "import random\n",
    "from datetime import datetime\n",
    "from pyspark.sql.functions import col, udf\n",
    "from pyspark.sql.types import DateType\n",
    "from sklearn.cluster import DBSCAN\n",
    "import numpy as np \n",
    "\n",
    "# Import `pyplot` \n",
    "import matplotlib.pyplot as plt\n",
    "\n",
    "# Set the style to `ggplot`\n",
    "plt.style.use(\"ggplot\")\n",
    "pixiedust.enableJobMonitor()\n",
    "\n",
    "conf = SparkConf().setAppName(\"App\")\n",
    "conf = (conf.setMaster('local[*]')\n",
    "        .set('spark.executor.memory', '4G')\n",
    "        .set('spark.driver.memory', '30G')\n",
    "        .set('spark.driver.maxResultSize', '10G'))\n",
    "\n",
    "sc = SparkContext.getOrCreate(conf=conf)\n",
    "sqlContext = SQLContext(sc)"
   ]
  },
  {
   "cell_type": "markdown",
   "metadata": {},
   "source": [
    "#### **LOAD DATA FILES**"
   ]
  },
  {
   "cell_type": "code",
   "execution_count": null,
   "metadata": {
    "pixiedust": {
     "displayParams": {
      "handlerId": "tableView",
      "rowCount": "5",
      "table_noschema": "true",
      "table_nosearch": "true"
     }
    }
   },
   "outputs": [],
   "source": [
    "path='../../../datascience/data/urbs/2018-11/19-23/'\n",
    "\n",
    "position_events = sqlContext.read.json(path+'*_veiculos.json')\n",
    "\n",
    "toDateTime =  udf(lambda x: datetime.strptime(x, '%d/%m/%Y %H:%M:%S'), DateType())\n",
    "\n",
    "position_events = position_events.withColumn(\"DATA\", toDateTime(col('DTHR')))"
   ]
  },
  {
   "cell_type": "code",
   "execution_count": null,
   "metadata": {
    "pixiedust": {
     "displayParams": {
      "handlerId": "tableView",
      "rowCount": "5",
      "table_noschema": "true",
      "table_nosearch": "true"
     }
    }
   },
   "outputs": [],
   "source": [
    "display(position_events)"
   ]
  },
  {
   "cell_type": "code",
   "execution_count": null,
   "metadata": {
    "pixiedust": {
     "displayParams": {
      "handlerId": "tableView",
      "rowCount": "5",
      "table_noschema": "true",
      "table_nosearch": "true"
     }
    }
   },
   "outputs": [],
   "source": [
    "lines = sqlContext.read.json(path+'2018_11_23_linhas.json')"
   ]
  },
  {
   "cell_type": "code",
   "execution_count": null,
   "metadata": {
    "pixiedust": {
     "displayParams": {
      "handlerId": "tableView",
      "rowCount": "5",
      "table_noschema": "true",
      "table_nosearch": "true"
     }
    },
    "scrolled": true
   },
   "outputs": [],
   "source": [
    "display(lines)"
   ]
  },
  {
   "cell_type": "markdown",
   "metadata": {},
   "source": [
    "#### **JOIN VEHICLE TRACKER DATA WITH BUS LINES**"
   ]
  },
  {
   "cell_type": "code",
   "execution_count": null,
   "metadata": {
    "pixiedust": {
     "displayParams": {
      "chartsize": "89",
      "handlerId": "tableView",
      "keyFields": "COD",
      "mpld3": "true",
      "rowCount": "1000000",
      "table_noschema": "true",
      "table_nosearch": "true"
     }
    }
   },
   "outputs": [],
   "source": [
    "full_dataset = lines.join(position_events, position_events.COD_LINHA == lines.COD, \"left_outer\")"
   ]
  },
  {
   "cell_type": "code",
   "execution_count": null,
   "metadata": {
    "pixiedust": {
     "displayParams": {
      "handlerId": "tableView",
      "rowCount": "5",
      "table_noschema": "true",
      "table_nosearch": "true"
     }
    },
    "scrolled": false
   },
   "outputs": [],
   "source": [
    "display(full_dataset)"
   ]
  },
  {
   "cell_type": "markdown",
   "metadata": {},
   "source": [
    "---"
   ]
  },
  {
   "cell_type": "markdown",
   "metadata": {},
   "source": [
    "#### **HIP I - % de linhas que são rastreadas**"
   ]
  },
  {
   "cell_type": "code",
   "execution_count": null,
   "metadata": {},
   "outputs": [],
   "source": [
    "qtd_linhas_existentes = lines.select(\"NOME\").distinct().count()\n",
    "qtd_linhas_rastreadas = position_events.select(\"COD_LINHA\").distinct().count()\n",
    "pct_linhas_rastreadas = (qtd_linhas_rastreadas/qtd_linhas_existentes)*100\n",
    "\n",
    "print(\"Foram encontradas {0} linhas das quais {1} linhas estão posicionando eventos. \\n Somente {2:.0f}% das linhas são rastreadas?\".format(qtd_linhas_existentes,qtd_linhas_rastreadas,pct_linhas_rastreadas))"
   ]
  },
  {
   "cell_type": "markdown",
   "metadata": {},
   "source": [
    "---"
   ]
  },
  {
   "cell_type": "markdown",
   "metadata": {},
   "source": [
    "#### **HIP II - Qualidade dos rastreadores**"
   ]
  },
  {
   "cell_type": "code",
   "execution_count": null,
   "metadata": {
    "scrolled": true
   },
   "outputs": [],
   "source": [
    "df_registros = position_events    \\\n",
    "    .groupBy(\"COD_LINHA\").count() \\\n",
    "    .toPandas()"
   ]
  },
  {
   "cell_type": "code",
   "execution_count": null,
   "metadata": {},
   "outputs": [],
   "source": [
    "print(\"Nº médio de eventos posicionados {0:.0f}\".format(df_registros['count'].mean()))\n",
    "print(\"Nº mediano de eventos posicionados {0:.0f}\".format(df_registros['count'].median()))\n",
    "print(\"Nº máximo de eventos posicionados {0:.0f}\".format(df_registros['count'].max()))\n",
    "print(\"Nº mínimo de eventos posicionados {0:.0f}\".format(df_registros['count'].min()))"
   ]
  },
  {
   "cell_type": "code",
   "execution_count": null,
   "metadata": {},
   "outputs": [],
   "source": [
    "position_events_df = \\\n",
    "        full_dataset.select(\"COD_LINHA\",\"DATA\")   \\\n",
    "        .groupBy(\"COD_LINHA\",\"DATA\").count()      \\\n",
    "        .sort(col(\"COD_LINHA\"),col(\"DATA\").asc()) \\\n",
    "        .toPandas()"
   ]
  },
  {
   "cell_type": "code",
   "execution_count": null,
   "metadata": {},
   "outputs": [],
   "source": [
    "registros_por_data = \\\n",
    "        full_dataset.select(\"COD_LINHA\",\"DATA\") \\\n",
    "        .groupBy(\"DATA\").count()                \\\n",
    "        .sort(col(\"DATA\").asc())                \\\n",
    "        .toPandas()"
   ]
  },
  {
   "cell_type": "code",
   "execution_count": null,
   "metadata": {},
   "outputs": [],
   "source": [
    "registros_por_data"
   ]
  },
  {
   "cell_type": "code",
   "execution_count": null,
   "metadata": {},
   "outputs": [],
   "source": [
    "registros_por_linha = \\\n",
    "            full_dataset.select(\"COD\",\"NOME\") \\\n",
    "            .groupBy(\"COD\",\"NOME\").count()    \\\n",
    "            .sort(col(\"COD\").asc())           "
   ]
  },
  {
   "cell_type": "markdown",
   "metadata": {},
   "source": [
    "#### Linhas sem dados de rastreamento"
   ]
  },
  {
   "cell_type": "code",
   "execution_count": null,
   "metadata": {
    "pixiedust": {
     "displayParams": {
      "handlerId": "tableView",
      "table_noschema": "true",
      "table_nosearch": "true"
     }
    }
   },
   "outputs": [],
   "source": [
    "display(registros_por_linha)"
   ]
  },
  {
   "cell_type": "code",
   "execution_count": null,
   "metadata": {},
   "outputs": [],
   "source": [
    "full_dataset.select(\"COD_LINHA\",\"DTHR\",\"DATA\",\"LAT\",\"LON\") \\\n",
    "            .filter(\"COD_LINHA == '010'\")                  \\\n",
    "            .sort(col(\"DTHR\").asc())                       \\\n",
    "            .toPandas().head()"
   ]
  },
  {
   "cell_type": "code",
   "execution_count": null,
   "metadata": {
    "pixiedust": {
     "displayParams": {}
    }
   },
   "outputs": [],
   "source": [
    "full_dataset.select(\"COD_LINHA\",\"NOME\",\"DATA\",\"VEIC\")                \\\n",
    "        .filter(\"COD_LINHA == '010' or COD_LINHA=='011'\").distinct() \\\n",
    "        .groupBy(\"COD_LINHA\",\"NOME\",\"DATA\").count()                  \\\n",
    "        .sort(col(\"COD_LINHA\"), col(\"DATA\").asc())  \\\n",
    "        .toPandas().head(20)"
   ]
  },
  {
   "cell_type": "markdown",
   "metadata": {},
   "source": [
    "### **BUNCHING BUS DETECTION - POC**"
   ]
  },
  {
   "cell_type": "code",
   "execution_count": null,
   "metadata": {},
   "outputs": [],
   "source": [
    "linha_010 = full_dataset                                    \\\n",
    "        .filter(\"COD_LINHA == '010' and DATA='2018-11-21'\") \\\n",
    "        .sort(col(\"DTHR\").asc())"
   ]
  },
  {
   "cell_type": "code",
   "execution_count": null,
   "metadata": {
    "pixiedust": {
     "displayParams": {
      "handlerId": "tableView",
      "rowCount": "5",
      "table_noschema": "true",
      "table_nosearch": "true"
     }
    }
   },
   "outputs": [],
   "source": [
    "display(linha_010)"
   ]
  },
  {
   "cell_type": "code",
   "execution_count": null,
   "metadata": {},
   "outputs": [],
   "source": [
    "from datetime import datetime\n",
    "\n",
    "def create_key(row):\n",
    "    \n",
    "    sec = int(datetime.strptime(row['DTHR'], '%d/%m/%Y %H:%M:%S').second)\n",
    "    mi =  str(datetime.strptime(row['DTHR'], '%d/%m/%Y %H:%M:%S').minute)\n",
    "    hr =  str(datetime.strptime(row['DTHR'], '%d/%m/%Y %H:%M:%S').hour)\n",
    "    \n",
    "    partition = ''\n",
    "    if(sec <= 20):\n",
    "         partition = hr+'-'+mi+'-020'\n",
    "    elif(sec > 20 and sec <= 40):\n",
    "        partition = hr+'-'+mi+'-040'\n",
    "    else:\n",
    "        partition = hr+'-'+mi+'-060'\n",
    "    \n",
    "    key = row['COD_LINHA']+'-'+str(row['DATA'])+'-'+partition\n",
    "    return key\n",
    "\n",
    "linha_010_kv = linha_010.rdd.map(lambda x: (create_key(x), x))"
   ]
  },
  {
   "cell_type": "code",
   "execution_count": null,
   "metadata": {},
   "outputs": [],
   "source": [
    "a = linha_010_kv.map(lambda x: (x[0], 1)).reduceByKey(lambda a,b: a+b)\n",
    "a.take(10)"
   ]
  },
  {
   "cell_type": "code",
   "execution_count": null,
   "metadata": {
    "pixiedust": {
     "displayParams": {
      "handlerId": "tableView",
      "rowCount": "5",
      "table_noschema": "true",
      "table_nosearch": "true"
     }
    }
   },
   "outputs": [],
   "source": [
    "from pyspark.sql.types import Row\n",
    "\n",
    "def f(x):\n",
    "    d = {}\n",
    "    for i in range(len(x)):\n",
    "        d[str(i)] = x[i]\n",
    "    return d\n",
    "\n",
    "df = linha_010_kv.filter(lambda x: x[0] == '010-2018-11-21-12-46-020').map(lambda x: Row(**f(x[1]))).toDF()\n",
    "display(df)"
   ]
  },
  {
   "cell_type": "code",
   "execution_count": null,
   "metadata": {},
   "outputs": [],
   "source": [
    "df = linha_010_kv.filter(lambda x: x[0] == '010-2018-11-21-12-46-020')"
   ]
  },
  {
   "cell_type": "code",
   "execution_count": null,
   "metadata": {},
   "outputs": [],
   "source": [
    "df.take(3)"
   ]
  },
  {
   "cell_type": "code",
   "execution_count": null,
   "metadata": {
    "pixiedust": {
     "displayParams": {
      "handlerId": "tableView",
      "table_noschema": "true",
      "table_nosearch": "true"
     }
    }
   },
   "outputs": [],
   "source": [
    "display(df.map(lambda row: (row[1]['VEIC'],row[1]['DTHR'],row[1]['LAT'],row[1]['LON'])).toDF())"
   ]
  },
  {
   "cell_type": "raw",
   "metadata": {},
   "source": [
    "### pegar todas as linhas que não possuem dados --ok\n",
    "### pegar todas as linhas que não possuem dados em todos os dias\n",
    "### remover dados do sabado (24-11-2018)"
   ]
  },
  {
   "cell_type": "code",
   "execution_count": null,
   "metadata": {},
   "outputs": [],
   "source": [
    "sc.stop()"
   ]
  }
 ],
 "metadata": {
  "kernelspec": {
   "display_name": "pixiedust-spark-2.4",
   "language": "python",
   "name": "pixiedustspark24"
  },
  "language_info": {
   "codemirror_mode": {
    "name": "ipython",
    "version": 3
   },
   "file_extension": ".py",
   "mimetype": "text/x-python",
   "name": "python",
   "nbconvert_exporter": "python",
   "pygments_lexer": "ipython3",
   "version": "3.6.4"
  }
 },
 "nbformat": 4,
 "nbformat_minor": 2
}
