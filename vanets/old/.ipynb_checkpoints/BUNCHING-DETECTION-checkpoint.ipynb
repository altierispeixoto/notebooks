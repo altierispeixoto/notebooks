{
 "cells": [
  {
   "cell_type": "code",
   "execution_count": 8,
   "metadata": {},
   "outputs": [
    {
     "data": {
      "text/html": [
       "<div id=\"pm_overallContainer71c11edd\" style=\"display:none\">\n",
       "    <table width=\"100%\" style=\"border:0px\">\n",
       "        <tr style=\"border:0px\">\n",
       "            <td width=\"20px\" style=\"border:0px\"><span id=\"twistie71c11edd\" style=\"color:blue;font-size:x-large;cursor:pointer\">&#9656;</span></td>\n",
       "            <td width=\"130px\" style=\"text-align:left;border:0px\"><span id=\"pm_overallJobName71c11edd\"></span>:</td>\n",
       "            <td width=\"calc(100% - 150px)\" style=\"border:0px\"><progress id=\"pm_overallProgress71c11edd\" max=\"100\" value=\"0\" style=\"width:100%\"></progress></td>\n",
       "        </tr>\n",
       "    </table>\n",
       "</div>\n",
       "<div id=\"pm_container71c11edd\" style=\"display:none\">\n",
       "    <ul class=\"nav nav-tabs\" id=\"progressMonitors71c11edd\">\n",
       "    </ul>\n",
       "    <div class=\"tab-content\" id=\"tabContent71c11edd\">\n",
       "    </div>\n",
       "</div>\n",
       "\n",
       "<script>\n",
       "$(\"#twistie71c11edd\").click(function(){\n",
       "    visible = $(\"#pm_container71c11edd\").is(':visible');\n",
       "    $(\"#pm_container71c11edd\").slideToggle(\"slow\");\n",
       "    $(this).html(visible?\"&#9656;\":\"&#9662;\")\n",
       "});\n",
       "</script>"
      ],
      "text/plain": [
       "<IPython.core.display.HTML object>"
      ]
     },
     "metadata": {},
     "output_type": "display_data"
    },
    {
     "name": "stdout",
     "output_type": "stream",
     "text": [
      "Spark Job Progress Monitor already enabled\n"
     ]
    }
   ],
   "source": [
    "# import findspark\n",
    "# findspark.init()\n",
    "import pixiedust\n",
    "import pyspark\n",
    "import random\n",
    "from datetime import datetime\n",
    "from pyspark.sql.functions import col, udf\n",
    "from pyspark.sql.types import Row\n",
    "from pyspark.sql.types import DateType\n",
    "from sklearn.cluster import DBSCAN\n",
    "import numpy as np \n",
    "from datetime import datetime\n",
    "import pandas as pd\n",
    "\n",
    "# Import `pyplot` \n",
    "import matplotlib.pyplot as plt\n",
    "\n",
    "# Set the style to `ggplot`\n",
    "plt.style.use(\"ggplot\")\n",
    "pixiedust.enableJobMonitor()\n",
    "\n",
    "conf = SparkConf().setAppName(\"App\")\n",
    "conf = (conf.setMaster('local[*]')\n",
    "        .set('spark.executor.memory', '4G')\n",
    "        .set('spark.driver.memory', '30G')\n",
    "        .set('spark.driver.maxResultSize', '10G'))\n",
    "\n",
    "sc = SparkContext.getOrCreate(conf=conf)\n",
    "sqlContext = SQLContext(sc)"
   ]
  },
  {
   "cell_type": "code",
   "execution_count": 2,
   "metadata": {},
   "outputs": [
    {
     "data": {
      "text/html": [
       "<div id=\"pm_overallContainerd86a3b39\" style=\"display:none\">\n",
       "    <table width=\"100%\" style=\"border:0px\">\n",
       "        <tr style=\"border:0px\">\n",
       "            <td width=\"20px\" style=\"border:0px\"><span id=\"twistied86a3b39\" style=\"color:blue;font-size:x-large;cursor:pointer\">&#9656;</span></td>\n",
       "            <td width=\"130px\" style=\"text-align:left;border:0px\"><span id=\"pm_overallJobNamed86a3b39\"></span>:</td>\n",
       "            <td width=\"calc(100% - 150px)\" style=\"border:0px\"><progress id=\"pm_overallProgressd86a3b39\" max=\"100\" value=\"0\" style=\"width:100%\"></progress></td>\n",
       "        </tr>\n",
       "    </table>\n",
       "</div>\n",
       "<div id=\"pm_containerd86a3b39\" style=\"display:none\">\n",
       "    <ul class=\"nav nav-tabs\" id=\"progressMonitorsd86a3b39\">\n",
       "    </ul>\n",
       "    <div class=\"tab-content\" id=\"tabContentd86a3b39\">\n",
       "    </div>\n",
       "</div>\n",
       "\n",
       "<script>\n",
       "$(\"#twistied86a3b39\").click(function(){\n",
       "    visible = $(\"#pm_containerd86a3b39\").is(':visible');\n",
       "    $(\"#pm_containerd86a3b39\").slideToggle(\"slow\");\n",
       "    $(this).html(visible?\"&#9656;\":\"&#9662;\")\n",
       "});\n",
       "</script>"
      ],
      "text/plain": [
       "<IPython.core.display.HTML object>"
      ]
     },
     "metadata": {},
     "output_type": "display_data"
    }
   ],
   "source": [
    "def create_key(row):\n",
    "    \n",
    "    sec = int(datetime.strptime(row['DTHR'], '%d/%m/%Y %H:%M:%S').second)\n",
    "    mi =  str(datetime.strptime(row['DTHR'], '%d/%m/%Y %H:%M:%S').minute)\n",
    "    hr =  str(datetime.strptime(row['DTHR'], '%d/%m/%Y %H:%M:%S').hour)\n",
    "    \n",
    "    partition = ''\n",
    "    if(sec <= 20):\n",
    "         partition = hr+'-'+mi+'-020'\n",
    "    elif(sec > 20 and sec <= 40):\n",
    "        partition = hr+'-'+mi+'-040'\n",
    "    else:\n",
    "        partition = hr+'-'+mi+'-060'\n",
    "    \n",
    "    key = row['COD_LINHA']+'-'+str(row['DATA'])+'-'+partition\n",
    "    return key\n",
    "\n",
    "\n",
    "def run_dbscan(df):\n",
    "    \n",
    "    key    = df[0]\n",
    "    values = df[1]\n",
    "    \n",
    "    d = [{'cod_linha':values[i]['COD_LINHA'], \\\n",
    "          'veic':values[i]['VEIC'],\\\n",
    "          'dthr':values[i]['DTHR'],\\\n",
    "          'lat':float(values[i]['LAT']),\\\n",
    "          'lon':float(values[i]['LON'])} for i in range(0,len(values))]\n",
    "    \n",
    "    coordinates = pd.DataFrame(d)\n",
    "    \n",
    "    db = DBSCAN(eps=1/6371., min_samples=3, algorithm='ball_tree', metric='haversine') \\\n",
    "         .fit_predict(np.radians(coordinates[['lat','lon']]))\n",
    "\n",
    "    coordinates['cluster_id'] = db\n",
    "    coordinates['key'] = key \n",
    "    return  coordinates.to_dict(\"records\")\n",
    "\n",
    "\n",
    "toDateTime =  udf(lambda x: datetime.strptime(x, '%d/%m/%Y %H:%M:%S'), DateType())"
   ]
  },
  {
   "cell_type": "code",
   "execution_count": 3,
   "metadata": {},
   "outputs": [
    {
     "data": {
      "text/html": [
       "<div id=\"pm_overallContainerb9b52c8a\" style=\"display:none\">\n",
       "    <table width=\"100%\" style=\"border:0px\">\n",
       "        <tr style=\"border:0px\">\n",
       "            <td width=\"20px\" style=\"border:0px\"><span id=\"twistieb9b52c8a\" style=\"color:blue;font-size:x-large;cursor:pointer\">&#9656;</span></td>\n",
       "            <td width=\"130px\" style=\"text-align:left;border:0px\"><span id=\"pm_overallJobNameb9b52c8a\"></span>:</td>\n",
       "            <td width=\"calc(100% - 150px)\" style=\"border:0px\"><progress id=\"pm_overallProgressb9b52c8a\" max=\"100\" value=\"0\" style=\"width:100%\"></progress></td>\n",
       "        </tr>\n",
       "    </table>\n",
       "</div>\n",
       "<div id=\"pm_containerb9b52c8a\" style=\"display:none\">\n",
       "    <ul class=\"nav nav-tabs\" id=\"progressMonitorsb9b52c8a\">\n",
       "    </ul>\n",
       "    <div class=\"tab-content\" id=\"tabContentb9b52c8a\">\n",
       "    </div>\n",
       "</div>\n",
       "\n",
       "<script>\n",
       "$(\"#twistieb9b52c8a\").click(function(){\n",
       "    visible = $(\"#pm_containerb9b52c8a\").is(':visible');\n",
       "    $(\"#pm_containerb9b52c8a\").slideToggle(\"slow\");\n",
       "    $(this).html(visible?\"&#9656;\":\"&#9662;\")\n",
       "});\n",
       "</script>"
      ],
      "text/plain": [
       "<IPython.core.display.HTML object>"
      ]
     },
     "metadata": {},
     "output_type": "display_data"
    },
    {
     "data": {
      "application/javascript": [
       "\n",
       "\n",
       "$(\"#pm_containerb9b52c8a\").css(\"border\",\"1px solid #dddddd\").css(\"padding\",\"10px\")\n",
       "var jobName = 'Job 0 (1 '+\n",
       "             'Stage'+  ')'\n",
       "$(\"#pm_overallContainerb9b52c8a\").show();\n",
       "$(\"#pm_overallJobNameb9b52c8a\").text(jobName);\n",
       "$(\"#pm_overallProgressb9b52c8a\").attr(\"max\", 11).attr(\"value\",0);\n",
       "$(\"#progressMonitorsb9b52c8a\").append(\n",
       "    '<li>'+\n",
       "        '<a style=\"padding: 5px 5px;font-size: 12px;\" data-toggle=\"tab\" href=\"#menub9b52c8a0\">'+\n",
       "            jobName +\n",
       "        '</a>'+\n",
       "    '</li>'\n",
       ");\n",
       "\n",
       "$(\"#tabContentb9b52c8a\").append(\n",
       "'<div id=\"menub9b52c8a0\" class=\"tab-pane fade in active\">'+\n",
       "    '<table>' + \n",
       "        '<thead>' +\n",
       "            '<tr>' +\n",
       "                '<th style=\"text-align:center\">Stage</th>' +\n",
       "                '<th style=\"text-align:center\">Progress</th>' +\n",
       "                '<th style=\"text-align:center\">Executor</th>' +\n",
       "                '<th style=\"text-align:center\">Details</th>' +\n",
       "            '</tr>' +\n",
       "        '</thead>' +\n",
       "        '<tbody>' + \n",
       "        \n",
       "            '<tr>        <td style=\"max-width:200px\">            Stage 0 <span id=\"progressNumTaskb9b52c8a0\">0</span>/11:        </td>        <td style=\"max-width: 300px\">            <progress id=\"progressb9b52c8a0\" max=\"11\" value=\"0\" style=\"width:200px\"></progress>        </td>        <td>            <span id=\"hostb9b52c8a0\"></span>        </td>        <td>            <i title=\"org.apache.spark.sql.DataFrameReader.json(DataFrameReader.scala:391)\\nsun.reflect.NativeMethodAccessorImpl.invoke0(Native Method)\\nsun.reflect.NativeMethodAccessorImpl.invoke(NativeMethodAccessorImpl.java:62)\\nsun.reflect.DelegatingMethodAccessorImpl.invoke(DelegatingMethodAccessorImpl.java:43)\\njava.lang.reflect.Method.invoke(Method.java:498)\\npy4j.reflection.MethodInvoker.invoke(MethodInvoker.java:244)\\npy4j.reflection.ReflectionEngine.invoke(ReflectionEngine.java:357)\\npy4j.Gateway.invoke(Gateway.java:282)\\npy4j.commands.AbstractCommand.invokeMethod(AbstractCommand.java:132)\\npy4j.commands.CallCommand.execute(CallCommand.java:79)\\npy4j.GatewayConnection.run(GatewayConnection.java:238)\\njava.lang.Thread.run(Thread.java:748)\" class=\"fa fa-info-circle\"></i>            <span id=\"statusb9b52c8a0\">Not Started</span>        </td>    </tr>'+\n",
       "        \n",
       "        '</tbody>' +\n",
       "    '</table>' +\n",
       "'</div>'\n",
       ")\n",
       "\n",
       "$('.nav-tabs a[href=\"#menub9b52c8a0\"]').tab('show');\n"
      ],
      "text/plain": [
       "<IPython.core.display.Javascript object>"
      ]
     },
     "metadata": {},
     "output_type": "display_data"
    },
    {
     "data": {
      "application/javascript": [
       "$(\"#statusb9b52c8a0\").text(\"Submitted\")\n",
       "\n",
       "\n",
       "function incProgress(id){\n",
       "    var n = $(id);\n",
       "    n.attr(\"value\", parseInt( n.attr(\"value\")) + 10);\n",
       "}\n",
       "incProgress(\"#progressb9b52c8a0\");\n",
       "incProgress(\"#pm_overallProgressb9b52c8a\");\n",
       "$(\"#progressNumTaskb9b52c8a0\").text(\"10\");\n",
       "$(\"#statusb9b52c8a0\").text(\"Running\")\n",
       "\n",
       "\n",
       "$(\"#hostb9b52c8a0\").text(\"driver(localhost)\")\n",
       "\n"
      ],
      "text/plain": [
       "<IPython.core.display.Javascript object>"
      ]
     },
     "metadata": {},
     "output_type": "display_data"
    },
    {
     "data": {
      "application/javascript": [
       "function incProgress(id){\n",
       "    var n = $(id);\n",
       "    n.attr(\"value\", parseInt( n.attr(\"value\")) + 1);\n",
       "}\n",
       "incProgress(\"#progressb9b52c8a0\");\n",
       "incProgress(\"#pm_overallProgressb9b52c8a\");\n",
       "$(\"#progressNumTaskb9b52c8a0\").text(\"11\");\n",
       "$(\"#statusb9b52c8a0\").text(\"Running\")\n",
       "\n",
       "\n",
       "$(\"#hostb9b52c8a0\").text(\"driver(localhost)\")\n",
       "\n"
      ],
      "text/plain": [
       "<IPython.core.display.Javascript object>"
      ]
     },
     "metadata": {},
     "output_type": "display_data"
    },
    {
     "data": {
      "application/javascript": [
       "$(\"#statusb9b52c8a0\").text(\"Completed\")\n",
       "\n",
       "\n"
      ],
      "text/plain": [
       "<IPython.core.display.Javascript object>"
      ]
     },
     "metadata": {},
     "output_type": "display_data"
    },
    {
     "data": {
      "application/javascript": [
       "$(\"#menub9b52c8a0 [id^=statusb9b52c8a]\").each(function(){\n",
       "    if ($(this).text() == \"Not Started\"){\n",
       "        $(this).text(\"Skipped\");\n",
       "    }\n",
       "})\n",
       "\n",
       "var n = $(\"#pm_overallProgressb9b52c8a\");\n",
       "n.attr(\"value\", parseInt(n.attr(\"max\")))\n"
      ],
      "text/plain": [
       "<IPython.core.display.Javascript object>"
      ]
     },
     "metadata": {},
     "output_type": "display_data"
    }
   ],
   "source": [
    "path='../../../datascience/data/urbs/2018-11/19-23/'\n",
    "\n",
    "position_events = sqlContext.read.json(path+'*_veiculos.json')\n",
    "\n",
    "position_events = position_events.withColumn(\"DATA\", toDateTime(col('DTHR')))"
   ]
  },
  {
   "cell_type": "code",
   "execution_count": 4,
   "metadata": {
    "pixiedust": {
     "displayParams": {
      "handlerId": "tableView",
      "rowCount": "5",
      "table_noschema": "true",
      "table_nosearch": "true"
     }
    }
   },
   "outputs": [
    {
     "data": {
      "text/html": [
       "<style type=\"text/css\">.pd_warning{display:none;}</style><div class=\"pd_warning\"><em>Hey, there's something awesome here! To see it, open this notebook outside GitHub, in a viewer like Jupyter</em></div><style type=\"text/css\" class=\"pd_save is-viewer-good\">\n",
       "    .df-table-wrapper .panel-heading {\n",
       "      border-radius: 0;\n",
       "      padding: 0px;\n",
       "    }\n",
       "    .df-table-wrapper .panel-heading:hover {\n",
       "      border-color: #008571;\n",
       "    }\n",
       "    .df-table-wrapper .panel-title a {\n",
       "      background-color: #f9f9fb;\n",
       "      color: #333333;\n",
       "      display: block;\n",
       "      outline: none;\n",
       "      padding: 10px 15px;\n",
       "      text-decoration: none;\n",
       "    }\n",
       "    .df-table-wrapper .panel-title a:hover {\n",
       "      background-color: #337ab7;\n",
       "      border-color: #2e6da4;\n",
       "      color: #ffffff;\n",
       "      display: block;\n",
       "      padding: 10px 15px;\n",
       "      text-decoration: none;\n",
       "    }\n",
       "    .df-table-wrapper {\n",
       "      font-size: small;\n",
       "      font-weight: 300;\n",
       "      letter-spacing: 0.5px;\n",
       "      line-height: normal;\n",
       "      height: inherit;\n",
       "      overflow: auto;\n",
       "    }\n",
       "    .df-table-search {\n",
       "      margin: 0 0 20px 0;\n",
       "    }\n",
       "    .df-table-search-count {\n",
       "      display: inline-block;\n",
       "      margin: 0 0 20px 0;\n",
       "    }\n",
       "    .df-table-container {\n",
       "      max-height: 50vh;\n",
       "      max-width: 100%;\n",
       "      overflow-x: auto;\n",
       "      position: relative;\n",
       "    }\n",
       "    .df-table-wrapper table {\n",
       "      border: 0 none #ffffff;\n",
       "      border-collapse: collapse;\n",
       "      margin: 0;\n",
       "      min-width: 100%;\n",
       "      padding: 0;\n",
       "      table-layout: fixed;\n",
       "      height: inherit;\n",
       "      overflow: auto;\n",
       "    }\n",
       "    .df-table-wrapper tr.hidden {\n",
       "      display: none;\n",
       "    }\n",
       "    .df-table-wrapper tr:nth-child(even) {\n",
       "      background-color: #f9f9fb;\n",
       "    }\n",
       "    .df-table-wrapper tr.even {\n",
       "      background-color: #f9f9fb;\n",
       "    }\n",
       "    .df-table-wrapper tr.odd {\n",
       "      background-color: #ffffff;\n",
       "    }\n",
       "    .df-table-wrapper td + td {\n",
       "      border-left: 1px solid #e0e0e0;\n",
       "    }\n",
       "  \n",
       "    .df-table-wrapper thead,\n",
       "    .fixed-header {\n",
       "      font-weight: 600;\n",
       "    }\n",
       "    .df-table-wrapper tr,\n",
       "    .fixed-row {\n",
       "      border: 0 none #ffffff;\n",
       "      margin: 0;\n",
       "      padding: 0;\n",
       "    }\n",
       "    .df-table-wrapper th,\n",
       "    .df-table-wrapper td,\n",
       "    .fixed-cell {\n",
       "      border: 0 none #ffffff;\n",
       "      margin: 0;\n",
       "      min-width: 50px;\n",
       "      padding: 5px 20px 5px 10px;\n",
       "      text-align: left;\n",
       "      word-wrap: break-word;\n",
       "    }\n",
       "    .df-table-wrapper th {\n",
       "      padding-bottom: 0;\n",
       "      padding-top: 0;\n",
       "    }\n",
       "    .df-table-wrapper th div {\n",
       "      max-height: 1px;\n",
       "      visibility: hidden;\n",
       "    }\n",
       "  \n",
       "    .df-schema-field {\n",
       "      margin-left: 10px;\n",
       "    }\n",
       "  \n",
       "    .fixed-header-container {\n",
       "      overflow: hidden;\n",
       "      position: relative;\n",
       "    }\n",
       "    .fixed-header {\n",
       "      border-bottom: 2px solid #000;\n",
       "      display: table;\n",
       "      position: relative;\n",
       "    }\n",
       "    .fixed-row {\n",
       "      display: table-row;\n",
       "    }\n",
       "    .fixed-cell {\n",
       "      display: table-cell;\n",
       "    }\n",
       "  </style><div class=\"df-table-wrapper df-table-wrapper-f9aa9fad panel-group pd_save is-viewer-good\">\n",
       "    <!-- dataframe schema -->\n",
       "    \n",
       "    <!-- dataframe table -->\n",
       "    <div class=\"panel panel-default\" style=\"border:none;\">\n",
       "      \n",
       "      <div id=\"df-table-f9aa9fad\" class=\"panel-collapse collapse in\">\n",
       "        <div class=\"panel-body\">\n",
       "          \n",
       "          <div>\n",
       "            \n",
       "            <span class=\"df-table-search-count\">Showing 5 of 5596081 rows</span>\n",
       "            \n",
       "          </div>\n",
       "          <!-- fixed header for when dataframe table scrolls -->\n",
       "          <div class=\"fixed-header-container\">\n",
       "            <div class=\"fixed-header\">\n",
       "              <div class=\"fixed-row\">\n",
       "                \n",
       "                <div class=\"fixed-cell\">COD_LINHA</div>\n",
       "                \n",
       "                <div class=\"fixed-cell\">DTHR</div>\n",
       "                \n",
       "                <div class=\"fixed-cell\">LAT</div>\n",
       "                \n",
       "                <div class=\"fixed-cell\">LON</div>\n",
       "                \n",
       "                <div class=\"fixed-cell\">VEIC</div>\n",
       "                \n",
       "                <div class=\"fixed-cell\">DATA</div>\n",
       "                \n",
       "              </div>\n",
       "            </div>\n",
       "          </div>\n",
       "          <div class=\"df-table-container\">\n",
       "            <table class=\"df-table\">\n",
       "              <thead>\n",
       "                <tr>\n",
       "                  \n",
       "                  <th><div>COD_LINHA</div></th>\n",
       "                  \n",
       "                  <th><div>DTHR</div></th>\n",
       "                  \n",
       "                  <th><div>LAT</div></th>\n",
       "                  \n",
       "                  <th><div>LON</div></th>\n",
       "                  \n",
       "                  <th><div>VEIC</div></th>\n",
       "                  \n",
       "                  <th><div>DATA</div></th>\n",
       "                  \n",
       "                </tr>\n",
       "              </thead>\n",
       "              <tbody>\n",
       "                \n",
       "                <tr>\n",
       "                  \n",
       "                  <td>652</td>\n",
       "                  \n",
       "                  <td>21/11/2018 11:04:39</td>\n",
       "                  \n",
       "                  <td>-25.515358</td>\n",
       "                  \n",
       "                  <td>-49.328225</td>\n",
       "                  \n",
       "                  <td>LA006</td>\n",
       "                  \n",
       "                  <td>2018-11-21 00:00:00</td>\n",
       "                  \n",
       "                </tr>\n",
       "                \n",
       "                <tr>\n",
       "                  \n",
       "                  <td>652</td>\n",
       "                  \n",
       "                  <td>21/11/2018 10:55:14</td>\n",
       "                  \n",
       "                  <td>-25.511535</td>\n",
       "                  \n",
       "                  <td>-49.324431</td>\n",
       "                  \n",
       "                  <td>LA006</td>\n",
       "                  \n",
       "                  <td>2018-11-21 00:00:00</td>\n",
       "                  \n",
       "                </tr>\n",
       "                \n",
       "                <tr>\n",
       "                  \n",
       "                  <td>652</td>\n",
       "                  \n",
       "                  <td>21/11/2018 10:52:05</td>\n",
       "                  \n",
       "                  <td>-25.515061</td>\n",
       "                  \n",
       "                  <td>-49.3285</td>\n",
       "                  \n",
       "                  <td>LA006</td>\n",
       "                  \n",
       "                  <td>2018-11-21 00:00:00</td>\n",
       "                  \n",
       "                </tr>\n",
       "                \n",
       "                <tr>\n",
       "                  \n",
       "                  <td>652</td>\n",
       "                  \n",
       "                  <td>21/11/2018 10:51:49</td>\n",
       "                  \n",
       "                  <td>-25.515965</td>\n",
       "                  \n",
       "                  <td>-49.327368</td>\n",
       "                  \n",
       "                  <td>LA006</td>\n",
       "                  \n",
       "                  <td>2018-11-21 00:00:00</td>\n",
       "                  \n",
       "                </tr>\n",
       "                \n",
       "                <tr>\n",
       "                  \n",
       "                  <td>652</td>\n",
       "                  \n",
       "                  <td>21/11/2018 10:47:54</td>\n",
       "                  \n",
       "                  <td>-25.527473</td>\n",
       "                  \n",
       "                  <td>-49.329286</td>\n",
       "                  \n",
       "                  <td>LA006</td>\n",
       "                  \n",
       "                  <td>2018-11-21 00:00:00</td>\n",
       "                  \n",
       "                </tr>\n",
       "                \n",
       "              </tbody>\n",
       "            </table>\n",
       "          </div>\n",
       "        </div>\n",
       "      </div>\n",
       "    </div>\n",
       "  </div><script class=\"pd_save is-viewer-good\">\n",
       "    $(function() {\n",
       "      var tableWrapper = $('.df-table-wrapper-f9aa9fad');\n",
       "      var fixedHeader = $('.fixed-header', tableWrapper);\n",
       "      var tableContainer = $('.df-table-container', tableWrapper);\n",
       "      var table = $('.df-table', tableContainer);\n",
       "      var rows = $('tbody > tr', table);\n",
       "      var total = 5;\n",
       "  \n",
       "      fixedHeader\n",
       "        .css('width', table.width())\n",
       "        .find('.fixed-cell')\n",
       "        .each(function(i, e) {\n",
       "          $(this).css('width', $('.df-table-wrapper-f9aa9fad th:nth-child(' + (i+1) + ')').css('width'));\n",
       "        });\n",
       "  \n",
       "      tableContainer.scroll(function() {\n",
       "        fixedHeader.css({ left: table.position().left });\n",
       "      });\n",
       "  \n",
       "      rows.on(\"click\", function(e){\n",
       "          var txt = e.delegateTarget.innerText;\n",
       "          var splits = txt.split(\"\\t\");\n",
       "          var len = splits.length;\n",
       "          var hdrs = $(fixedHeader).find(\".fixed-cell\");\n",
       "          // Add all cells in the selected row as a map to be consumed by the target as needed\n",
       "          var payload = {type:\"select\", targetDivId: \"\" };\n",
       "          for (var i = 0; i < len; i++) {\n",
       "            payload[hdrs[i].innerHTML] = splits[i];\n",
       "          }\n",
       "  \n",
       "          //simple selection highlighting, client adds \"selected\" class\n",
       "          $(this).addClass(\"selected\").siblings().removeClass(\"selected\");\n",
       "          $(document).trigger('pd_event', payload);\n",
       "      });\n",
       "  \n",
       "      $('.df-table-search', tableWrapper).keyup(function() {\n",
       "        var val = '^(?=.*\\\\b' + $.trim($(this).val()).split(/\\s+/).join('\\\\b)(?=.*\\\\b') + ').*$';\n",
       "        var reg = RegExp(val, 'i');\n",
       "        var index = 0;\n",
       "        \n",
       "        rows.each(function(i, e) {\n",
       "          if (!reg.test($(this).text().replace(/\\s+/g, ' '))) {\n",
       "            $(this).attr('class', 'hidden');\n",
       "          }\n",
       "          else {\n",
       "            $(this).attr('class', (++index % 2 == 0 ? 'even' : 'odd'));\n",
       "          }\n",
       "        });\n",
       "        $('.df-table-search-count', tableWrapper).html('Showing ' + index + ' of ' + total + ' rows');\n",
       "      });\n",
       "    });\n",
       "  \n",
       "    $(\".df-table-wrapper td:contains('http://')\").each(function(){var tc = this.textContent; $(this).wrapInner(\"<a target='_blank' href='\" + tc + \"'></a>\");});\n",
       "    $(\".df-table-wrapper td:contains('https://')\").each(function(){var tc = this.textContent; $(this).wrapInner(\"<a target='_blank' href='\" + tc + \"'></a>\");});\n",
       "  </script>"
      ],
      "text/plain": [
       "<IPython.core.display.HTML object>"
      ]
     },
     "metadata": {},
     "output_type": "display_data"
    }
   ],
   "source": [
    "display(position_events)"
   ]
  },
  {
   "cell_type": "code",
   "execution_count": 5,
   "metadata": {},
   "outputs": [
    {
     "data": {
      "text/html": [
       "<div id=\"pm_overallContainer99695acc\" style=\"display:none\">\n",
       "    <table width=\"100%\" style=\"border:0px\">\n",
       "        <tr style=\"border:0px\">\n",
       "            <td width=\"20px\" style=\"border:0px\"><span id=\"twistie99695acc\" style=\"color:blue;font-size:x-large;cursor:pointer\">&#9656;</span></td>\n",
       "            <td width=\"130px\" style=\"text-align:left;border:0px\"><span id=\"pm_overallJobName99695acc\"></span>:</td>\n",
       "            <td width=\"calc(100% - 150px)\" style=\"border:0px\"><progress id=\"pm_overallProgress99695acc\" max=\"100\" value=\"0\" style=\"width:100%\"></progress></td>\n",
       "        </tr>\n",
       "    </table>\n",
       "</div>\n",
       "<div id=\"pm_container99695acc\" style=\"display:none\">\n",
       "    <ul class=\"nav nav-tabs\" id=\"progressMonitors99695acc\">\n",
       "    </ul>\n",
       "    <div class=\"tab-content\" id=\"tabContent99695acc\">\n",
       "    </div>\n",
       "</div>\n",
       "\n",
       "<script>\n",
       "$(\"#twistie99695acc\").click(function(){\n",
       "    visible = $(\"#pm_container99695acc\").is(':visible');\n",
       "    $(\"#pm_container99695acc\").slideToggle(\"slow\");\n",
       "    $(this).html(visible?\"&#9656;\":\"&#9662;\")\n",
       "});\n",
       "</script>"
      ],
      "text/plain": [
       "<IPython.core.display.HTML object>"
      ]
     },
     "metadata": {},
     "output_type": "display_data"
    },
    {
     "data": {
      "application/javascript": [
       "\n",
       "\n",
       "$(\"#pm_container6635b093\").css(\"border\",\"1px solid #dddddd\").css(\"padding\",\"10px\")\n",
       "var jobName = 'Job 6 (2 '+\n",
       "             'Stages'+  ')'\n",
       "$(\"#pm_overallContainer6635b093\").show();\n",
       "$(\"#pm_overallJobName6635b093\").text(jobName);\n",
       "$(\"#pm_overallProgress6635b093\").attr(\"max\", 12).attr(\"value\",0);\n",
       "$(\"#progressMonitors6635b093\").append(\n",
       "    '<li>'+\n",
       "        '<a style=\"padding: 5px 5px;font-size: 12px;\" data-toggle=\"tab\" href=\"#menu6635b0936\">'+\n",
       "            jobName +\n",
       "        '</a>'+\n",
       "    '</li>'\n",
       ");\n",
       "\n",
       "$(\"#tabContent6635b093\").append(\n",
       "'<div id=\"menu6635b0936\" class=\"tab-pane fade in active\">'+\n",
       "    '<table>' + \n",
       "        '<thead>' +\n",
       "            '<tr>' +\n",
       "                '<th style=\"text-align:center\">Stage</th>' +\n",
       "                '<th style=\"text-align:center\">Progress</th>' +\n",
       "                '<th style=\"text-align:center\">Executor</th>' +\n",
       "                '<th style=\"text-align:center\">Details</th>' +\n",
       "            '</tr>' +\n",
       "        '</thead>' +\n",
       "        '<tbody>' + \n",
       "        \n",
       "            '<tr>        <td style=\"max-width:200px\">            Stage 9 <span id=\"progressNumTask6635b0939\">0</span>/11:        </td>        <td style=\"max-width: 300px\">            <progress id=\"progress6635b0939\" max=\"11\" value=\"0\" style=\"width:200px\"></progress>        </td>        <td>            <span id=\"host6635b0939\"></span>        </td>        <td>            <i title=\"org.apache.spark.sql.Dataset.count(Dataset.scala:2830)\\nsun.reflect.NativeMethodAccessorImpl.invoke0(Native Method)\\nsun.reflect.NativeMethodAccessorImpl.invoke(NativeMethodAccessorImpl.java:62)\\nsun.reflect.DelegatingMethodAccessorImpl.invoke(DelegatingMethodAccessorImpl.java:43)\\njava.lang.reflect.Method.invoke(Method.java:498)\\npy4j.reflection.MethodInvoker.invoke(MethodInvoker.java:244)\\npy4j.reflection.ReflectionEngine.invoke(ReflectionEngine.java:357)\\npy4j.Gateway.invoke(Gateway.java:282)\\npy4j.commands.AbstractCommand.invokeMethod(AbstractCommand.java:132)\\npy4j.commands.CallCommand.execute(CallCommand.java:79)\\npy4j.GatewayConnection.run(GatewayConnection.java:238)\\njava.lang.Thread.run(Thread.java:748)\" class=\"fa fa-info-circle\"></i>            <span id=\"status6635b0939\">Not Started</span>        </td>    </tr>'+\n",
       "        \n",
       "            '<tr>        <td style=\"max-width:200px\">            Stage 10 <span id=\"progressNumTask6635b09310\">0</span>/1:        </td>        <td style=\"max-width: 300px\">            <progress id=\"progress6635b09310\" max=\"1\" value=\"0\" style=\"width:200px\"></progress>        </td>        <td>            <span id=\"host6635b09310\"></span>        </td>        <td>            <i title=\"org.apache.spark.sql.Dataset.count(Dataset.scala:2830)\\nsun.reflect.NativeMethodAccessorImpl.invoke0(Native Method)\\nsun.reflect.NativeMethodAccessorImpl.invoke(NativeMethodAccessorImpl.java:62)\\nsun.reflect.DelegatingMethodAccessorImpl.invoke(DelegatingMethodAccessorImpl.java:43)\\njava.lang.reflect.Method.invoke(Method.java:498)\\npy4j.reflection.MethodInvoker.invoke(MethodInvoker.java:244)\\npy4j.reflection.ReflectionEngine.invoke(ReflectionEngine.java:357)\\npy4j.Gateway.invoke(Gateway.java:282)\\npy4j.commands.AbstractCommand.invokeMethod(AbstractCommand.java:132)\\npy4j.commands.CallCommand.execute(CallCommand.java:79)\\npy4j.GatewayConnection.run(GatewayConnection.java:238)\\njava.lang.Thread.run(Thread.java:748)\" class=\"fa fa-info-circle\"></i>            <span id=\"status6635b09310\">Not Started</span>        </td>    </tr>'+\n",
       "        \n",
       "        '</tbody>' +\n",
       "    '</table>' +\n",
       "'</div>'\n",
       ")\n",
       "\n",
       "$('.nav-tabs a[href=\"#menu6635b0936\"]').tab('show');\n",
       "$(\"#status6635b0939\").text(\"Submitted\")\n",
       "\n",
       "\n",
       "function incProgress(id){\n",
       "    var n = $(id);\n",
       "    n.attr(\"value\", parseInt( n.attr(\"value\")) + 11);\n",
       "}\n",
       "incProgress(\"#progress6635b0939\");\n",
       "incProgress(\"#pm_overallProgress6635b093\");\n",
       "$(\"#progressNumTask6635b0939\").text(\"11\");\n",
       "$(\"#status6635b0939\").text(\"Running\")\n",
       "\n",
       "\n",
       "$(\"#host6635b0939\").text(\"driver(localhost)\")\n",
       "\n",
       "$(\"#status99695acc9\").text(\"Completed\")\n",
       "\n",
       "\n",
       "$(\"#status99695acc10\").text(\"Submitted\")\n",
       "\n",
       "\n",
       "function incProgress(id){\n",
       "    var n = $(id);\n",
       "    n.attr(\"value\", parseInt( n.attr(\"value\")) + 1);\n",
       "}\n",
       "incProgress(\"#progress99695acc10\");\n",
       "incProgress(\"#pm_overallProgress99695acc\");\n",
       "$(\"#progressNumTask99695acc10\").text(\"1\");\n",
       "$(\"#status99695acc10\").text(\"Running\")\n",
       "\n",
       "\n",
       "$(\"#host99695acc10\").text(\"driver(localhost)\")\n",
       "\n",
       "$(\"#status99695acc10\").text(\"Completed\")\n",
       "\n",
       "\n",
       "$(\"#menu99695acc6 [id^=status99695acc]\").each(function(){\n",
       "    if ($(this).text() == \"Not Started\"){\n",
       "        $(this).text(\"Skipped\");\n",
       "    }\n",
       "})\n",
       "\n",
       "var n = $(\"#pm_overallProgress99695acc\");\n",
       "n.attr(\"value\", parseInt(n.attr(\"max\")))\n"
      ],
      "text/plain": [
       "<IPython.core.display.Javascript object>"
      ]
     },
     "metadata": {},
     "output_type": "display_data"
    }
   ],
   "source": [
    "linhas_kv = position_events.rdd.map(lambda x: (create_key(x), x))"
   ]
  },
  {
   "cell_type": "code",
   "execution_count": 9,
   "metadata": {},
   "outputs": [
    {
     "data": {
      "text/html": [
       "<div id=\"pm_overallContainer681bb0ab\" style=\"display:none\">\n",
       "    <table width=\"100%\" style=\"border:0px\">\n",
       "        <tr style=\"border:0px\">\n",
       "            <td width=\"20px\" style=\"border:0px\"><span id=\"twistie681bb0ab\" style=\"color:blue;font-size:x-large;cursor:pointer\">&#9656;</span></td>\n",
       "            <td width=\"130px\" style=\"text-align:left;border:0px\"><span id=\"pm_overallJobName681bb0ab\"></span>:</td>\n",
       "            <td width=\"calc(100% - 150px)\" style=\"border:0px\"><progress id=\"pm_overallProgress681bb0ab\" max=\"100\" value=\"0\" style=\"width:100%\"></progress></td>\n",
       "        </tr>\n",
       "    </table>\n",
       "</div>\n",
       "<div id=\"pm_container681bb0ab\" style=\"display:none\">\n",
       "    <ul class=\"nav nav-tabs\" id=\"progressMonitors681bb0ab\">\n",
       "    </ul>\n",
       "    <div class=\"tab-content\" id=\"tabContent681bb0ab\">\n",
       "    </div>\n",
       "</div>\n",
       "\n",
       "<script>\n",
       "$(\"#twistie681bb0ab\").click(function(){\n",
       "    visible = $(\"#pm_container681bb0ab\").is(':visible');\n",
       "    $(\"#pm_container681bb0ab\").slideToggle(\"slow\");\n",
       "    $(this).html(visible?\"&#9656;\":\"&#9662;\")\n",
       "});\n",
       "</script>"
      ],
      "text/plain": [
       "<IPython.core.display.HTML object>"
      ]
     },
     "metadata": {},
     "output_type": "display_data"
    },
    {
     "data": {
      "application/javascript": [
       "\n",
       "\n",
       "$(\"#pm_container681bb0ab\").css(\"border\",\"1px solid #dddddd\").css(\"padding\",\"10px\")\n",
       "var jobName = 'Job 9 (2 '+\n",
       "             'Stages'+  ')'\n",
       "$(\"#pm_overallContainer681bb0ab\").show();\n",
       "$(\"#pm_overallJobName681bb0ab\").text(jobName);\n",
       "$(\"#pm_overallProgress681bb0ab\").attr(\"max\", 12).attr(\"value\",0);\n",
       "$(\"#progressMonitors681bb0ab\").append(\n",
       "    '<li>'+\n",
       "        '<a style=\"padding: 5px 5px;font-size: 12px;\" data-toggle=\"tab\" href=\"#menu681bb0ab9\">'+\n",
       "            jobName +\n",
       "        '</a>'+\n",
       "    '</li>'\n",
       ");\n",
       "\n",
       "$(\"#tabContent681bb0ab\").append(\n",
       "'<div id=\"menu681bb0ab9\" class=\"tab-pane fade in active\">'+\n",
       "    '<table>' + \n",
       "        '<thead>' +\n",
       "            '<tr>' +\n",
       "                '<th style=\"text-align:center\">Stage</th>' +\n",
       "                '<th style=\"text-align:center\">Progress</th>' +\n",
       "                '<th style=\"text-align:center\">Executor</th>' +\n",
       "                '<th style=\"text-align:center\">Details</th>' +\n",
       "            '</tr>' +\n",
       "        '</thead>' +\n",
       "        '<tbody>' + \n",
       "        \n",
       "            '<tr>        <td style=\"max-width:200px\">            Stage 14 <span id=\"progressNumTask681bb0ab14\">0</span>/11:        </td>        <td style=\"max-width: 300px\">            <progress id=\"progress681bb0ab14\" max=\"11\" value=\"0\" style=\"width:200px\"></progress>        </td>        <td>            <span id=\"host681bb0ab14\"></span>        </td>        <td>            <i title=\"org.apache.spark.rdd.RDD.<init>(RDD.scala:105)\\norg.apache.spark.api.python.PairwiseRDD.<init>(PythonRDD.scala:99)\\nsun.reflect.NativeConstructorAccessorImpl.newInstance0(Native Method)\\nsun.reflect.NativeConstructorAccessorImpl.newInstance(NativeConstructorAccessorImpl.java:62)\\nsun.reflect.DelegatingConstructorAccessorImpl.newInstance(DelegatingConstructorAccessorImpl.java:45)\\njava.lang.reflect.Constructor.newInstance(Constructor.java:423)\\npy4j.reflection.MethodInvoker.invoke(MethodInvoker.java:247)\\npy4j.reflection.ReflectionEngine.invoke(ReflectionEngine.java:357)\\npy4j.Gateway.invoke(Gateway.java:238)\\npy4j.commands.ConstructorCommand.invokeConstructor(ConstructorCommand.java:80)\\npy4j.commands.ConstructorCommand.execute(ConstructorCommand.java:69)\\npy4j.GatewayConnection.run(GatewayConnection.java:238)\\njava.lang.Thread.run(Thread.java:748)\" class=\"fa fa-info-circle\"></i>            <span id=\"status681bb0ab14\">Not Started</span>        </td>    </tr>'+\n",
       "        \n",
       "            '<tr>        <td style=\"max-width:200px\">            Stage 15 <span id=\"progressNumTask681bb0ab15\">0</span>/1:        </td>        <td style=\"max-width: 300px\">            <progress id=\"progress681bb0ab15\" max=\"1\" value=\"0\" style=\"width:200px\"></progress>        </td>        <td>            <span id=\"host681bb0ab15\"></span>        </td>        <td>            <i title=\"org.apache.spark.SparkContext.runJob(SparkContext.scala:2101)\\norg.apache.spark.api.python.PythonRDD$.runJob(PythonRDD.scala:153)\\norg.apache.spark.api.python.PythonRDD.runJob(PythonRDD.scala)\\nsun.reflect.NativeMethodAccessorImpl.invoke0(Native Method)\\nsun.reflect.NativeMethodAccessorImpl.invoke(NativeMethodAccessorImpl.java:62)\\nsun.reflect.DelegatingMethodAccessorImpl.invoke(DelegatingMethodAccessorImpl.java:43)\\njava.lang.reflect.Method.invoke(Method.java:498)\\npy4j.reflection.MethodInvoker.invoke(MethodInvoker.java:244)\\npy4j.reflection.ReflectionEngine.invoke(ReflectionEngine.java:357)\\npy4j.Gateway.invoke(Gateway.java:282)\\npy4j.commands.AbstractCommand.invokeMethod(AbstractCommand.java:132)\\npy4j.commands.CallCommand.execute(CallCommand.java:79)\\npy4j.GatewayConnection.run(GatewayConnection.java:238)\\njava.lang.Thread.run(Thread.java:748)\" class=\"fa fa-info-circle\"></i>            <span id=\"status681bb0ab15\">Not Started</span>        </td>    </tr>'+\n",
       "        \n",
       "        '</tbody>' +\n",
       "    '</table>' +\n",
       "'</div>'\n",
       ")\n",
       "\n",
       "$('.nav-tabs a[href=\"#menu681bb0ab9\"]').tab('show');\n"
      ],
      "text/plain": [
       "<IPython.core.display.Javascript object>"
      ]
     },
     "metadata": {},
     "output_type": "display_data"
    },
    {
     "data": {
      "application/javascript": [
       "$(\"#status681bb0ab14\").text(\"Submitted\")\n",
       "\n",
       "\n",
       "function incProgress(id){\n",
       "    var n = $(id);\n",
       "    n.attr(\"value\", parseInt( n.attr(\"value\")) + 10);\n",
       "}\n",
       "incProgress(\"#progress681bb0ab14\");\n",
       "incProgress(\"#pm_overallProgress681bb0ab\");\n",
       "$(\"#progressNumTask681bb0ab14\").text(\"10\");\n",
       "$(\"#status681bb0ab14\").text(\"Running\")\n",
       "\n",
       "\n",
       "$(\"#host681bb0ab14\").text(\"driver(localhost)\")\n",
       "\n"
      ],
      "text/plain": [
       "<IPython.core.display.Javascript object>"
      ]
     },
     "metadata": {},
     "output_type": "display_data"
    },
    {
     "data": {
      "application/javascript": [
       "function incProgress(id){\n",
       "    var n = $(id);\n",
       "    n.attr(\"value\", parseInt( n.attr(\"value\")) + 1);\n",
       "}\n",
       "incProgress(\"#progress681bb0ab14\");\n",
       "incProgress(\"#pm_overallProgress681bb0ab\");\n",
       "$(\"#progressNumTask681bb0ab14\").text(\"11\");\n",
       "$(\"#status681bb0ab14\").text(\"Running\")\n",
       "\n",
       "\n",
       "$(\"#host681bb0ab14\").text(\"driver(localhost)\")\n",
       "\n"
      ],
      "text/plain": [
       "<IPython.core.display.Javascript object>"
      ]
     },
     "metadata": {},
     "output_type": "display_data"
    },
    {
     "data": {
      "application/javascript": [
       "$(\"#status681bb0ab14\").text(\"Completed\")\n",
       "\n",
       "\n"
      ],
      "text/plain": [
       "<IPython.core.display.Javascript object>"
      ]
     },
     "metadata": {},
     "output_type": "display_data"
    },
    {
     "data": {
      "application/javascript": [
       "$(\"#status681bb0ab15\").text(\"Submitted\")\n",
       "\n",
       "\n",
       "function incProgress(id){\n",
       "    var n = $(id);\n",
       "    n.attr(\"value\", parseInt( n.attr(\"value\")) + 1);\n",
       "}\n",
       "incProgress(\"#progress681bb0ab15\");\n",
       "incProgress(\"#pm_overallProgress681bb0ab\");\n",
       "$(\"#progressNumTask681bb0ab15\").text(\"1\");\n",
       "$(\"#status681bb0ab15\").text(\"Running\")\n",
       "\n",
       "\n",
       "$(\"#host681bb0ab15\").text(\"driver(localhost)\")\n",
       "\n"
      ],
      "text/plain": [
       "<IPython.core.display.Javascript object>"
      ]
     },
     "metadata": {},
     "output_type": "display_data"
    },
    {
     "data": {
      "application/javascript": [
       "$(\"#status681bb0ab15\").text(\"Completed\")\n",
       "\n",
       "\n"
      ],
      "text/plain": [
       "<IPython.core.display.Javascript object>"
      ]
     },
     "metadata": {},
     "output_type": "display_data"
    }
   ],
   "source": [
    "clusters_df = position_events.rdd                         \\\n",
    "    .map(lambda x: (create_key(x), x))                    \\\n",
    "    .map(lambda x: (x[0], [x[1]]))                        \\\n",
    "    .reduceByKey(lambda a, b: a + b)                      \\\n",
    "    .map(lambda x: run_dbscan(x))                         \\\n",
    "    .flatMap(lambda x: [item for item in x])              \\\n",
    "    .map(lambda l: Row(**dict(l))).toDF()"
   ]
  },
  {
   "cell_type": "code",
   "execution_count": 10,
   "metadata": {
    "pixiedust": {
     "displayParams": {
      "handlerId": "tableView",
      "table_noschema": "true",
      "table_nosearch": "true"
     }
    },
    "scrolled": true
   },
   "outputs": [],
   "source": [
    "display(clusters_df)"
   ]
  },
  {
   "cell_type": "code",
   "execution_count": 13,
   "metadata": {},
   "outputs": [
    {
     "data": {
      "text/html": [
       "<div id=\"pm_overallContainerb9dd77e9\" style=\"display:none\">\n",
       "    <table width=\"100%\" style=\"border:0px\">\n",
       "        <tr style=\"border:0px\">\n",
       "            <td width=\"20px\" style=\"border:0px\"><span id=\"twistieb9dd77e9\" style=\"color:blue;font-size:x-large;cursor:pointer\">&#9656;</span></td>\n",
       "            <td width=\"130px\" style=\"text-align:left;border:0px\"><span id=\"pm_overallJobNameb9dd77e9\"></span>:</td>\n",
       "            <td width=\"calc(100% - 150px)\" style=\"border:0px\"><progress id=\"pm_overallProgressb9dd77e9\" max=\"100\" value=\"0\" style=\"width:100%\"></progress></td>\n",
       "        </tr>\n",
       "    </table>\n",
       "</div>\n",
       "<div id=\"pm_containerb9dd77e9\" style=\"display:none\">\n",
       "    <ul class=\"nav nav-tabs\" id=\"progressMonitorsb9dd77e9\">\n",
       "    </ul>\n",
       "    <div class=\"tab-content\" id=\"tabContentb9dd77e9\">\n",
       "    </div>\n",
       "</div>\n",
       "\n",
       "<script>\n",
       "$(\"#twistieb9dd77e9\").click(function(){\n",
       "    visible = $(\"#pm_containerb9dd77e9\").is(':visible');\n",
       "    $(\"#pm_containerb9dd77e9\").slideToggle(\"slow\");\n",
       "    $(this).html(visible?\"&#9656;\":\"&#9662;\")\n",
       "});\n",
       "</script>"
      ],
      "text/plain": [
       "<IPython.core.display.HTML object>"
      ]
     },
     "metadata": {},
     "output_type": "display_data"
    },
    {
     "data": {
      "application/javascript": [
       "\n",
       "\n",
       "$(\"#pm_containerb9dd77e9\").css(\"border\",\"1px solid #dddddd\").css(\"padding\",\"10px\")\n",
       "var jobName = 'Job 18 (3 '+\n",
       "             'Stages'+  ')'\n",
       "$(\"#pm_overallContainerb9dd77e9\").show();\n",
       "$(\"#pm_overallJobNameb9dd77e9\").text(jobName);\n",
       "$(\"#pm_overallProgressb9dd77e9\").attr(\"max\", 23).attr(\"value\",0);\n",
       "$(\"#progressMonitorsb9dd77e9\").append(\n",
       "    '<li>'+\n",
       "        '<a style=\"padding: 5px 5px;font-size: 12px;\" data-toggle=\"tab\" href=\"#menub9dd77e918\">'+\n",
       "            jobName +\n",
       "        '</a>'+\n",
       "    '</li>'\n",
       ");\n",
       "\n",
       "$(\"#tabContentb9dd77e9\").append(\n",
       "'<div id=\"menub9dd77e918\" class=\"tab-pane fade in active\">'+\n",
       "    '<table>' + \n",
       "        '<thead>' +\n",
       "            '<tr>' +\n",
       "                '<th style=\"text-align:center\">Stage</th>' +\n",
       "                '<th style=\"text-align:center\">Progress</th>' +\n",
       "                '<th style=\"text-align:center\">Executor</th>' +\n",
       "                '<th style=\"text-align:center\">Details</th>' +\n",
       "            '</tr>' +\n",
       "        '</thead>' +\n",
       "        '<tbody>' + \n",
       "        \n",
       "            '<tr>        <td style=\"max-width:200px\">            Stage 28 <span id=\"progressNumTaskb9dd77e928\">0</span>/11:        </td>        <td style=\"max-width: 300px\">            <progress id=\"progressb9dd77e928\" max=\"11\" value=\"0\" style=\"width:200px\"></progress>        </td>        <td>            <span id=\"hostb9dd77e928\"></span>        </td>        <td>            <i title=\"org.apache.spark.rdd.RDD.<init>(RDD.scala:105)\\norg.apache.spark.api.python.PairwiseRDD.<init>(PythonRDD.scala:99)\\nsun.reflect.NativeConstructorAccessorImpl.newInstance0(Native Method)\\nsun.reflect.NativeConstructorAccessorImpl.newInstance(NativeConstructorAccessorImpl.java:62)\\nsun.reflect.DelegatingConstructorAccessorImpl.newInstance(DelegatingConstructorAccessorImpl.java:45)\\njava.lang.reflect.Constructor.newInstance(Constructor.java:423)\\npy4j.reflection.MethodInvoker.invoke(MethodInvoker.java:247)\\npy4j.reflection.ReflectionEngine.invoke(ReflectionEngine.java:357)\\npy4j.Gateway.invoke(Gateway.java:238)\\npy4j.commands.ConstructorCommand.invokeConstructor(ConstructorCommand.java:80)\\npy4j.commands.ConstructorCommand.execute(ConstructorCommand.java:69)\\npy4j.GatewayConnection.run(GatewayConnection.java:238)\\njava.lang.Thread.run(Thread.java:748)\" class=\"fa fa-info-circle\"></i>            <span id=\"statusb9dd77e928\">Not Started</span>        </td>    </tr>'+\n",
       "        \n",
       "            '<tr>        <td style=\"max-width:200px\">            Stage 35 <span id=\"progressNumTaskb9dd77e935\">0</span>/11:        </td>        <td style=\"max-width: 300px\">            <progress id=\"progressb9dd77e935\" max=\"11\" value=\"0\" style=\"width:200px\"></progress>        </td>        <td>            <span id=\"hostb9dd77e935\"></span>        </td>        <td>            <i title=\"org.apache.spark.sql.DataFrameWriter.csv(DataFrameWriter.scala:656)\\nsun.reflect.NativeMethodAccessorImpl.invoke0(Native Method)\\nsun.reflect.NativeMethodAccessorImpl.invoke(NativeMethodAccessorImpl.java:62)\\nsun.reflect.DelegatingMethodAccessorImpl.invoke(DelegatingMethodAccessorImpl.java:43)\\njava.lang.reflect.Method.invoke(Method.java:498)\\npy4j.reflection.MethodInvoker.invoke(MethodInvoker.java:244)\\npy4j.reflection.ReflectionEngine.invoke(ReflectionEngine.java:357)\\npy4j.Gateway.invoke(Gateway.java:282)\\npy4j.commands.AbstractCommand.invokeMethod(AbstractCommand.java:132)\\npy4j.commands.CallCommand.execute(CallCommand.java:79)\\npy4j.GatewayConnection.run(GatewayConnection.java:238)\\njava.lang.Thread.run(Thread.java:748)\" class=\"fa fa-info-circle\"></i>            <span id=\"statusb9dd77e935\">Not Started</span>        </td>    </tr>'+\n",
       "        \n",
       "            '<tr>        <td style=\"max-width:200px\">            Stage 36 <span id=\"progressNumTaskb9dd77e936\">0</span>/1:        </td>        <td style=\"max-width: 300px\">            <progress id=\"progressb9dd77e936\" max=\"1\" value=\"0\" style=\"width:200px\"></progress>        </td>        <td>            <span id=\"hostb9dd77e936\"></span>        </td>        <td>            <i title=\"org.apache.spark.sql.DataFrameWriter.csv(DataFrameWriter.scala:656)\\nsun.reflect.NativeMethodAccessorImpl.invoke0(Native Method)\\nsun.reflect.NativeMethodAccessorImpl.invoke(NativeMethodAccessorImpl.java:62)\\nsun.reflect.DelegatingMethodAccessorImpl.invoke(DelegatingMethodAccessorImpl.java:43)\\njava.lang.reflect.Method.invoke(Method.java:498)\\npy4j.reflection.MethodInvoker.invoke(MethodInvoker.java:244)\\npy4j.reflection.ReflectionEngine.invoke(ReflectionEngine.java:357)\\npy4j.Gateway.invoke(Gateway.java:282)\\npy4j.commands.AbstractCommand.invokeMethod(AbstractCommand.java:132)\\npy4j.commands.CallCommand.execute(CallCommand.java:79)\\npy4j.GatewayConnection.run(GatewayConnection.java:238)\\njava.lang.Thread.run(Thread.java:748)\" class=\"fa fa-info-circle\"></i>            <span id=\"statusb9dd77e936\">Not Started</span>        </td>    </tr>'+\n",
       "        \n",
       "        '</tbody>' +\n",
       "    '</table>' +\n",
       "'</div>'\n",
       ")\n",
       "\n",
       "$('.nav-tabs a[href=\"#menub9dd77e918\"]').tab('show');\n"
      ],
      "text/plain": [
       "<IPython.core.display.Javascript object>"
      ]
     },
     "metadata": {},
     "output_type": "display_data"
    },
    {
     "data": {
      "application/javascript": [
       "$(\"#statusb9dd77e935\").text(\"Submitted\")\n",
       "\n",
       "\n"
      ],
      "text/plain": [
       "<IPython.core.display.Javascript object>"
      ]
     },
     "metadata": {},
     "output_type": "display_data"
    },
    {
     "data": {
      "application/javascript": [
       "function incProgress(id){\n",
       "    var n = $(id);\n",
       "    n.attr(\"value\", parseInt( n.attr(\"value\")) + 1);\n",
       "}\n",
       "incProgress(\"#progressb9dd77e931\");\n",
       "incProgress(\"#pm_overallProgressb9dd77e9\");\n",
       "$(\"#progressNumTaskb9dd77e931\").text(\"10\");\n",
       "$(\"#statusb9dd77e931\").text(\"Running\")\n",
       "\n",
       "\n",
       "$(\"#hostb9dd77e931\").text(\"driver(localhost)\")\n",
       "\n"
      ],
      "text/plain": [
       "<IPython.core.display.Javascript object>"
      ]
     },
     "metadata": {},
     "output_type": "display_data"
    },
    {
     "data": {
      "application/javascript": [
       "function incProgress(id){\n",
       "    var n = $(id);\n",
       "    n.attr(\"value\", parseInt( n.attr(\"value\")) + 1);\n",
       "}\n",
       "incProgress(\"#progressb9dd77e931\");\n",
       "incProgress(\"#pm_overallProgressb9dd77e9\");\n",
       "$(\"#progressNumTaskb9dd77e931\").text(\"11\");\n",
       "$(\"#statusb9dd77e931\").text(\"Running\")\n",
       "\n",
       "\n",
       "$(\"#hostb9dd77e931\").text(\"driver(localhost)\")\n",
       "\n"
      ],
      "text/plain": [
       "<IPython.core.display.Javascript object>"
      ]
     },
     "metadata": {},
     "output_type": "display_data"
    },
    {
     "data": {
      "application/javascript": [
       "function incProgress(id){\n",
       "    var n = $(id);\n",
       "    n.attr(\"value\", parseInt( n.attr(\"value\")) + 1);\n",
       "}\n",
       "incProgress(\"#progressb9dd77e933\");\n",
       "incProgress(\"#pm_overallProgressb9dd77e9\");\n",
       "$(\"#progressNumTaskb9dd77e933\").text(\"1\");\n",
       "$(\"#statusb9dd77e933\").text(\"Running\")\n",
       "\n",
       "\n",
       "$(\"#hostb9dd77e933\").text(\"driver(localhost)\")\n",
       "\n",
       "$(\"#statusb9dd77e929\").text(\"Completed\")\n",
       "\n",
       "\n",
       "$(\"#statusb9dd77e930\").text(\"Submitted\")\n",
       "\n",
       "\n"
      ],
      "text/plain": [
       "<IPython.core.display.Javascript object>"
      ]
     },
     "metadata": {},
     "output_type": "display_data"
    },
    {
     "data": {
      "application/javascript": [
       "function incProgress(id){\n",
       "    var n = $(id);\n",
       "    n.attr(\"value\", parseInt( n.attr(\"value\")) + 1);\n",
       "}\n",
       "incProgress(\"#progressb9dd77e930\");\n",
       "incProgress(\"#pm_overallProgressb9dd77e9\");\n",
       "$(\"#progressNumTaskb9dd77e930\").text(\"1\");\n",
       "$(\"#statusb9dd77e930\").text(\"Running\")\n",
       "\n",
       "\n",
       "$(\"#hostb9dd77e930\").text(\"driver(localhost)\")\n",
       "\n"
      ],
      "text/plain": [
       "<IPython.core.display.Javascript object>"
      ]
     },
     "metadata": {},
     "output_type": "display_data"
    },
    {
     "data": {
      "application/javascript": [
       "function incProgress(id){\n",
       "    var n = $(id);\n",
       "    n.attr(\"value\", parseInt( n.attr(\"value\")) + 1);\n",
       "}\n",
       "incProgress(\"#progressb9dd77e933\");\n",
       "incProgress(\"#pm_overallProgressb9dd77e9\");\n",
       "$(\"#progressNumTaskb9dd77e933\").text(\"2\");\n",
       "$(\"#statusb9dd77e933\").text(\"Running\")\n",
       "\n",
       "\n",
       "$(\"#hostb9dd77e933\").text(\"driver(localhost)\")\n",
       "\n",
       "$(\"#statusb9dd77e930\").text(\"Completed\")\n",
       "\n",
       "\n",
       "$(\"#menub9dd77e915 [id^=statusb9dd77e9]\").each(function(){\n",
       "    if ($(this).text() == \"Not Started\"){\n",
       "        $(this).text(\"Skipped\");\n",
       "    }\n",
       "})\n",
       "\n",
       "var n = $(\"#pm_overallProgressb9dd77e9\");\n",
       "n.attr(\"value\", parseInt(n.attr(\"max\")))\n"
      ],
      "text/plain": [
       "<IPython.core.display.Javascript object>"
      ]
     },
     "metadata": {},
     "output_type": "display_data"
    },
    {
     "data": {
      "application/javascript": [
       "function incProgress(id){\n",
       "    var n = $(id);\n",
       "    n.attr(\"value\", parseInt( n.attr(\"value\")) + 1);\n",
       "}\n",
       "incProgress(\"#progressb9dd77e933\");\n",
       "incProgress(\"#pm_overallProgressb9dd77e9\");\n",
       "$(\"#progressNumTaskb9dd77e933\").text(\"3\");\n",
       "$(\"#statusb9dd77e933\").text(\"Running\")\n",
       "\n",
       "\n",
       "$(\"#hostb9dd77e933\").text(\"driver(localhost)\")\n",
       "\n"
      ],
      "text/plain": [
       "<IPython.core.display.Javascript object>"
      ]
     },
     "metadata": {},
     "output_type": "display_data"
    },
    {
     "data": {
      "application/javascript": [
       "function incProgress(id){\n",
       "    var n = $(id);\n",
       "    n.attr(\"value\", parseInt( n.attr(\"value\")) + 1);\n",
       "}\n",
       "incProgress(\"#progressb9dd77e933\");\n",
       "incProgress(\"#pm_overallProgressb9dd77e9\");\n",
       "$(\"#progressNumTaskb9dd77e933\").text(\"4\");\n",
       "$(\"#statusb9dd77e933\").text(\"Running\")\n",
       "\n",
       "\n",
       "$(\"#hostb9dd77e933\").text(\"driver(localhost)\")\n",
       "\n"
      ],
      "text/plain": [
       "<IPython.core.display.Javascript object>"
      ]
     },
     "metadata": {},
     "output_type": "display_data"
    },
    {
     "data": {
      "application/javascript": [
       "function incProgress(id){\n",
       "    var n = $(id);\n",
       "    n.attr(\"value\", parseInt( n.attr(\"value\")) + 1);\n",
       "}\n",
       "incProgress(\"#progressb9dd77e933\");\n",
       "incProgress(\"#pm_overallProgressb9dd77e9\");\n",
       "$(\"#progressNumTaskb9dd77e933\").text(\"5\");\n",
       "$(\"#statusb9dd77e933\").text(\"Running\")\n",
       "\n",
       "\n",
       "$(\"#hostb9dd77e933\").text(\"driver(localhost)\")\n",
       "\n"
      ],
      "text/plain": [
       "<IPython.core.display.Javascript object>"
      ]
     },
     "metadata": {},
     "output_type": "display_data"
    },
    {
     "data": {
      "application/javascript": [
       "function incProgress(id){\n",
       "    var n = $(id);\n",
       "    n.attr(\"value\", parseInt( n.attr(\"value\")) + 1);\n",
       "}\n",
       "incProgress(\"#progressb9dd77e933\");\n",
       "incProgress(\"#pm_overallProgressb9dd77e9\");\n",
       "$(\"#progressNumTaskb9dd77e933\").text(\"6\");\n",
       "$(\"#statusb9dd77e933\").text(\"Running\")\n",
       "\n",
       "\n",
       "$(\"#hostb9dd77e933\").text(\"driver(localhost)\")\n",
       "\n"
      ],
      "text/plain": [
       "<IPython.core.display.Javascript object>"
      ]
     },
     "metadata": {},
     "output_type": "display_data"
    },
    {
     "data": {
      "application/javascript": [
       "function incProgress(id){\n",
       "    var n = $(id);\n",
       "    n.attr(\"value\", parseInt( n.attr(\"value\")) + 1);\n",
       "}\n",
       "incProgress(\"#progressb9dd77e933\");\n",
       "incProgress(\"#pm_overallProgressb9dd77e9\");\n",
       "$(\"#progressNumTaskb9dd77e933\").text(\"7\");\n",
       "$(\"#statusb9dd77e933\").text(\"Running\")\n",
       "\n",
       "\n",
       "$(\"#hostb9dd77e933\").text(\"driver(localhost)\")\n",
       "\n"
      ],
      "text/plain": [
       "<IPython.core.display.Javascript object>"
      ]
     },
     "metadata": {},
     "output_type": "display_data"
    },
    {
     "data": {
      "application/javascript": [
       "function incProgress(id){\n",
       "    var n = $(id);\n",
       "    n.attr(\"value\", parseInt( n.attr(\"value\")) + 1);\n",
       "}\n",
       "incProgress(\"#progressb9dd77e933\");\n",
       "incProgress(\"#pm_overallProgressb9dd77e9\");\n",
       "$(\"#progressNumTaskb9dd77e933\").text(\"8\");\n",
       "$(\"#statusb9dd77e933\").text(\"Running\")\n",
       "\n",
       "\n",
       "$(\"#hostb9dd77e933\").text(\"driver(localhost)\")\n",
       "\n"
      ],
      "text/plain": [
       "<IPython.core.display.Javascript object>"
      ]
     },
     "metadata": {},
     "output_type": "display_data"
    },
    {
     "data": {
      "application/javascript": [
       "function incProgress(id){\n",
       "    var n = $(id);\n",
       "    n.attr(\"value\", parseInt( n.attr(\"value\")) + 1);\n",
       "}\n",
       "incProgress(\"#progressb9dd77e933\");\n",
       "incProgress(\"#pm_overallProgressb9dd77e9\");\n",
       "$(\"#progressNumTaskb9dd77e933\").text(\"9\");\n",
       "$(\"#statusb9dd77e933\").text(\"Running\")\n",
       "\n",
       "\n",
       "$(\"#hostb9dd77e933\").text(\"driver(localhost)\")\n",
       "\n"
      ],
      "text/plain": [
       "<IPython.core.display.Javascript object>"
      ]
     },
     "metadata": {},
     "output_type": "display_data"
    },
    {
     "data": {
      "application/javascript": [
       "function incProgress(id){\n",
       "    var n = $(id);\n",
       "    n.attr(\"value\", parseInt( n.attr(\"value\")) + 1);\n",
       "}\n",
       "incProgress(\"#progressb9dd77e933\");\n",
       "incProgress(\"#pm_overallProgressb9dd77e9\");\n",
       "$(\"#progressNumTaskb9dd77e933\").text(\"10\");\n",
       "$(\"#statusb9dd77e933\").text(\"Running\")\n",
       "\n",
       "\n",
       "$(\"#hostb9dd77e933\").text(\"driver(localhost)\")\n",
       "\n"
      ],
      "text/plain": [
       "<IPython.core.display.Javascript object>"
      ]
     },
     "metadata": {},
     "output_type": "display_data"
    },
    {
     "data": {
      "application/javascript": [
       "function incProgress(id){\n",
       "    var n = $(id);\n",
       "    n.attr(\"value\", parseInt( n.attr(\"value\")) + 1);\n",
       "}\n",
       "incProgress(\"#progressb9dd77e933\");\n",
       "incProgress(\"#pm_overallProgressb9dd77e9\");\n",
       "$(\"#progressNumTaskb9dd77e933\").text(\"11\");\n",
       "$(\"#statusb9dd77e933\").text(\"Running\")\n",
       "\n",
       "\n",
       "$(\"#hostb9dd77e933\").text(\"driver(localhost)\")\n",
       "\n"
      ],
      "text/plain": [
       "<IPython.core.display.Javascript object>"
      ]
     },
     "metadata": {},
     "output_type": "display_data"
    },
    {
     "data": {
      "application/javascript": [
       "$(\"#statusb9dd77e931\").text(\"Completed\")\n",
       "\n",
       "\n",
       "$(\"#statusb9dd77e932\").text(\"Submitted\")\n",
       "\n",
       "\n"
      ],
      "text/plain": [
       "<IPython.core.display.Javascript object>"
      ]
     },
     "metadata": {},
     "output_type": "display_data"
    },
    {
     "data": {
      "application/javascript": [
       "function incProgress(id){\n",
       "    var n = $(id);\n",
       "    n.attr(\"value\", parseInt( n.attr(\"value\")) + 1);\n",
       "}\n",
       "incProgress(\"#progressb9dd77e932\");\n",
       "incProgress(\"#pm_overallProgressb9dd77e9\");\n",
       "$(\"#progressNumTaskb9dd77e932\").text(\"1\");\n",
       "$(\"#statusb9dd77e932\").text(\"Running\")\n",
       "\n",
       "\n",
       "$(\"#hostb9dd77e932\").text(\"driver(localhost)\")\n",
       "\n"
      ],
      "text/plain": [
       "<IPython.core.display.Javascript object>"
      ]
     },
     "metadata": {},
     "output_type": "display_data"
    },
    {
     "data": {
      "application/javascript": [
       "function incProgress(id){\n",
       "    var n = $(id);\n",
       "    n.attr(\"value\", parseInt( n.attr(\"value\")) + 1);\n",
       "}\n",
       "incProgress(\"#progressb9dd77e935\");\n",
       "incProgress(\"#pm_overallProgressb9dd77e9\");\n",
       "$(\"#progressNumTaskb9dd77e935\").text(\"1\");\n",
       "$(\"#statusb9dd77e935\").text(\"Running\")\n",
       "\n",
       "\n",
       "$(\"#hostb9dd77e935\").text(\"driver(localhost)\")\n",
       "\n",
       "$(\"#statusb9dd77e932\").text(\"Completed\")\n",
       "\n",
       "\n",
       "$(\"#menub9dd77e916 [id^=statusb9dd77e9]\").each(function(){\n",
       "    if ($(this).text() == \"Not Started\"){\n",
       "        $(this).text(\"Skipped\");\n",
       "    }\n",
       "})\n",
       "\n",
       "var n = $(\"#pm_overallProgressb9dd77e9\");\n",
       "n.attr(\"value\", parseInt(n.attr(\"max\")))\n"
      ],
      "text/plain": [
       "<IPython.core.display.Javascript object>"
      ]
     },
     "metadata": {},
     "output_type": "display_data"
    },
    {
     "data": {
      "application/javascript": [
       "function incProgress(id){\n",
       "    var n = $(id);\n",
       "    n.attr(\"value\", parseInt( n.attr(\"value\")) + 1);\n",
       "}\n",
       "incProgress(\"#progressb9dd77e935\");\n",
       "incProgress(\"#pm_overallProgressb9dd77e9\");\n",
       "$(\"#progressNumTaskb9dd77e935\").text(\"2\");\n",
       "$(\"#statusb9dd77e935\").text(\"Running\")\n",
       "\n",
       "\n",
       "$(\"#hostb9dd77e935\").text(\"driver(localhost)\")\n",
       "\n"
      ],
      "text/plain": [
       "<IPython.core.display.Javascript object>"
      ]
     },
     "metadata": {},
     "output_type": "display_data"
    },
    {
     "data": {
      "application/javascript": [
       "function incProgress(id){\n",
       "    var n = $(id);\n",
       "    n.attr(\"value\", parseInt( n.attr(\"value\")) + 1);\n",
       "}\n",
       "incProgress(\"#progressb9dd77e935\");\n",
       "incProgress(\"#pm_overallProgressb9dd77e9\");\n",
       "$(\"#progressNumTaskb9dd77e935\").text(\"3\");\n",
       "$(\"#statusb9dd77e935\").text(\"Running\")\n",
       "\n",
       "\n",
       "$(\"#hostb9dd77e935\").text(\"driver(localhost)\")\n",
       "\n"
      ],
      "text/plain": [
       "<IPython.core.display.Javascript object>"
      ]
     },
     "metadata": {},
     "output_type": "display_data"
    },
    {
     "data": {
      "application/javascript": [
       "function incProgress(id){\n",
       "    var n = $(id);\n",
       "    n.attr(\"value\", parseInt( n.attr(\"value\")) + 1);\n",
       "}\n",
       "incProgress(\"#progressb9dd77e935\");\n",
       "incProgress(\"#pm_overallProgressb9dd77e9\");\n",
       "$(\"#progressNumTaskb9dd77e935\").text(\"4\");\n",
       "$(\"#statusb9dd77e935\").text(\"Running\")\n",
       "\n",
       "\n",
       "$(\"#hostb9dd77e935\").text(\"driver(localhost)\")\n",
       "\n"
      ],
      "text/plain": [
       "<IPython.core.display.Javascript object>"
      ]
     },
     "metadata": {},
     "output_type": "display_data"
    },
    {
     "data": {
      "application/javascript": [
       "function incProgress(id){\n",
       "    var n = $(id);\n",
       "    n.attr(\"value\", parseInt( n.attr(\"value\")) + 1);\n",
       "}\n",
       "incProgress(\"#progressb9dd77e935\");\n",
       "incProgress(\"#pm_overallProgressb9dd77e9\");\n",
       "$(\"#progressNumTaskb9dd77e935\").text(\"5\");\n",
       "$(\"#statusb9dd77e935\").text(\"Running\")\n",
       "\n",
       "\n",
       "$(\"#hostb9dd77e935\").text(\"driver(localhost)\")\n",
       "\n"
      ],
      "text/plain": [
       "<IPython.core.display.Javascript object>"
      ]
     },
     "metadata": {},
     "output_type": "display_data"
    },
    {
     "data": {
      "application/javascript": [
       "function incProgress(id){\n",
       "    var n = $(id);\n",
       "    n.attr(\"value\", parseInt( n.attr(\"value\")) + 1);\n",
       "}\n",
       "incProgress(\"#progressb9dd77e935\");\n",
       "incProgress(\"#pm_overallProgressb9dd77e9\");\n",
       "$(\"#progressNumTaskb9dd77e935\").text(\"6\");\n",
       "$(\"#statusb9dd77e935\").text(\"Running\")\n",
       "\n",
       "\n",
       "$(\"#hostb9dd77e935\").text(\"driver(localhost)\")\n",
       "\n"
      ],
      "text/plain": [
       "<IPython.core.display.Javascript object>"
      ]
     },
     "metadata": {},
     "output_type": "display_data"
    },
    {
     "data": {
      "application/javascript": [
       "function incProgress(id){\n",
       "    var n = $(id);\n",
       "    n.attr(\"value\", parseInt( n.attr(\"value\")) + 1);\n",
       "}\n",
       "incProgress(\"#progressb9dd77e935\");\n",
       "incProgress(\"#pm_overallProgressb9dd77e9\");\n",
       "$(\"#progressNumTaskb9dd77e935\").text(\"7\");\n",
       "$(\"#statusb9dd77e935\").text(\"Running\")\n",
       "\n",
       "\n",
       "$(\"#hostb9dd77e935\").text(\"driver(localhost)\")\n",
       "\n"
      ],
      "text/plain": [
       "<IPython.core.display.Javascript object>"
      ]
     },
     "metadata": {},
     "output_type": "display_data"
    },
    {
     "data": {
      "application/javascript": [
       "function incProgress(id){\n",
       "    var n = $(id);\n",
       "    n.attr(\"value\", parseInt( n.attr(\"value\")) + 1);\n",
       "}\n",
       "incProgress(\"#progressb9dd77e935\");\n",
       "incProgress(\"#pm_overallProgressb9dd77e9\");\n",
       "$(\"#progressNumTaskb9dd77e935\").text(\"8\");\n",
       "$(\"#statusb9dd77e935\").text(\"Running\")\n",
       "\n",
       "\n",
       "$(\"#hostb9dd77e935\").text(\"driver(localhost)\")\n",
       "\n"
      ],
      "text/plain": [
       "<IPython.core.display.Javascript object>"
      ]
     },
     "metadata": {},
     "output_type": "display_data"
    },
    {
     "data": {
      "application/javascript": [
       "function incProgress(id){\n",
       "    var n = $(id);\n",
       "    n.attr(\"value\", parseInt( n.attr(\"value\")) + 1);\n",
       "}\n",
       "incProgress(\"#progressb9dd77e935\");\n",
       "incProgress(\"#pm_overallProgressb9dd77e9\");\n",
       "$(\"#progressNumTaskb9dd77e935\").text(\"9\");\n",
       "$(\"#statusb9dd77e935\").text(\"Running\")\n",
       "\n",
       "\n",
       "$(\"#hostb9dd77e935\").text(\"driver(localhost)\")\n",
       "\n"
      ],
      "text/plain": [
       "<IPython.core.display.Javascript object>"
      ]
     },
     "metadata": {},
     "output_type": "display_data"
    },
    {
     "data": {
      "application/javascript": [
       "function incProgress(id){\n",
       "    var n = $(id);\n",
       "    n.attr(\"value\", parseInt( n.attr(\"value\")) + 1);\n",
       "}\n",
       "incProgress(\"#progressb9dd77e935\");\n",
       "incProgress(\"#pm_overallProgressb9dd77e9\");\n",
       "$(\"#progressNumTaskb9dd77e935\").text(\"10\");\n",
       "$(\"#statusb9dd77e935\").text(\"Running\")\n",
       "\n",
       "\n",
       "$(\"#hostb9dd77e935\").text(\"driver(localhost)\")\n",
       "\n"
      ],
      "text/plain": [
       "<IPython.core.display.Javascript object>"
      ]
     },
     "metadata": {},
     "output_type": "display_data"
    },
    {
     "data": {
      "application/javascript": [
       "function incProgress(id){\n",
       "    var n = $(id);\n",
       "    n.attr(\"value\", parseInt( n.attr(\"value\")) + 1);\n",
       "}\n",
       "incProgress(\"#progressb9dd77e935\");\n",
       "incProgress(\"#pm_overallProgressb9dd77e9\");\n",
       "$(\"#progressNumTaskb9dd77e935\").text(\"11\");\n",
       "$(\"#statusb9dd77e935\").text(\"Running\")\n",
       "\n",
       "\n",
       "$(\"#hostb9dd77e935\").text(\"driver(localhost)\")\n",
       "\n"
      ],
      "text/plain": [
       "<IPython.core.display.Javascript object>"
      ]
     },
     "metadata": {},
     "output_type": "display_data"
    },
    {
     "data": {
      "application/javascript": [
       "$(\"#statusb9dd77e933\").text(\"Completed\")\n",
       "\n",
       "\n",
       "$(\"#statusb9dd77e934\").text(\"Submitted\")\n",
       "\n",
       "\n",
       "function incProgress(id){\n",
       "    var n = $(id);\n",
       "    n.attr(\"value\", parseInt( n.attr(\"value\")) + 1);\n",
       "}\n",
       "incProgress(\"#progressb9dd77e934\");\n",
       "incProgress(\"#pm_overallProgressb9dd77e9\");\n",
       "$(\"#progressNumTaskb9dd77e934\").text(\"1\");\n",
       "$(\"#statusb9dd77e934\").text(\"Running\")\n",
       "\n",
       "\n",
       "$(\"#hostb9dd77e934\").text(\"driver(localhost)\")\n",
       "\n"
      ],
      "text/plain": [
       "<IPython.core.display.Javascript object>"
      ]
     },
     "metadata": {},
     "output_type": "display_data"
    },
    {
     "data": {
      "application/javascript": [
       "$(\"#statusb9dd77e934\").text(\"Completed\")\n",
       "\n",
       "\n"
      ],
      "text/plain": [
       "<IPython.core.display.Javascript object>"
      ]
     },
     "metadata": {},
     "output_type": "display_data"
    },
    {
     "data": {
      "application/javascript": [
       "$(\"#menub9dd77e917 [id^=statusb9dd77e9]\").each(function(){\n",
       "    if ($(this).text() == \"Not Started\"){\n",
       "        $(this).text(\"Skipped\");\n",
       "    }\n",
       "})\n",
       "\n",
       "var n = $(\"#pm_overallProgressb9dd77e9\");\n",
       "n.attr(\"value\", parseInt(n.attr(\"max\")))\n"
      ],
      "text/plain": [
       "<IPython.core.display.Javascript object>"
      ]
     },
     "metadata": {},
     "output_type": "display_data"
    },
    {
     "data": {
      "application/javascript": [
       "$(\"#statusb9dd77e935\").text(\"Completed\")\n",
       "\n",
       "\n"
      ],
      "text/plain": [
       "<IPython.core.display.Javascript object>"
      ]
     },
     "metadata": {},
     "output_type": "display_data"
    },
    {
     "data": {
      "application/javascript": [
       "$(\"#statusb9dd77e936\").text(\"Submitted\")\n",
       "\n",
       "\n",
       "function incProgress(id){\n",
       "    var n = $(id);\n",
       "    n.attr(\"value\", parseInt( n.attr(\"value\")) + 1);\n",
       "}\n",
       "incProgress(\"#progressb9dd77e936\");\n",
       "incProgress(\"#pm_overallProgressb9dd77e9\");\n",
       "$(\"#progressNumTaskb9dd77e936\").text(\"1\");\n",
       "$(\"#statusb9dd77e936\").text(\"Running\")\n",
       "\n",
       "\n",
       "$(\"#hostb9dd77e936\").text(\"driver(localhost)\")\n",
       "\n"
      ],
      "text/plain": [
       "<IPython.core.display.Javascript object>"
      ]
     },
     "metadata": {},
     "output_type": "display_data"
    },
    {
     "data": {
      "application/javascript": [
       "$(\"#statusb9dd77e936\").text(\"Completed\")\n",
       "\n",
       "\n"
      ],
      "text/plain": [
       "<IPython.core.display.Javascript object>"
      ]
     },
     "metadata": {},
     "output_type": "display_data"
    },
    {
     "data": {
      "application/javascript": [
       "$(\"#menub9dd77e918 [id^=statusb9dd77e9]\").each(function(){\n",
       "    if ($(this).text() == \"Not Started\"){\n",
       "        $(this).text(\"Skipped\");\n",
       "    }\n",
       "})\n",
       "\n",
       "var n = $(\"#pm_overallProgressb9dd77e9\");\n",
       "n.attr(\"value\", parseInt(n.attr(\"max\")))\n"
      ],
      "text/plain": [
       "<IPython.core.display.Javascript object>"
      ]
     },
     "metadata": {},
     "output_type": "display_data"
    }
   ],
   "source": [
    "clusters_df.filter(\"cluster_id != -1\").repartition(1).write.mode('overwrite')       \\\n",
    "    .csv(\"/work/datascience/data/urbs-dbscan/\", sep=';',header=True)"
   ]
  },
  {
   "cell_type": "code",
   "execution_count": null,
   "metadata": {},
   "outputs": [],
   "source": [
    "sc.stop()"
   ]
  }
 ],
 "metadata": {
  "kernelspec": {
   "display_name": "pixiedust-spark-2.4",
   "language": "python",
   "name": "pixiedustspark24"
  },
  "language_info": {
   "codemirror_mode": {
    "name": "ipython",
    "version": 3
   },
   "file_extension": ".py",
   "mimetype": "text/x-python",
   "name": "python",
   "nbconvert_exporter": "python",
   "pygments_lexer": "ipython3",
   "version": "3.6.4"
  }
 },
 "nbformat": 4,
 "nbformat_minor": 2
}
