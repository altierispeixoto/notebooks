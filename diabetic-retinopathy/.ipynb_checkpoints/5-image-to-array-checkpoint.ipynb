{
 "cells": [
  {
   "cell_type": "code",
   "execution_count": null,
   "metadata": {},
   "outputs": [],
   "source": [
    "import time\n",
    "\n",
    "import numpy as np\n",
    "import pandas as pd\n",
    "from PIL import Image"
   ]
  },
  {
   "cell_type": "code",
   "execution_count": null,
   "metadata": {},
   "outputs": [],
   "source": [
    "resized_train_path = '../../data/diabetic-retinopathy/train-resized-256/'"
   ]
  },
  {
   "cell_type": "code",
   "execution_count": null,
   "metadata": {},
   "outputs": [],
   "source": [
    "def change_image_name(df, column):\n",
    "    \"\"\"\n",
    "    Appends the suffix '.jpeg' for all image names in the DataFrame\n",
    "\n",
    "    INPUT\n",
    "        df: Pandas DataFrame, including columns to be altered.\n",
    "        column: The column that will be changed. Takes a string input.\n",
    "\n",
    "    OUTPUT\n",
    "        Pandas DataFrame, with a single column changed to include the\n",
    "        aforementioned suffix.\n",
    "    \"\"\"\n",
    "    return [i + '.jpeg' for i in df[column]]\n",
    "\n",
    "\n",
    "def convert_images_to_arrays_train(file_path, df):\n",
    "    \"\"\"\n",
    "    Converts each image to an array, and appends each array to a new NumPy\n",
    "    array, based on the image column equaling the image file name.\n",
    "\n",
    "    INPUT\n",
    "        file_path: Specified file path for resized test and train images.\n",
    "        df: Pandas DataFrame being used to assist file imports.\n",
    "\n",
    "    OUTPUT\n",
    "        NumPy array of image arrays.\n",
    "    \"\"\"\n",
    "\n",
    "    lst_imgs = [l for l in df['train_image_name']]\n",
    "\n",
    "    return np.array([np.array(Image.open(file_path + img)) for img in lst_imgs])\n",
    "\n",
    "\n",
    "def save_to_array(arr_name, arr_object):\n",
    "    \"\"\"\n",
    "    Saves data object as a NumPy file. Used for saving train and test arrays.\n",
    "\n",
    "    INPUT\n",
    "        arr_name: The name of the file you want to save.\n",
    "            This input takes a directory string.\n",
    "        arr_object: NumPy array of arrays. This object is saved as a NumPy file.\n",
    "\n",
    "    OUTPUT\n",
    "        NumPy array of image arrays\n",
    "    \"\"\"\n",
    "    return np.save(arr_name, arr_object)"
   ]
  },
  {
   "cell_type": "code",
   "execution_count": null,
   "metadata": {},
   "outputs": [],
   "source": [
    "# labels = pd.read_csv(\"trainLabels_master_256_v2.csv\")\n",
    "# X_train = convert_images_to_arrays_train(resized_train_path, labels)\n",
    "# print(X_train.shape)\n",
    "# print(\"Saving Train Array\")\n",
    "# save_to_array('X_train.npy', X_train)"
   ]
  },
  {
   "cell_type": "code",
   "execution_count": null,
   "metadata": {},
   "outputs": [],
   "source": [
    "labels = pd.read_csv(\"trainLabels_master_256_v2.csv\")\n",
    "\n",
    "df_split = np.array_split(labels, 2)"
   ]
  },
  {
   "cell_type": "code",
   "execution_count": null,
   "metadata": {},
   "outputs": [],
   "source": [
    "df_split[0].to_csv(\"0X_trainLabels_master_256_v2.csv\",index=False)\n",
    "df_split[1].to_csv(\"1X_trainLabels_master_256_v2.csv\",index=False)\n",
    "# df_split[2].to_csv(\"2X_trainLabels_master_256_v2.csv\",index=False)\n",
    "# df_split[3].to_csv(\"3X_trainLabels_master_256_v2.csv\",index=False)\n",
    "# df_split[4].to_csv(\"4X_trainLabels_master_256_v2.csv\",index=False)"
   ]
  },
  {
   "cell_type": "code",
   "execution_count": null,
   "metadata": {},
   "outputs": [],
   "source": [
    "start_time = time.time()\n",
    "\n",
    "labels = pd.read_csv(\"trainLabels_master_256_v2.csv\")\n",
    "\n",
    "df_split = np.array_split(labels, 2)\n",
    "print(\"Writing Train Array\")\n",
    "\n",
    "for i in range(0,len(df_split)):\n",
    "    X_train = convert_images_to_arrays_train(resized_train_path, df_split[i])\n",
    "\n",
    "    print(X_train.shape)\n",
    "\n",
    "    print(\"Saving Train Array\")\n",
    "    save_to_array(str(i)+'X_train.npy', X_train)\n",
    "\n",
    "print(\"--- %s seconds ---\" % (time.time() - start_time))"
   ]
  },
  {
   "cell_type": "code",
   "execution_count": null,
   "metadata": {},
   "outputs": [],
   "source": [
    "del X_train"
   ]
  },
  {
   "cell_type": "code",
   "execution_count": null,
   "metadata": {},
   "outputs": [],
   "source": [
    "import numpy as np\n",
    "X_train0 = np.load('0X_train.npy')"
   ]
  },
  {
   "cell_type": "code",
   "execution_count": null,
   "metadata": {},
   "outputs": [],
   "source": [
    "X_train0.shape"
   ]
  },
  {
   "cell_type": "code",
   "execution_count": null,
   "metadata": {},
   "outputs": [],
   "source": [
    "X_train1 = np.load('1X_train.npy')"
   ]
  },
  {
   "cell_type": "code",
   "execution_count": null,
   "metadata": {},
   "outputs": [],
   "source": [
    "X_train1.shape"
   ]
  },
  {
   "cell_type": "code",
   "execution_count": null,
   "metadata": {},
   "outputs": [],
   "source": [
    "x_train = np.concatenate([X_train0,X_train1])"
   ]
  },
  {
   "cell_type": "code",
   "execution_count": null,
   "metadata": {},
   "outputs": [],
   "source": [
    "save_to_array('x_train.npy', x_train)"
   ]
  },
  {
   "cell_type": "raw",
   "metadata": {},
   "source": [
    "https://towardsdatascience.com/why-you-should-start-using-npy-file-more-often-df2a13cc0161"
   ]
  }
 ],
 "metadata": {
  "kernelspec": {
   "display_name": "Python 3",
   "language": "python",
   "name": "python3"
  },
  "language_info": {
   "codemirror_mode": {
    "name": "ipython",
    "version": 3
   },
   "file_extension": ".py",
   "mimetype": "text/x-python",
   "name": "python",
   "nbconvert_exporter": "python",
   "pygments_lexer": "ipython3",
   "version": "3.6.4"
  }
 },
 "nbformat": 4,
 "nbformat_minor": 2
}
