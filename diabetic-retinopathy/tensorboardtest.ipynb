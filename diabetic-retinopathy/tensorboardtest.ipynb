{
 "cells": [
  {
   "cell_type": "code",
   "execution_count": 6,
   "metadata": {},
   "outputs": [],
   "source": [
    "## Import the library\n",
    "import tensorflow as tf\n",
    "import numpy as np"
   ]
  },
  {
   "cell_type": "code",
   "execution_count": 7,
   "metadata": {},
   "outputs": [
    {
     "data": {
      "text/plain": [
       "(10000, 5)"
      ]
     },
     "execution_count": 7,
     "metadata": {},
     "output_type": "execute_result"
    }
   ],
   "source": [
    "X_train = (np.random.sample((10000,5)))\n",
    "y_train =  (np.random.sample((10000,1)))\n",
    "X_train.shape"
   ]
  },
  {
   "cell_type": "code",
   "execution_count": 8,
   "metadata": {},
   "outputs": [
    {
     "name": "stdout",
     "output_type": "stream",
     "text": [
      "INFO:tensorflow:Using default config.\n",
      "INFO:tensorflow:Using config: {'_model_dir': '../logs/tensorboardtest', '_tf_random_seed': None, '_save_summary_steps': 100, '_save_checkpoints_steps': None, '_save_checkpoints_secs': 600, '_session_config': None, '_keep_checkpoint_max': 5, '_keep_checkpoint_every_n_hours': 10000, '_log_step_count_steps': 100, '_train_distribute': None, '_service': None, '_cluster_spec': <tensorflow.python.training.server_lib.ClusterSpec object at 0x7f7851370ac8>, '_task_type': 'worker', '_task_id': 0, '_global_id_in_cluster': 0, '_master': '', '_evaluation_master': '', '_is_chief': True, '_num_ps_replicas': 0, '_num_worker_replicas': 1}\n"
     ]
    }
   ],
   "source": [
    "feature_columns = [\n",
    "      tf.feature_column.numeric_column('x', shape=X_train.shape[1:])]\n",
    "DNN_reg = tf.estimator.DNNRegressor(feature_columns=feature_columns,\n",
    "# Indicate where to store the log file    \n",
    "     model_dir='../logs/tensorboardtest',    \n",
    "     hidden_units=[500, 300],    \n",
    "     optimizer=tf.train.ProximalAdagradOptimizer(      \n",
    "          learning_rate=0.1,      \n",
    "          l1_regularization_strength=0.001    \n",
    "      )\n",
    ")"
   ]
  },
  {
   "cell_type": "code",
   "execution_count": 9,
   "metadata": {},
   "outputs": [
    {
     "name": "stdout",
     "output_type": "stream",
     "text": [
      "INFO:tensorflow:Calling model_fn.\n",
      "INFO:tensorflow:Done calling model_fn.\n",
      "INFO:tensorflow:Create CheckpointSaverHook.\n",
      "INFO:tensorflow:Graph was finalized.\n",
      "INFO:tensorflow:Running local_init_op.\n",
      "INFO:tensorflow:Done running local_init_op.\n",
      "INFO:tensorflow:Saving checkpoints for 1 into ../logs/tensorboardtest/model.ckpt.\n",
      "INFO:tensorflow:loss = 35.933914, step = 0\n",
      "INFO:tensorflow:global_step/sec: 301.53\n",
      "INFO:tensorflow:loss = 12.496244, step = 100 (0.332 sec)\n",
      "INFO:tensorflow:global_step/sec: 450.277\n",
      "INFO:tensorflow:loss = 11.274, step = 200 (0.222 sec)\n",
      "INFO:tensorflow:global_step/sec: 458.88\n",
      "INFO:tensorflow:loss = 10.636595, step = 300 (0.218 sec)\n",
      "INFO:tensorflow:global_step/sec: 445.251\n",
      "INFO:tensorflow:loss = 11.00806, step = 400 (0.225 sec)\n",
      "INFO:tensorflow:global_step/sec: 453.416\n",
      "INFO:tensorflow:loss = 9.588061, step = 500 (0.220 sec)\n",
      "INFO:tensorflow:global_step/sec: 447.541\n",
      "INFO:tensorflow:loss = 12.182606, step = 600 (0.223 sec)\n",
      "INFO:tensorflow:global_step/sec: 445.149\n",
      "INFO:tensorflow:loss = 10.955887, step = 700 (0.225 sec)\n",
      "INFO:tensorflow:global_step/sec: 457.356\n",
      "INFO:tensorflow:loss = 11.294293, step = 800 (0.219 sec)\n",
      "INFO:tensorflow:global_step/sec: 459.91\n",
      "INFO:tensorflow:loss = 10.795309, step = 900 (0.217 sec)\n",
      "INFO:tensorflow:global_step/sec: 454.916\n",
      "INFO:tensorflow:loss = 10.428326, step = 1000 (0.220 sec)\n",
      "INFO:tensorflow:global_step/sec: 440.642\n",
      "INFO:tensorflow:loss = 10.911951, step = 1100 (0.227 sec)\n",
      "INFO:tensorflow:global_step/sec: 450.864\n",
      "INFO:tensorflow:loss = 10.545616, step = 1200 (0.222 sec)\n",
      "INFO:tensorflow:global_step/sec: 460.806\n",
      "INFO:tensorflow:loss = 10.552805, step = 1300 (0.217 sec)\n",
      "INFO:tensorflow:global_step/sec: 462.247\n",
      "INFO:tensorflow:loss = 10.989704, step = 1400 (0.216 sec)\n",
      "INFO:tensorflow:global_step/sec: 450.309\n",
      "INFO:tensorflow:loss = 9.85638, step = 1500 (0.222 sec)\n",
      "INFO:tensorflow:global_step/sec: 438.621\n",
      "INFO:tensorflow:loss = 12.007323, step = 1600 (0.228 sec)\n",
      "INFO:tensorflow:global_step/sec: 457.743\n",
      "INFO:tensorflow:loss = 9.715383, step = 1700 (0.219 sec)\n",
      "INFO:tensorflow:global_step/sec: 452.514\n",
      "INFO:tensorflow:loss = 9.282286, step = 1800 (0.221 sec)\n",
      "INFO:tensorflow:global_step/sec: 451.789\n",
      "INFO:tensorflow:loss = 10.461943, step = 1900 (0.221 sec)\n",
      "INFO:tensorflow:global_step/sec: 456.276\n",
      "INFO:tensorflow:loss = 11.120857, step = 2000 (0.219 sec)\n",
      "INFO:tensorflow:global_step/sec: 466.173\n",
      "INFO:tensorflow:loss = 11.539011, step = 2100 (0.214 sec)\n",
      "INFO:tensorflow:global_step/sec: 454.973\n",
      "INFO:tensorflow:loss = 9.734721, step = 2200 (0.220 sec)\n",
      "INFO:tensorflow:global_step/sec: 448.607\n",
      "INFO:tensorflow:loss = 11.492732, step = 2300 (0.223 sec)\n",
      "INFO:tensorflow:global_step/sec: 463.044\n",
      "INFO:tensorflow:loss = 10.848937, step = 2400 (0.216 sec)\n",
      "INFO:tensorflow:global_step/sec: 447.626\n",
      "INFO:tensorflow:loss = 10.780291, step = 2500 (0.223 sec)\n",
      "INFO:tensorflow:global_step/sec: 447.808\n",
      "INFO:tensorflow:loss = 11.678577, step = 2600 (0.223 sec)\n",
      "INFO:tensorflow:global_step/sec: 447.651\n",
      "INFO:tensorflow:loss = 10.84572, step = 2700 (0.223 sec)\n",
      "INFO:tensorflow:global_step/sec: 452.519\n",
      "INFO:tensorflow:loss = 10.629157, step = 2800 (0.221 sec)\n",
      "INFO:tensorflow:global_step/sec: 454.349\n",
      "INFO:tensorflow:loss = 11.049885, step = 2900 (0.220 sec)\n",
      "INFO:tensorflow:Saving checkpoints for 3000 into ../logs/tensorboardtest/model.ckpt.\n",
      "INFO:tensorflow:Loss for final step: 10.593134.\n"
     ]
    },
    {
     "data": {
      "text/plain": [
       "<tensorflow.python.estimator.canned.dnn.DNNRegressor at 0x7f78513709b0>"
      ]
     },
     "execution_count": 9,
     "metadata": {},
     "output_type": "execute_result"
    }
   ],
   "source": [
    "# Train the estimator\n",
    "train_input = tf.estimator.inputs.numpy_input_fn(    \n",
    "     x={\"x\": X_train},    \n",
    "     y=y_train, shuffle=False,num_epochs=None)\n",
    "DNN_reg.train(train_input,steps=3000) "
   ]
  }
 ],
 "metadata": {
  "kernelspec": {
   "display_name": "Python 3",
   "language": "python",
   "name": "python3"
  },
  "language_info": {
   "codemirror_mode": {
    "name": "ipython",
    "version": 3
   },
   "file_extension": ".py",
   "mimetype": "text/x-python",
   "name": "python",
   "nbconvert_exporter": "python",
   "pygments_lexer": "ipython3",
   "version": "3.6.4"
  }
 },
 "nbformat": 4,
 "nbformat_minor": 2
}
