{
 "cells": [
  {
   "cell_type": "markdown",
   "metadata": {},
   "source": [
    "### Sudeste"
   ]
  },
  {
   "cell_type": "code",
   "execution_count": null,
   "metadata": {},
   "outputs": [],
   "source": [
    "\n",
    "coords = sudeste[['latitude','longitude','causa_acidente','velocidade_via','data_inversa']]\n",
    "fig = folium.Figure()\n",
    "map_orgs = folium.Map(width=1500,height=1000,location=[-13, -51], zoom_start=5)\n",
    "MarkerClusterScript(coords.to_json(orient=\"records\"),callback=create_marker).add_to(map_orgs)\n",
    "map_orgs.add_to(fig)"
   ]
  },
  {
   "cell_type": "code",
   "execution_count": null,
   "metadata": {},
   "outputs": [],
   "source": [
    "b = sns.catplot(x=\"month\", hue=\"uf\", kind=\"count\",col=\"year\", data=sudeste)\n",
    "b.fig.set_size_inches(25,6)"
   ]
  },
  {
   "cell_type": "code",
   "execution_count": null,
   "metadata": {},
   "outputs": [],
   "source": [
    "sudeste_df = sudeste[(sudeste['uf'] == 'MG') & (sudeste['year'] == 2017)]\n",
    "a = sns.catplot(x=\"condicao_metereologica\", hue=\"causa_acidente\", kind=\"count\", data=sudeste_df,height=10,aspect=2)"
   ]
  },
  {
   "cell_type": "code",
   "execution_count": null,
   "metadata": {},
   "outputs": [],
   "source": [
    "sudeste_df = sudeste[(sudeste['uf'] == 'MG') & (sudeste['year'] == 2017)]\n",
    "\n",
    "sd = sudeste_df[['tipo_acidente','causa_acidente']]\n",
    "df.reset_index(drop = True, inplace = True)\n",
    "a = sns.pairplot(sd)"
   ]
  }
 ],
 "metadata": {
  "kernelspec": {
   "display_name": "Python 3",
   "language": "python",
   "name": "python3"
  },
  "language_info": {
   "codemirror_mode": {
    "name": "ipython",
    "version": 3
   },
   "file_extension": ".py",
   "mimetype": "text/x-python",
   "name": "python",
   "nbconvert_exporter": "python",
   "pygments_lexer": "ipython3",
   "version": "3.6.4"
  }
 },
 "nbformat": 4,
 "nbformat_minor": 2
}
