{
 "cells": [
  {
   "cell_type": "markdown",
   "metadata": {},
   "source": [
    "### **Exercícios**"
   ]
  },
  {
   "cell_type": "markdown",
   "metadata": {},
   "source": [
    "**1 - Os projetistas de um banco de dados para um sistema de informação querem desenvolver uma fórmula para prever o tempo gasto em uma operação de busca nos dados dos últimos X dias. O tempo real gasto foi medido para diferentes valores de X, conforme mostrado abaixo. Apresente uma fórmula e a sua avaliação para essa previsão.**\n",
    "\n",
    "Dias,Tempo\n",
    "\n",
    "1,0.65\n",
    "\n",
    "2,0.79\n",
    "\n",
    "4,1.36\n",
    "\n",
    "8,2.26\n",
    "\n",
    "16,3.59\n",
    "\n",
    "25,5.36"
   ]
  },
  {
   "cell_type": "code",
   "execution_count": 3,
   "metadata": {},
   "outputs": [
    {
     "name": "stdout",
     "output_type": "stream",
     "text": [
      "Estimated coefficients:\n",
      "b_0 = 1.2363636363636363 b_1 = 1.1696969696969697\n"
     ]
    },
    {
     "data": {
      "text/plain": [
       "<Figure size 640x480 with 1 Axes>"
      ]
     },
     "metadata": {},
     "output_type": "display_data"
    }
   ],
   "source": [
    "import numpy as np \n",
    "import matplotlib.pyplot as plt \n",
    "\n",
    "def estimate_coef(x, y): \n",
    "    # number of observations/points \n",
    "    n = np.size(x) \n",
    "\n",
    "    # mean of x and y vector \n",
    "    m_x, m_y = np.mean(x), np.mean(y) \n",
    "\n",
    "    # calculating cross-deviation and deviation about x \n",
    "    SS_xy = np.sum(y*x) - n*m_y*m_x \n",
    "    SS_xx = np.sum(x*x) - n*m_x*m_x \n",
    "\n",
    "    # calculating regression coefficients \n",
    "    b_1 = SS_xy / SS_xx \n",
    "    b_0 = m_y - b_1*m_x \n",
    "\n",
    "    return(b_0, b_1) \n",
    "\n",
    "def plot_regression_line(x, y, b): \n",
    "    # plotting the actual points as scatter plot \n",
    "    plt.scatter(x, y, color = \"m\",marker = \"o\", s = 30) \n",
    "\n",
    "    # predicted response vector \n",
    "    y_pred = b[0] + b[1]*x \n",
    "\n",
    "    # plotting the regression line \n",
    "    plt.plot(x, y_pred, color = \"g\") \n",
    "\n",
    "    # putting labels \n",
    "    plt.xlabel('x') \n",
    "    plt.ylabel('y') \n",
    "\n",
    "    # function to show plot \n",
    "    plt.show() \n",
    "\n",
    "def main(): \n",
    "    # observations \n",
    "    x = np.array([0, 1, 2, 3, 4, 5, 6, 7, 8, 9]) \n",
    "    y = np.array([1, 3, 2, 5, 7, 8, 8, 9, 10, 12]) \n",
    "\n",
    "    # estimating coefficients \n",
    "    b = estimate_coef(x, y) \n",
    "    print(\"Estimated coefficients:\\nb_0 = {} b_1 = {}\".format(b[0], b[1])) \n",
    "\n",
    "    # plotting regression line \n",
    "    plot_regression_line(x, y, b) \n",
    "\n",
    "if __name__ == \"__main__\": \n",
    "    main() \n"
   ]
  },
  {
   "cell_type": "markdown",
   "metadata": {},
   "source": [
    "**2- Descreva as métricas de avaliação de desempenho de modelos: Recall e F1-score.  \n",
    "Qual a vantagem sobre a acurácia e precisão?**"
   ]
  },
  {
   "cell_type": "code",
   "execution_count": null,
   "metadata": {},
   "outputs": [],
   "source": []
  },
  {
   "cell_type": "markdown",
   "metadata": {},
   "source": [
    "**3-  Utilize o dataset \"weather_nominal.csv\" disponível no moodle. Considere 70% das instâncias para treino e 30% para teste.  \n",
    "Construa um modelo utilizando árvore de decisão para prever se uma pessoa vai jogar golf ou não.  \n",
    "Qual o desempenho?  \n",
    "Tente melhorar esse modelo e descreva como.**"
   ]
  },
  {
   "cell_type": "code",
   "execution_count": null,
   "metadata": {},
   "outputs": [],
   "source": []
  }
 ],
 "metadata": {
  "kernelspec": {
   "display_name": "Python 3",
   "language": "python",
   "name": "python3"
  },
  "language_info": {
   "codemirror_mode": {
    "name": "ipython",
    "version": 3
   },
   "file_extension": ".py",
   "mimetype": "text/x-python",
   "name": "python",
   "nbconvert_exporter": "python",
   "pygments_lexer": "ipython3",
   "version": "3.7.1"
  }
 },
 "nbformat": 4,
 "nbformat_minor": 2
}
