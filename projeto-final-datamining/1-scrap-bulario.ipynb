{
 "cells": [
  {
   "cell_type": "code",
   "execution_count": null,
   "metadata": {},
   "outputs": [],
   "source": [
    "import os\n",
    "\n",
    "import wget\n",
    "import requests\n",
    "from bs4 import BeautifulSoup"
   ]
  },
  {
   "cell_type": "code",
   "execution_count": null,
   "metadata": {},
   "outputs": [],
   "source": [
    "page = requests.post(\"http://www.anvisa.gov.br/datavisa/fila_bula/frmResultado.asp#\", data={'hddPageAbsolute': 1})\n",
    "soup = BeautifulSoup(page.content, 'html.parser')"
   ]
  },
  {
   "cell_type": "code",
   "execution_count": null,
   "metadata": {},
   "outputs": [],
   "source": [
    "pgs = []\n",
    "for page in soup.find_all('label'):\n",
    "    pg = page.get('onclick')\n",
    "    if pg is not None:\n",
    "        pg = pg.replace(\"fPaginar\", \"\").replace(\"(\",\"\").replace(\")\",\"\").replace(\";\",\"\")\n",
    "        pgs.append(int(pg))"
   ]
  },
  {
   "cell_type": "code",
   "execution_count": null,
   "metadata": {},
   "outputs": [],
   "source": [
    "for i in range(1, max(pgs)+1):\n",
    "    page = requests.post(\"http://www.anvisa.gov.br/datavisa/fila_bula/frmResultado.asp#\", data={'hddPageAbsolute': i})\n",
    "    soup = BeautifulSoup(page.content, 'html.parser')\n",
    "    print(i)\n",
    "\n",
    "    try:\n",
    "        os.mkdir(\"data/\" + str(i))\n",
    "    except OSError:\n",
    "        print(\"Creation of the directory {} failed\".format(\"data/\" + str(i)))\n",
    "    else:\n",
    "        print(\"Successfully created the directory {} \".format(\"data/\" + str(i)))\n",
    "\n",
    "\n",
    "    for lk in soup.find_all('a'):\n",
    "        link = lk.get('onclick')\n",
    "        if link is not None:\n",
    "            params = tuple(link.replace(\"fVisualizarBula\", \"\").replace(\"(\",\"\").replace(\")\",\"\").replace(\"'\",\"\").split(\",\"))\n",
    "            print(params)\n",
    "            try:\n",
    "                url = \"http://www.anvisa.gov.br/datavisa/fila_bula/frmVisualizarBula.asp?pNuTransacao={}&pIdAnexo={}\"\\\n",
    "                    .format(params[0],int(params[1]))\n",
    "                print(url)\n",
    "                wget.download(url, \"data/\"+str(i)+\"/\"+str(i)+\"-\"+params[0]+\"-\"+str(int(params[1]))+'.pdf')\n",
    "            except Exception as e:\n",
    "                print(e)\n",
    "                pass"
   ]
  }
 ],
 "metadata": {
  "kernelspec": {
   "display_name": "Python 3",
   "language": "python",
   "name": "python3"
  },
  "language_info": {
   "codemirror_mode": {
    "name": "ipython",
    "version": 3
   },
   "file_extension": ".py",
   "mimetype": "text/x-python",
   "name": "python",
   "nbconvert_exporter": "python",
   "pygments_lexer": "ipython3",
   "version": "3.6.4"
  }
 },
 "nbformat": 4,
 "nbformat_minor": 2
}
