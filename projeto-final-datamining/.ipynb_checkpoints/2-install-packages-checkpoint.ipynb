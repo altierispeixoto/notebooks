{
 "cells": [
  {
   "cell_type": "code",
   "execution_count": 1,
   "metadata": {},
   "outputs": [
    {
     "name": "stdout",
     "output_type": "stream",
     "text": [
      "Collecting PyPDF2\n",
      "\u001b[?25l  Downloading https://files.pythonhosted.org/packages/b4/01/68fcc0d43daf4c6bdbc6b33cc3f77bda531c86b174cac56ef0ffdb96faab/PyPDF2-1.26.0.tar.gz (77kB)\n",
      "\u001b[K    100% |████████████████████████████████| 81kB 1.2MB/s \n",
      "\u001b[?25hBuilding wheels for collected packages: PyPDF2\n",
      "  Running setup.py bdist_wheel for PyPDF2 ... \u001b[?25ldone\n",
      "\u001b[?25h  Stored in directory: /home/master/.cache/pip/wheels/53/84/19/35bc977c8bf5f0c23a8a011aa958acd4da4bbd7a229315c1b7\n",
      "Successfully built PyPDF2\n",
      "Installing collected packages: PyPDF2\n",
      "Successfully installed PyPDF2-1.26.0\n"
     ]
    }
   ],
   "source": [
    "!pip install PyPDF2"
   ]
  },
  {
   "cell_type": "code",
   "execution_count": 7,
   "metadata": {},
   "outputs": [
    {
     "name": "stdout",
     "output_type": "stream",
     "text": [
      "Collecting textract\n",
      "Requirement already satisfied: argcomplete==1.8.2 in /home/master/anaconda3/lib/python3.6/site-packages (from textract) (1.8.2)\n",
      "Collecting pocketsphinx==0.1.3 (from textract)\n",
      "  Using cached https://files.pythonhosted.org/packages/93/5f/a968e5d53d25e32deb78c3e169fd8612ecf53cc76e32cb40e19be35696af/pocketsphinx-0.1.3.tar.bz2\n",
      "Requirement already satisfied: chardet==2.3.0 in /home/master/anaconda3/lib/python3.6/site-packages (from textract) (2.3.0)\n",
      "Requirement already satisfied: beautifulsoup4==4.5.3 in /home/master/anaconda3/lib/python3.6/site-packages (from textract) (4.5.3)\n",
      "Requirement already satisfied: python-pptx==0.6.5 in /home/master/anaconda3/lib/python3.6/site-packages (from textract) (0.6.5)\n",
      "Requirement already satisfied: EbookLib==0.15 in /home/master/anaconda3/lib/python3.6/site-packages (from textract) (0.15)\n",
      "Requirement already satisfied: SpeechRecognition==3.6.3 in /home/master/anaconda3/lib/python3.6/site-packages (from textract) (3.6.3)\n",
      "Requirement already satisfied: docx2txt==0.6 in /home/master/anaconda3/lib/python3.6/site-packages (from textract) (0.6)\n",
      "Requirement already satisfied: six==1.10.0 in /home/master/anaconda3/lib/python3.6/site-packages (from textract) (1.10.0)\n",
      "Requirement already satisfied: xlrd==1.0.0 in /home/master/anaconda3/lib/python3.6/site-packages (from textract) (1.0.0)\n",
      "Requirement already satisfied: lxml>=3.1.0 in /home/master/anaconda3/lib/python3.6/site-packages (from python-pptx==0.6.5->textract) (4.1.1)\n",
      "Requirement already satisfied: Pillow>=2.6.1 in /home/master/anaconda3/lib/python3.6/site-packages (from python-pptx==0.6.5->textract) (5.0.0)\n",
      "Requirement already satisfied: XlsxWriter>=0.5.7 in /home/master/anaconda3/lib/python3.6/site-packages (from python-pptx==0.6.5->textract) (1.0.2)\n",
      "Building wheels for collected packages: pocketsphinx\n",
      "  Running setup.py bdist_wheel for pocketsphinx ... \u001b[?25ldone\n",
      "\u001b[?25h  Stored in directory: /home/master/.cache/pip/wheels/38/80/4f/ddc3e8c2b788f2c7f1d625ae870f6bafd3038ff04a3445a2f8\n",
      "Successfully built pocketsphinx\n",
      "Installing collected packages: pocketsphinx, textract\n",
      "Successfully installed pocketsphinx-0.1.3 textract-1.6.1\n"
     ]
    }
   ],
   "source": [
    "!pip install textract"
   ]
  },
  {
   "cell_type": "code",
   "execution_count": 3,
   "metadata": {},
   "outputs": [
    {
     "name": "stdout",
     "output_type": "stream",
     "text": [
      "Requirement already satisfied: nltk in /home/master/anaconda3/lib/python3.6/site-packages (3.2.5)\n",
      "Requirement already satisfied: six in /home/master/anaconda3/lib/python3.6/site-packages (from nltk) (1.10.0)\n"
     ]
    }
   ],
   "source": [
    "!pip install nltk"
   ]
  }
 ],
 "metadata": {
  "kernelspec": {
   "display_name": "Python 3",
   "language": "python",
   "name": "python3"
  },
  "language_info": {
   "codemirror_mode": {
    "name": "ipython",
    "version": 3
   },
   "file_extension": ".py",
   "mimetype": "text/x-python",
   "name": "python",
   "nbconvert_exporter": "python",
   "pygments_lexer": "ipython3",
   "version": "3.6.4"
  }
 },
 "nbformat": 4,
 "nbformat_minor": 2
}
